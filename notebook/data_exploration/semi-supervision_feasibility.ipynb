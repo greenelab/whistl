{
 "cells": [
  {
   "cell_type": "markdown",
   "metadata": {},
   "source": [
    "# Semi-supervision Feasibility\n",
    "This notebook evaluates the data to see how much unlabeled blood data exists in the refine.bio human compendium. If enough exists, it will be important to evaluate whether semi-supervision helps model performance"
   ]
  },
  {
   "cell_type": "code",
   "execution_count": 1,
   "metadata": {},
   "outputs": [],
   "source": [
    "import collections\n",
    "import json\n",
    "import os\n",
    "import pickle\n",
    "from typing import Text, Dict, Union\n",
    "\n",
    "import pandas as pd\n",
    "\n",
    "from whistl import utils"
   ]
  },
  {
   "cell_type": "code",
   "execution_count": 2,
   "metadata": {},
   "outputs": [],
   "source": [
    "data_dir = '../../data/'\n",
    "map_file = os.path.join(data_dir, 'sample_classifications.pkl')\n",
    "\n",
    "sample_to_label = utils.parse_map_file(map_file)\n",
    "with open(map_file, 'rb') as in_file:\n",
    "    label_to_sample = pickle.load(in_file)[0]"
   ]
  },
  {
   "cell_type": "code",
   "execution_count": 3,
   "metadata": {},
   "outputs": [],
   "source": [
    "metadata_path = os.path.join(data_dir, 'human_compendium/aggregated_metadata.json')\n",
    "with open(metadata_path) as json_file:\n",
    "    metadata = json.load(json_file)"
   ]
  },
  {
   "cell_type": "code",
   "execution_count": 4,
   "metadata": {},
   "outputs": [],
   "source": [
    "def get_tissue(sample_metadata: Dict, sample: Text) -> Union[Text, None]:\n",
    "    '''Extract the tissue type for the given sample from the metadata\n",
    "       \n",
    "       Arguments:\n",
    "       sample_metadata: A dictionary containing metadata about all samples in the dataset\n",
    "       sample: The sample id\n",
    "       \n",
    "       Returns:\n",
    "       A string containing the tissue, if thatt information is present.\n",
    "       Otherwise returns None\n",
    "    '''\n",
    "    try:\n",
    "        characteristics = sample_metadata[sample]['refinebio_annotations'][0]['characteristics_ch1']\n",
    "        for characteristic in characteristics:\n",
    "            if 'tissue:' in characteristic:\n",
    "                tissue = characteristic.split(':')[1]\n",
    "                tissue = tissue.strip().lower()\n",
    "                return tissue\n",
    "            \n",
    "    # Catch exceptions caused by a field not being present\n",
    "    except KeyError:\n",
    "        return None\n",
    "    \n",
    "    # 'refinebio_annotations' is usually a length 1 list containing a dictionary.\n",
    "    # Sometimes it's a length 0 list indicating there aren't annotations\n",
    "    except IndexError:\n",
    "        return None"
   ]
  },
  {
   "cell_type": "code",
   "execution_count": 5,
   "metadata": {},
   "outputs": [],
   "source": [
    "sample_metadata = metadata['samples']\n",
    "\n",
    "tissues = []\n",
    "for sample in sample_metadata:\n",
    "    tissue = get_tissue(sample_metadata, sample)\n",
    "    if tissue is not None:\n",
    "        tissues.append(tissue)"
   ]
  },
  {
   "cell_type": "code",
   "execution_count": 6,
   "metadata": {},
   "outputs": [
    {
     "data": {
      "text/plain": [
       "[('blood', 8532),\n",
       " ('whole blood', 5988),\n",
       " ('peripheral blood', 5862),\n",
       " ('bone marrow', 3469),\n",
       " ('post-mortem brain', 2001)]"
      ]
     },
     "execution_count": 6,
     "metadata": {},
     "output_type": "execute_result"
    }
   ],
   "source": [
    "tissue_counts = collections.Counter(tissues)\n",
    "tissue_counts.most_common()[:5]"
   ]
  },
  {
   "cell_type": "code",
   "execution_count": 7,
   "metadata": {},
   "outputs": [
    {
     "data": {
      "text/plain": [
       "['33% blood and 67% breast',\n",
       " '67% blood and 33% breast',\n",
       " 'blood',\n",
       " 'blood (buffy coat)',\n",
       " 'blood (leukapheresis products)',\n",
       " 'blood cells',\n",
       " 'blood dendritic cells',\n",
       " 'blood ds1-derived ips clone, expressing 4 reprogramming factors (klf4, c-myc, sox2, and oct4)',\n",
       " 'blood leukocytes',\n",
       " 'blood monocytes',\n",
       " 'blood sample',\n",
       " 'blood vessel',\n",
       " 'blood vessels',\n",
       " 'blood, isolated leukocytes',\n",
       " 'bone marrow / peripheral blood',\n",
       " 'bone marrow or peripheral blood',\n",
       " 'bone marrow/blood >65% infiltration',\n",
       " 'cd4+ t cells from pbmc',\n",
       " 'cells from whole blood',\n",
       " 'cord blood',\n",
       " 'cord blood from newborn',\n",
       " 'cultured peripheral blood mononuclear cells',\n",
       " 'fresh venous blood anticoagulated with 50 g/ml thrombin-inhibitor lepirudin',\n",
       " 'healthy human blood',\n",
       " 'host peripheral blood',\n",
       " 'human umbilical cord blood',\n",
       " 'ipscs from human pbmc',\n",
       " 'leukemic cells obtained from bone marrow or blood at diagnosis',\n",
       " 'leukemic peripheral blood',\n",
       " 'leukocytes from whole blood',\n",
       " 'monocytes isolated from pbmc',\n",
       " 'mononuclear cells from peripheral blood or bone marrow',\n",
       " 'normal peripheral blood cells',\n",
       " 'pbmc',\n",
       " 'pbmcs',\n",
       " 'pbmcs ex vivo',\n",
       " 'peripheral blood',\n",
       " 'peripheral blood (pb)',\n",
       " 'peripheral blood cd4 t cells',\n",
       " 'peripheral blood cd4+ t cells',\n",
       " 'peripheral blood leucocytes',\n",
       " 'peripheral blood leukocytes',\n",
       " 'peripheral blood lymphocytes',\n",
       " 'peripheral blood mononuclear cell',\n",
       " 'peripheral blood mononuclear cell (pbmc)',\n",
       " 'peripheral blood mononuclear cells',\n",
       " 'peripheral blood mononuclear cells (pbmc)',\n",
       " 'peripheral blood mononuclear cells (pbmcs)',\n",
       " 'peripheral blood mononuclear cells (pbmcs) from healthy donors',\n",
       " 'peripheral blood neutrophils',\n",
       " 'peripheral blood or bone marrow',\n",
       " 'peripheral blood t cells',\n",
       " 'peripheral blood- isolated cd14 monocytes',\n",
       " 'peripheral blood- isolated cd1c+ dcs',\n",
       " 'peripheral maternal blood',\n",
       " 'peripheral whole blood',\n",
       " 'periphral blood',\n",
       " 'pheripheral blood',\n",
       " 'pooled whole blood rna of 4 samples',\n",
       " 'primary hspcs isolated from g-csf mobilized peripheral blood mononuclear cells from healthy donors',\n",
       " 'red blood cells',\n",
       " 't lymphocytes isolated from pbmc',\n",
       " 'term umbilical cord blood',\n",
       " 'total blood (leukocytes)',\n",
       " 'umbilical cord blood',\n",
       " 'umblical cord blood',\n",
       " 'white blood cells',\n",
       " 'whole blood',\n",
       " 'whole blood (wb)',\n",
       " 'whole blood, maternal peripheral',\n",
       " 'whole venous blood']"
      ]
     },
     "execution_count": 7,
     "metadata": {},
     "output_type": "execute_result"
    }
   ],
   "source": [
    "keys = tissue_counts.keys()\n",
    "blood_keys = []\n",
    "for key in keys:\n",
    "    if 'blood' in key or 'pbmc' in key:\n",
    "        blood_keys.append(key)\n",
    "sorted(blood_keys)"
   ]
  },
  {
   "cell_type": "code",
   "execution_count": 8,
   "metadata": {},
   "outputs": [],
   "source": [
    "# Keep whole blood and pbmcs, leave out samples containing a single cell type\n",
    "# Also leave out umbilical cord blood because it's not quite the same thing\n",
    "# https://pubmed.ncbi.nlm.nih.gov/12634410/\n",
    "keys_to_keep = ['blood',\n",
    "                'blood (buffy coat)',\n",
    "                'blood cells',\n",
    "                'blood monocytes',\n",
    "                'blood sample',\n",
    "                'cells from whole blood',\n",
    "                'fresh venous blood anticoagulated with 50 g/ml thrombin-inhibitor lepirudin',\n",
    "                'healthy human blood',\n",
    "                'host peripheral blood',\n",
    "                'leukemic peripheral blood',\n",
    "                'monocytes isolated from pbmc',\n",
    "                'normal peripheral blood cells',\n",
    "                'pbmc',\n",
    "                'pbmcs',\n",
    "                'peripheral blood',\n",
    "                'peripheral blood (pb)',\n",
    "                'peripheral blood mononuclear cell',\n",
    "                'peripheral blood mononuclear cell (pbmc)',\n",
    "                'peripheral blood mononuclear cells',\n",
    "                'peripheral blood mononuclear cells (pbmc)',\n",
    "                'peripheral blood mononuclear cells (pbmcs)',\n",
    "                'peripheral blood mononuclear cells (pbmcs) from healthy donors',\n",
    "                'peripheral maternal blood',\n",
    "                'peripheral whole blood',\n",
    "                'periphral blood',\n",
    "                'pheripheral blood',\n",
    "                'whole blood',\n",
    "                'whole blood (wb)',\n",
    "                'whole blood, maternal peripheral',\n",
    "                'whole venous blood'\n",
    "               ]"
   ]
  },
  {
   "cell_type": "code",
   "execution_count": 9,
   "metadata": {},
   "outputs": [],
   "source": [
    "blood_counts = dict((k, tissue_counts[k]) for k in keys_to_keep)"
   ]
  },
  {
   "cell_type": "code",
   "execution_count": 10,
   "metadata": {},
   "outputs": [
    {
     "data": {
      "text/plain": [
       "24517"
      ]
     },
     "execution_count": 10,
     "metadata": {},
     "output_type": "execute_result"
    }
   ],
   "source": [
    "total_samples = sum(blood_counts.values())\n",
    "total_samples"
   ]
  },
  {
   "cell_type": "markdown",
   "metadata": {},
   "source": [
    "## Count unlabeled blood cells\n",
    "~25k blood samples is around 3x as many samples as we have labeled. Let's find exactly how much overlap there is between these samples and our labeled samples"
   ]
  },
  {
   "cell_type": "code",
   "execution_count": 11,
   "metadata": {},
   "outputs": [
    {
     "name": "stdout",
     "output_type": "stream",
     "text": [
      "10727\n",
      "3237\n",
      "7490\n"
     ]
    }
   ],
   "source": [
    "labeled_samples = set(sample_to_label.keys())\n",
    "print(len(labeled_samples))\n",
    "\n",
    "# The label 'other' is given to samples whose disease or healthy\n",
    "# status could not be determined\n",
    "other_samples = set(label_to_sample['other'])\n",
    "print(len(other_samples))\n",
    "# Set difference\n",
    "labeled_samples = labeled_samples - other_samples\n",
    "print(len(labeled_samples))"
   ]
  },
  {
   "cell_type": "code",
   "execution_count": 13,
   "metadata": {},
   "outputs": [
    {
     "name": "stdout",
     "output_type": "stream",
     "text": [
      "19840 samples unlabeled\n",
      "7490 samples labeled\n"
     ]
    }
   ],
   "source": [
    "unlabeled_samples = []\n",
    "\n",
    "for sample in sample_metadata:\n",
    "    tissue = get_tissue(sample_metadata, sample)\n",
    "    if tissue in keys_to_keep and sample not in labeled_samples:\n",
    "        unlabeled_samples.append(sample)\n",
    "\n",
    "print('{} samples unlabeled'.format(len(unlabeled_samples)))\n",
    "print('{} samples labeled'.format(len(labeled_samples)))"
   ]
  },
  {
   "cell_type": "markdown",
   "metadata": {},
   "source": [
    "## Conclusion\n",
    "There is a large number of blood samples that don't have labels. These samples can be used for semi-supervised learning, and the number of unlabeled samples is large enough to make it worth trying."
   ]
  }
 ],
 "metadata": {
  "kernelspec": {
   "display_name": "whistl",
   "language": "python",
   "name": "whistl"
  },
  "language_info": {
   "codemirror_mode": {
    "name": "ipython",
    "version": 3
   },
   "file_extension": ".py",
   "mimetype": "text/x-python",
   "name": "python",
   "nbconvert_exporter": "python",
   "pygments_lexer": "ipython3",
   "version": "3.7.4"
  }
 },
 "nbformat": 4,
 "nbformat_minor": 2
}
