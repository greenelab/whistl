{
 "cells": [
  {
   "cell_type": "markdown",
   "metadata": {},
   "source": [
    "# IRM Analysis\n",
    "This notebook will compare the performance of IRM on an unseen platform's worth of gene expression to that of ERM. These results will be used for the preliminary data section for Aim 2 in my prelim proposal.\n",
    "\n",
    "For more information on what IRM and ERM are, read [Invariant Risk Minimization by Arjovsky et al.](https://arxiv.org/abs/1907.02893)\n",
    "\n",
    "The EDA code is [here](#EDA), or to skip to the analysis, go [here](#eval)"
   ]
  },
  {
   "cell_type": "markdown",
   "metadata": {},
   "source": [
    "<a id='eda'></a>\n",
    "## Sepsis EDA\n",
    "\n",
    "To have a good measure of training performance, ideally we'll have one platform's data held out as a validation set. To see how possible that is, we'll do exploratory data analysis on the sepsis studies in the dataset. "
   ]
  },
  {
   "cell_type": "code",
   "execution_count": 1,
   "metadata": {},
   "outputs": [],
   "source": [
    "import itertools\n",
    "import json\n",
    "import os\n",
    "import sys\n",
    "from pathlib import Path\n",
    "\n",
    "import pandas as pd\n",
    "import sklearn.metrics as metrics\n",
    "import sklearn.preprocessing as preprocessing\n",
    "import torch\n",
    "from plotnine import *\n",
    "from torch.utils.data import DataLoader\n",
    "from torch.utils.tensorboard import SummaryWriter\n",
    "\n",
    "from whistl import datasets\n",
    "from whistl.datasets import CompendiumDataset\n",
    "from whistl import models\n",
    "from whistl import train\n",
    "from whistl import utils"
   ]
  },
  {
   "cell_type": "code",
   "execution_count": 2,
   "metadata": {},
   "outputs": [],
   "source": [
    "import random\n",
    "import numpy as np\n",
    "torch.manual_seed(42)\n",
    "torch.backends.cudnn.deterministic = True\n",
    "torch.backends.cudnn.benchmark = False\n",
    "np.random.seed(42)\n",
    "random.seed(42)"
   ]
  },
  {
   "cell_type": "code",
   "execution_count": 3,
   "metadata": {},
   "outputs": [],
   "source": [
    "curr_path = str(Path('.'))\n",
    "\n",
    "map_file = str(Path('../../data/sample_classifications.pkl'))\n",
    "sample_to_label = utils.parse_map_file(map_file)\n",
    "sample_ids = sample_to_label.keys()\n",
    "\n",
    "metadata_file = str(Path('../../data/all_metadata.json'))\n",
    "metadata_json = json.load(open(metadata_file))\n",
    "sample_metadata = metadata_json['samples']\n",
    "\n",
    "sample_ids = utils.filter_invalid_samples(sample_metadata, sample_ids)\n",
    "\n",
    "sample_to_platform = utils.map_sample_to_platform(metadata_json, sample_ids)\n",
    "sample_to_study = utils.map_sample_to_study(metadata_json, sample_ids)"
   ]
  },
  {
   "cell_type": "code",
   "execution_count": 4,
   "metadata": {},
   "outputs": [
    {
     "data": {
      "text/html": [
       "<div>\n",
       "<style scoped>\n",
       "    .dataframe tbody tr th:only-of-type {\n",
       "        vertical-align: middle;\n",
       "    }\n",
       "\n",
       "    .dataframe tbody tr th {\n",
       "        vertical-align: top;\n",
       "    }\n",
       "\n",
       "    .dataframe thead th {\n",
       "        text-align: right;\n",
       "    }\n",
       "</style>\n",
       "<table border=\"1\" class=\"dataframe\">\n",
       "  <thead>\n",
       "    <tr style=\"text-align: right;\">\n",
       "      <th></th>\n",
       "      <th>E-MEXP-1635-04SE57HA300104</th>\n",
       "      <th>E-MEXP-1635-04SE58HA300104</th>\n",
       "      <th>E-MEXP-1635-04SE59HA300104</th>\n",
       "      <th>E-MEXP-1635-04SE60HA300104</th>\n",
       "      <th>E-MEXP-1635-04SE61HA300104</th>\n",
       "      <th>E-MEXP-1635-04SE62HA300104</th>\n",
       "      <th>E-MEXP-1635-04SE63HA300104</th>\n",
       "      <th>E-MEXP-1635-04SE649HGU133A_201004</th>\n",
       "      <th>E-MEXP-1635-04SE64HA300104</th>\n",
       "      <th>E-MEXP-1635-04SE650HGU133A_201004</th>\n",
       "      <th>...</th>\n",
       "      <th>SRR6870393</th>\n",
       "      <th>SRR6870394</th>\n",
       "      <th>SRR6870395</th>\n",
       "      <th>SRR6870396</th>\n",
       "      <th>SRR6870397</th>\n",
       "      <th>SRR6870398</th>\n",
       "      <th>SRR6870399</th>\n",
       "      <th>SRR6870400</th>\n",
       "      <th>SRR6870401</th>\n",
       "      <th>SRR6870402</th>\n",
       "    </tr>\n",
       "  </thead>\n",
       "  <tbody>\n",
       "    <tr>\n",
       "      <th>ENSG00000000003</th>\n",
       "      <td>0.208914</td>\n",
       "      <td>0.247681</td>\n",
       "      <td>0.133060</td>\n",
       "      <td>0.225220</td>\n",
       "      <td>0.225110</td>\n",
       "      <td>0.145763</td>\n",
       "      <td>0.203744</td>\n",
       "      <td>0.101624</td>\n",
       "      <td>0.216774</td>\n",
       "      <td>0.137222</td>\n",
       "      <td>...</td>\n",
       "      <td>0.244141</td>\n",
       "      <td>0.287628</td>\n",
       "      <td>0.234996</td>\n",
       "      <td>0.179500</td>\n",
       "      <td>0.262060</td>\n",
       "      <td>0.264090</td>\n",
       "      <td>0.248505</td>\n",
       "      <td>0.248617</td>\n",
       "      <td>0.231635</td>\n",
       "      <td>0.220124</td>\n",
       "    </tr>\n",
       "    <tr>\n",
       "      <th>ENSG00000000005</th>\n",
       "      <td>-0.060592</td>\n",
       "      <td>-0.057062</td>\n",
       "      <td>-0.015866</td>\n",
       "      <td>-0.076875</td>\n",
       "      <td>-0.011201</td>\n",
       "      <td>-0.055769</td>\n",
       "      <td>-0.060138</td>\n",
       "      <td>-0.000146</td>\n",
       "      <td>-0.039444</td>\n",
       "      <td>0.068918</td>\n",
       "      <td>...</td>\n",
       "      <td>-0.171151</td>\n",
       "      <td>-0.170181</td>\n",
       "      <td>-0.168437</td>\n",
       "      <td>-0.165942</td>\n",
       "      <td>-0.167972</td>\n",
       "      <td>-0.166330</td>\n",
       "      <td>-0.160954</td>\n",
       "      <td>-0.161027</td>\n",
       "      <td>-0.164263</td>\n",
       "      <td>-0.164568</td>\n",
       "    </tr>\n",
       "    <tr>\n",
       "      <th>ENSG00000000419</th>\n",
       "      <td>6.833205</td>\n",
       "      <td>9.714408</td>\n",
       "      <td>9.193253</td>\n",
       "      <td>10.588144</td>\n",
       "      <td>10.091911</td>\n",
       "      <td>9.000752</td>\n",
       "      <td>7.399193</td>\n",
       "      <td>7.174791</td>\n",
       "      <td>8.533220</td>\n",
       "      <td>9.249745</td>\n",
       "      <td>...</td>\n",
       "      <td>0.703249</td>\n",
       "      <td>0.713038</td>\n",
       "      <td>0.970236</td>\n",
       "      <td>1.070772</td>\n",
       "      <td>0.961582</td>\n",
       "      <td>1.051032</td>\n",
       "      <td>1.369086</td>\n",
       "      <td>1.264025</td>\n",
       "      <td>0.869870</td>\n",
       "      <td>0.743825</td>\n",
       "    </tr>\n",
       "    <tr>\n",
       "      <th>ENSG00000000457</th>\n",
       "      <td>0.214447</td>\n",
       "      <td>0.087237</td>\n",
       "      <td>0.402771</td>\n",
       "      <td>0.209681</td>\n",
       "      <td>0.141353</td>\n",
       "      <td>0.253218</td>\n",
       "      <td>0.188318</td>\n",
       "      <td>0.908775</td>\n",
       "      <td>0.174844</td>\n",
       "      <td>0.388580</td>\n",
       "      <td>...</td>\n",
       "      <td>2.497381</td>\n",
       "      <td>2.674494</td>\n",
       "      <td>2.394772</td>\n",
       "      <td>2.429598</td>\n",
       "      <td>2.450469</td>\n",
       "      <td>2.638023</td>\n",
       "      <td>2.240824</td>\n",
       "      <td>2.407291</td>\n",
       "      <td>1.933599</td>\n",
       "      <td>2.470088</td>\n",
       "    </tr>\n",
       "    <tr>\n",
       "      <th>ENSG00000000460</th>\n",
       "      <td>-0.057339</td>\n",
       "      <td>-0.034758</td>\n",
       "      <td>-0.043255</td>\n",
       "      <td>-0.078963</td>\n",
       "      <td>-0.096355</td>\n",
       "      <td>-0.098674</td>\n",
       "      <td>0.005090</td>\n",
       "      <td>0.037494</td>\n",
       "      <td>-0.033465</td>\n",
       "      <td>-0.112916</td>\n",
       "      <td>...</td>\n",
       "      <td>0.693359</td>\n",
       "      <td>0.464540</td>\n",
       "      <td>0.580630</td>\n",
       "      <td>0.692895</td>\n",
       "      <td>0.408506</td>\n",
       "      <td>0.515283</td>\n",
       "      <td>0.653895</td>\n",
       "      <td>0.437554</td>\n",
       "      <td>0.306867</td>\n",
       "      <td>0.569878</td>\n",
       "    </tr>\n",
       "  </tbody>\n",
       "</table>\n",
       "<p>5 rows × 10234 columns</p>\n",
       "</div>"
      ],
      "text/plain": [
       "                 E-MEXP-1635-04SE57HA300104  E-MEXP-1635-04SE58HA300104  \\\n",
       "ENSG00000000003                    0.208914                    0.247681   \n",
       "ENSG00000000005                   -0.060592                   -0.057062   \n",
       "ENSG00000000419                    6.833205                    9.714408   \n",
       "ENSG00000000457                    0.214447                    0.087237   \n",
       "ENSG00000000460                   -0.057339                   -0.034758   \n",
       "\n",
       "                 E-MEXP-1635-04SE59HA300104  E-MEXP-1635-04SE60HA300104  \\\n",
       "ENSG00000000003                    0.133060                    0.225220   \n",
       "ENSG00000000005                   -0.015866                   -0.076875   \n",
       "ENSG00000000419                    9.193253                   10.588144   \n",
       "ENSG00000000457                    0.402771                    0.209681   \n",
       "ENSG00000000460                   -0.043255                   -0.078963   \n",
       "\n",
       "                 E-MEXP-1635-04SE61HA300104  E-MEXP-1635-04SE62HA300104  \\\n",
       "ENSG00000000003                    0.225110                    0.145763   \n",
       "ENSG00000000005                   -0.011201                   -0.055769   \n",
       "ENSG00000000419                   10.091911                    9.000752   \n",
       "ENSG00000000457                    0.141353                    0.253218   \n",
       "ENSG00000000460                   -0.096355                   -0.098674   \n",
       "\n",
       "                 E-MEXP-1635-04SE63HA300104  \\\n",
       "ENSG00000000003                    0.203744   \n",
       "ENSG00000000005                   -0.060138   \n",
       "ENSG00000000419                    7.399193   \n",
       "ENSG00000000457                    0.188318   \n",
       "ENSG00000000460                    0.005090   \n",
       "\n",
       "                 E-MEXP-1635-04SE649HGU133A_201004  \\\n",
       "ENSG00000000003                           0.101624   \n",
       "ENSG00000000005                          -0.000146   \n",
       "ENSG00000000419                           7.174791   \n",
       "ENSG00000000457                           0.908775   \n",
       "ENSG00000000460                           0.037494   \n",
       "\n",
       "                 E-MEXP-1635-04SE64HA300104  \\\n",
       "ENSG00000000003                    0.216774   \n",
       "ENSG00000000005                   -0.039444   \n",
       "ENSG00000000419                    8.533220   \n",
       "ENSG00000000457                    0.174844   \n",
       "ENSG00000000460                   -0.033465   \n",
       "\n",
       "                 E-MEXP-1635-04SE650HGU133A_201004  ...  SRR6870393  \\\n",
       "ENSG00000000003                           0.137222  ...    0.244141   \n",
       "ENSG00000000005                           0.068918  ...   -0.171151   \n",
       "ENSG00000000419                           9.249745  ...    0.703249   \n",
       "ENSG00000000457                           0.388580  ...    2.497381   \n",
       "ENSG00000000460                          -0.112916  ...    0.693359   \n",
       "\n",
       "                 SRR6870394  SRR6870395  SRR6870396  SRR6870397  SRR6870398  \\\n",
       "ENSG00000000003    0.287628    0.234996    0.179500    0.262060    0.264090   \n",
       "ENSG00000000005   -0.170181   -0.168437   -0.165942   -0.167972   -0.166330   \n",
       "ENSG00000000419    0.713038    0.970236    1.070772    0.961582    1.051032   \n",
       "ENSG00000000457    2.674494    2.394772    2.429598    2.450469    2.638023   \n",
       "ENSG00000000460    0.464540    0.580630    0.692895    0.408506    0.515283   \n",
       "\n",
       "                 SRR6870399  SRR6870400  SRR6870401  SRR6870402  \n",
       "ENSG00000000003    0.248505    0.248617    0.231635    0.220124  \n",
       "ENSG00000000005   -0.160954   -0.161027   -0.164263   -0.164568  \n",
       "ENSG00000000419    1.369086    1.264025    0.869870    0.743825  \n",
       "ENSG00000000457    2.240824    2.407291    1.933599    2.470088  \n",
       "ENSG00000000460    0.653895    0.437554    0.306867    0.569878  \n",
       "\n",
       "[5 rows x 10234 columns]"
      ]
     },
     "execution_count": 4,
     "metadata": {},
     "output_type": "execute_result"
    }
   ],
   "source": [
    "compendium_path = str(Path('../../data/subset_compendium.tsv'))\n",
    "\n",
    "compendium_df = datasets.load_compendium_file(compendium_path)\n",
    "compendium_df.head()"
   ]
  },
  {
   "cell_type": "code",
   "execution_count": 5,
   "metadata": {},
   "outputs": [
    {
     "name": "stdout",
     "output_type": "stream",
     "text": [
      "1319\n",
      "1319\n",
      "1319\n"
     ]
    }
   ],
   "source": [
    "sepsis_samples = [sample for sample in sample_ids if sample_to_label[sample] == 'sepsis']\n",
    "sepsis_platforms = [sample_to_platform[sample] for sample in sepsis_samples]\n",
    "sepsis_studies = [sample_to_study[sample] for sample in sepsis_samples]\n",
    "print(len(sepsis_samples))\n",
    "print(len(sepsis_platforms))\n",
    "print(len(sepsis_studies))"
   ]
  },
  {
   "cell_type": "code",
   "execution_count": 6,
   "metadata": {},
   "outputs": [
    {
     "data": {
      "text/html": [
       "<div>\n",
       "<style scoped>\n",
       "    .dataframe tbody tr th:only-of-type {\n",
       "        vertical-align: middle;\n",
       "    }\n",
       "\n",
       "    .dataframe tbody tr th {\n",
       "        vertical-align: top;\n",
       "    }\n",
       "\n",
       "    .dataframe thead th {\n",
       "        text-align: right;\n",
       "    }\n",
       "</style>\n",
       "<table border=\"1\" class=\"dataframe\">\n",
       "  <thead>\n",
       "    <tr style=\"text-align: right;\">\n",
       "      <th></th>\n",
       "      <th>platform</th>\n",
       "      <th>study</th>\n",
       "    </tr>\n",
       "    <tr>\n",
       "      <th>sample</th>\n",
       "      <th></th>\n",
       "      <th></th>\n",
       "    </tr>\n",
       "  </thead>\n",
       "  <tbody>\n",
       "    <tr>\n",
       "      <th>GSM102985</th>\n",
       "      <td>affymetrix human genome u133 plus 2.0 array (h...</td>\n",
       "      <td>GSE4607</td>\n",
       "    </tr>\n",
       "    <tr>\n",
       "      <th>GSM102986</th>\n",
       "      <td>affymetrix human genome u133 plus 2.0 array (h...</td>\n",
       "      <td>GSE4607</td>\n",
       "    </tr>\n",
       "    <tr>\n",
       "      <th>GSM102987</th>\n",
       "      <td>affymetrix human genome u133 plus 2.0 array (h...</td>\n",
       "      <td>GSE4607</td>\n",
       "    </tr>\n",
       "    <tr>\n",
       "      <th>GSM102988</th>\n",
       "      <td>affymetrix human genome u133 plus 2.0 array (h...</td>\n",
       "      <td>GSE4607</td>\n",
       "    </tr>\n",
       "    <tr>\n",
       "      <th>GSM102989</th>\n",
       "      <td>affymetrix human genome u133 plus 2.0 array (h...</td>\n",
       "      <td>GSE4607</td>\n",
       "    </tr>\n",
       "  </tbody>\n",
       "</table>\n",
       "</div>"
      ],
      "text/plain": [
       "                                                    platform    study\n",
       "sample                                                               \n",
       "GSM102985  affymetrix human genome u133 plus 2.0 array (h...  GSE4607\n",
       "GSM102986  affymetrix human genome u133 plus 2.0 array (h...  GSE4607\n",
       "GSM102987  affymetrix human genome u133 plus 2.0 array (h...  GSE4607\n",
       "GSM102988  affymetrix human genome u133 plus 2.0 array (h...  GSE4607\n",
       "GSM102989  affymetrix human genome u133 plus 2.0 array (h...  GSE4607"
      ]
     },
     "execution_count": 6,
     "metadata": {},
     "output_type": "execute_result"
    }
   ],
   "source": [
    "sepsis_metadata_dict = {'sample': sepsis_samples, 'platform': sepsis_platforms, 'study': sepsis_studies}\n",
    "sepsis_metadata_df = pd.DataFrame(sepsis_metadata_dict)\n",
    "sepsis_metadata_df = sepsis_metadata_df.set_index('sample')\n",
    "sepsis_metadata_df.head()"
   ]
  },
  {
   "cell_type": "code",
   "execution_count": 7,
   "metadata": {},
   "outputs": [
    {
     "data": {
      "text/plain": [
       "affymetrix human genome u133 plus 2.0 array (hgu133plus2)    953\n",
       "affymetrix human genome u133a 2.0 array (hgu133a2)            85\n",
       "affymetrix human human exon 1.0 st array (huex10st)           74\n",
       "affymetrix human gene 1.0 st array (hugene10st)               54\n",
       "illumina hiseq 2500 (illuminahiseq2500)                       52\n",
       "affymetrix human genome u219 array (hgu219)                   51\n",
       "illumina genome analyzer iix (illuminagenomeanalyzeriix)      49\n",
       "affymetrix human genome u133a array (hgu133a)                  1\n",
       "Name: platform, dtype: int64"
      ]
     },
     "execution_count": 7,
     "metadata": {},
     "output_type": "execute_result"
    }
   ],
   "source": [
    "sepsis_metadata_df['platform'].value_counts()"
   ]
  },
  {
   "cell_type": "code",
   "execution_count": 8,
   "metadata": {},
   "outputs": [
    {
     "data": {
      "text/html": [
       "<div>\n",
       "<style scoped>\n",
       "    .dataframe tbody tr th:only-of-type {\n",
       "        vertical-align: middle;\n",
       "    }\n",
       "\n",
       "    .dataframe tbody tr th {\n",
       "        vertical-align: top;\n",
       "    }\n",
       "\n",
       "    .dataframe thead th {\n",
       "        text-align: right;\n",
       "    }\n",
       "</style>\n",
       "<table border=\"1\" class=\"dataframe\">\n",
       "  <thead>\n",
       "    <tr style=\"text-align: right;\">\n",
       "      <th></th>\n",
       "      <th>platform</th>\n",
       "      <th>study</th>\n",
       "    </tr>\n",
       "    <tr>\n",
       "      <th>sample</th>\n",
       "      <th></th>\n",
       "      <th></th>\n",
       "    </tr>\n",
       "  </thead>\n",
       "  <tbody>\n",
       "    <tr>\n",
       "      <th>GSM301847</th>\n",
       "      <td>affymetrix human genome u133a array (hgu133a)</td>\n",
       "      <td>GSE11907</td>\n",
       "    </tr>\n",
       "  </tbody>\n",
       "</table>\n",
       "</div>"
      ],
      "text/plain": [
       "                                                platform     study\n",
       "sample                                                            \n",
       "GSM301847  affymetrix human genome u133a array (hgu133a)  GSE11907"
      ]
     },
     "execution_count": 8,
     "metadata": {},
     "output_type": "execute_result"
    }
   ],
   "source": [
    "sepsis_metadata_df[sepsis_metadata_df['platform'] == 'affymetrix human genome u133a array (hgu133a)']"
   ]
  },
  {
   "cell_type": "code",
   "execution_count": 9,
   "metadata": {},
   "outputs": [
    {
     "name": "stdout",
     "output_type": "stream",
     "text": [
      "1318\n"
     ]
    }
   ],
   "source": [
    "# Remove platform with only one sample to reduce downstream variance\n",
    "sepsis_metadata_df = sepsis_metadata_df.drop(labels='GSM301847', axis=0)\n",
    "print(len(sepsis_metadata_df.index))"
   ]
  },
  {
   "cell_type": "code",
   "execution_count": 10,
   "metadata": {},
   "outputs": [
    {
     "data": {
      "text/plain": [
       "GSE66099     196\n",
       "GSE13904     152\n",
       "GSE95233     100\n",
       "GSE26440      98\n",
       "GSE26378      82\n",
       "GSE57065      80\n",
       "GSE74224      74\n",
       "SRP132709     64\n",
       "GSE4607       54\n",
       "GSE66890      54\n",
       "GSE8121       51\n",
       "GSE33341      51\n",
       "GSE65682      51\n",
       "GSE9960       47\n",
       "SRP049820     37\n",
       "GSE10474      34\n",
       "GSE33118      20\n",
       "GSE33119      19\n",
       "GSE11755      18\n",
       "GSE64457      15\n",
       "GSE25504      11\n",
       "GSE28750      10\n",
       "Name: study, dtype: int64"
      ]
     },
     "execution_count": 10,
     "metadata": {},
     "output_type": "execute_result"
    }
   ],
   "source": [
    "sepsis_metadata_df['study'].value_counts()"
   ]
  },
  {
   "cell_type": "markdown",
   "metadata": {},
   "source": [
    "<a id='eval'></a>\n",
    "## IRM Evaluation"
   ]
  },
  {
   "cell_type": "markdown",
   "metadata": {},
   "source": [
    "### Setup"
   ]
  },
  {
   "cell_type": "code",
   "execution_count": 11,
   "metadata": {},
   "outputs": [],
   "source": [
    "curr_path = os.path.dirname(os.path.abspath(os.path.abspath('')))\n",
    "\n",
    "map_file = str(Path('../../data/sample_classifications.pkl'))\n",
    "sample_to_label = utils.parse_map_file(map_file)\n",
    "\n",
    "metadata_path = str(Path('../../data/all_metadata.json'))\n",
    "\n",
    "compendium_path = str(Path('../../data/subset_compendium.tsv'))"
   ]
  },
  {
   "cell_type": "markdown",
   "metadata": {},
   "source": [
    "### More setup\n",
    "Initialize the model and encoder for the training process"
   ]
  },
  {
   "cell_type": "code",
   "execution_count": 12,
   "metadata": {},
   "outputs": [
    {
     "data": {
      "text/plain": [
       "LabelEncoder()"
      ]
     },
     "execution_count": 12,
     "metadata": {},
     "output_type": "execute_result"
    }
   ],
   "source": [
    "classes = ['sepsis', 'healthy']\n",
    "encoder = preprocessing.LabelEncoder()\n",
    "encoder.fit(classes)"
   ]
  },
  {
   "cell_type": "markdown",
   "metadata": {},
   "source": [
    "### Tune split\n",
    "We will get a rough estimate of performance with leave-one-out cross-validation. To know when to stop training, though, we will need a tuning dataset."
   ]
  },
  {
   "cell_type": "code",
   "execution_count": 13,
   "metadata": {},
   "outputs": [
    {
     "name": "stdout",
     "output_type": "stream",
     "text": [
      "51\n",
      "1267\n"
     ]
    }
   ],
   "source": [
    "tune_df = sepsis_metadata_df[sepsis_metadata_df['platform'] == 'affymetrix human genome u219 array (hgu219)']\n",
    "train_df = sepsis_metadata_df[sepsis_metadata_df['platform'] != 'affymetrix human genome u219 array (hgu219)']\n",
    "print(len(tune_df.index))\n",
    "print(len(train_df.index))\n",
    "\n",
    "tune_studies = tune_df['study'].unique()\n",
    "tune_dataset = CompendiumDataset(tune_studies, classes, \n",
    "                                 sample_to_label, metadata_path, \n",
    "                                 compendium_path, encoder)\n",
    "tune_loader = DataLoader(tune_dataset, batch_size=1)"
   ]
  },
  {
   "cell_type": "markdown",
   "metadata": {},
   "source": [
    "### Filter Platforms\n",
    "Remove a platform that corresponds to a study present in the labeled data, but not the human compendium"
   ]
  },
  {
   "cell_type": "code",
   "execution_count": 14,
   "metadata": {},
   "outputs": [],
   "source": [
    "platforms = train_df['platform'].unique()\n",
    "platforms = [p \n",
    "             for p in platforms \n",
    "             if p != 'affymetrix human human exon 1.0 st array (huex10st)'\n",
    "            ]\n",
    "num_seeds = 5"
   ]
  },
  {
   "cell_type": "markdown",
   "metadata": {},
   "source": [
    "## Training\n",
    "\n",
    "The models are trained with two platforms held out. \n",
    "One platform (huex10st) is left out in all runs, and is used as a tuning set to determine which version of the model should be saved.\n",
    "The second platform (referred to going forward as the 'held-out platform') is held out during training, then the trained model's performance is evaluated by trying to predict whether each sample corresponds to sepsis or healthy expression."
   ]
  },
  {
   "cell_type": "code",
   "execution_count": 15,
   "metadata": {},
   "outputs": [
    {
     "data": {
      "application/vnd.jupyter.widget-view+json": {
       "model_id": "75e4e12136be4c5aa194721e8e3e2f5f",
       "version_major": 2,
       "version_minor": 0
      },
      "text/plain": [
       "HBox(children=(IntProgress(value=0, max=400), HTML(value='')))"
      ]
     },
     "metadata": {},
     "output_type": "display_data"
    },
    {
     "name": "stdout",
     "output_type": "stream",
     "text": [
      "\n"
     ]
    },
    {
     "data": {
      "application/vnd.jupyter.widget-view+json": {
       "model_id": "bdc796e14d724451a0efc04b44d8ffdb",
       "version_major": 2,
       "version_minor": 0
      },
      "text/plain": [
       "HBox(children=(IntProgress(value=0, max=400), HTML(value='')))"
      ]
     },
     "metadata": {},
     "output_type": "display_data"
    },
    {
     "name": "stdout",
     "output_type": "stream",
     "text": [
      "\n"
     ]
    },
    {
     "data": {
      "application/vnd.jupyter.widget-view+json": {
       "model_id": "1094edf0182f486a99414e14cef00e11",
       "version_major": 2,
       "version_minor": 0
      },
      "text/plain": [
       "HBox(children=(IntProgress(value=0, max=400), HTML(value='')))"
      ]
     },
     "metadata": {},
     "output_type": "display_data"
    },
    {
     "name": "stdout",
     "output_type": "stream",
     "text": [
      "\n"
     ]
    },
    {
     "data": {
      "application/vnd.jupyter.widget-view+json": {
       "model_id": "f46f447827ff4fb18ebc52987f441686",
       "version_major": 2,
       "version_minor": 0
      },
      "text/plain": [
       "HBox(children=(IntProgress(value=0, max=400), HTML(value='')))"
      ]
     },
     "metadata": {},
     "output_type": "display_data"
    },
    {
     "name": "stdout",
     "output_type": "stream",
     "text": [
      "\n"
     ]
    },
    {
     "data": {
      "application/vnd.jupyter.widget-view+json": {
       "model_id": "b0e1b31972f54de2a40a2f8641fe4d22",
       "version_major": 2,
       "version_minor": 0
      },
      "text/plain": [
       "HBox(children=(IntProgress(value=0, max=400), HTML(value='')))"
      ]
     },
     "metadata": {},
     "output_type": "display_data"
    },
    {
     "name": "stdout",
     "output_type": "stream",
     "text": [
      "\n"
     ]
    },
    {
     "data": {
      "application/vnd.jupyter.widget-view+json": {
       "model_id": "cac4aa5d19cf4d71b3b44e071f6989bf",
       "version_major": 2,
       "version_minor": 0
      },
      "text/plain": [
       "HBox(children=(IntProgress(value=0, max=400), HTML(value='')))"
      ]
     },
     "metadata": {},
     "output_type": "display_data"
    },
    {
     "name": "stdout",
     "output_type": "stream",
     "text": [
      "\n"
     ]
    },
    {
     "data": {
      "application/vnd.jupyter.widget-view+json": {
       "model_id": "1f4b5f40fbb14a62a2759c2d518d6499",
       "version_major": 2,
       "version_minor": 0
      },
      "text/plain": [
       "HBox(children=(IntProgress(value=0, max=400), HTML(value='')))"
      ]
     },
     "metadata": {},
     "output_type": "display_data"
    },
    {
     "name": "stdout",
     "output_type": "stream",
     "text": [
      "\n"
     ]
    },
    {
     "data": {
      "application/vnd.jupyter.widget-view+json": {
       "model_id": "25d7679613bc410b88bc82c328de891c",
       "version_major": 2,
       "version_minor": 0
      },
      "text/plain": [
       "HBox(children=(IntProgress(value=0, max=400), HTML(value='')))"
      ]
     },
     "metadata": {},
     "output_type": "display_data"
    },
    {
     "name": "stdout",
     "output_type": "stream",
     "text": [
      "\n"
     ]
    },
    {
     "data": {
      "application/vnd.jupyter.widget-view+json": {
       "model_id": "35bf611a7be34acb852e75ba25b95d49",
       "version_major": 2,
       "version_minor": 0
      },
      "text/plain": [
       "HBox(children=(IntProgress(value=0, max=400), HTML(value='')))"
      ]
     },
     "metadata": {},
     "output_type": "display_data"
    },
    {
     "name": "stdout",
     "output_type": "stream",
     "text": [
      "\n"
     ]
    },
    {
     "data": {
      "application/vnd.jupyter.widget-view+json": {
       "model_id": "49b82f1f41844dfba2f14478bac99931",
       "version_major": 2,
       "version_minor": 0
      },
      "text/plain": [
       "HBox(children=(IntProgress(value=0, max=400), HTML(value='')))"
      ]
     },
     "metadata": {},
     "output_type": "display_data"
    },
    {
     "name": "stdout",
     "output_type": "stream",
     "text": [
      "\n"
     ]
    },
    {
     "data": {
      "application/vnd.jupyter.widget-view+json": {
       "model_id": "91258c5805c747c6bf2db0cec8ec81c2",
       "version_major": 2,
       "version_minor": 0
      },
      "text/plain": [
       "HBox(children=(IntProgress(value=0, max=400), HTML(value='')))"
      ]
     },
     "metadata": {},
     "output_type": "display_data"
    },
    {
     "name": "stdout",
     "output_type": "stream",
     "text": [
      "\n"
     ]
    },
    {
     "data": {
      "application/vnd.jupyter.widget-view+json": {
       "model_id": "199d6c7e906d4ef396db0c8c7925dee2",
       "version_major": 2,
       "version_minor": 0
      },
      "text/plain": [
       "HBox(children=(IntProgress(value=0, max=400), HTML(value='')))"
      ]
     },
     "metadata": {},
     "output_type": "display_data"
    },
    {
     "name": "stdout",
     "output_type": "stream",
     "text": [
      "\n"
     ]
    },
    {
     "data": {
      "application/vnd.jupyter.widget-view+json": {
       "model_id": "f45e61918f27432e8bd0ab088935d64e",
       "version_major": 2,
       "version_minor": 0
      },
      "text/plain": [
       "HBox(children=(IntProgress(value=0, max=400), HTML(value='')))"
      ]
     },
     "metadata": {},
     "output_type": "display_data"
    },
    {
     "name": "stdout",
     "output_type": "stream",
     "text": [
      "\n"
     ]
    },
    {
     "data": {
      "application/vnd.jupyter.widget-view+json": {
       "model_id": "61d53c0cf04345fd958f9457d16963d9",
       "version_major": 2,
       "version_minor": 0
      },
      "text/plain": [
       "HBox(children=(IntProgress(value=0, max=400), HTML(value='')))"
      ]
     },
     "metadata": {},
     "output_type": "display_data"
    },
    {
     "name": "stdout",
     "output_type": "stream",
     "text": [
      "\n"
     ]
    },
    {
     "data": {
      "application/vnd.jupyter.widget-view+json": {
       "model_id": "bbc64aba15324f82b8ad37821c9c5e3d",
       "version_major": 2,
       "version_minor": 0
      },
      "text/plain": [
       "HBox(children=(IntProgress(value=0, max=400), HTML(value='')))"
      ]
     },
     "metadata": {},
     "output_type": "display_data"
    },
    {
     "name": "stdout",
     "output_type": "stream",
     "text": [
      "\n"
     ]
    },
    {
     "data": {
      "application/vnd.jupyter.widget-view+json": {
       "model_id": "f22b137fc95047a8a5160bf4acd0b853",
       "version_major": 2,
       "version_minor": 0
      },
      "text/plain": [
       "HBox(children=(IntProgress(value=0, max=400), HTML(value='')))"
      ]
     },
     "metadata": {},
     "output_type": "display_data"
    },
    {
     "name": "stdout",
     "output_type": "stream",
     "text": [
      "\n"
     ]
    },
    {
     "data": {
      "application/vnd.jupyter.widget-view+json": {
       "model_id": "fbe2d3fe06b94e59b364f72762ebaf02",
       "version_major": 2,
       "version_minor": 0
      },
      "text/plain": [
       "HBox(children=(IntProgress(value=0, max=400), HTML(value='')))"
      ]
     },
     "metadata": {},
     "output_type": "display_data"
    },
    {
     "name": "stdout",
     "output_type": "stream",
     "text": [
      "\n"
     ]
    },
    {
     "data": {
      "application/vnd.jupyter.widget-view+json": {
       "model_id": "c3e9b41adb0544a4aef36105b277574b",
       "version_major": 2,
       "version_minor": 0
      },
      "text/plain": [
       "HBox(children=(IntProgress(value=0, max=400), HTML(value='')))"
      ]
     },
     "metadata": {},
     "output_type": "display_data"
    },
    {
     "name": "stdout",
     "output_type": "stream",
     "text": [
      "\n"
     ]
    },
    {
     "data": {
      "application/vnd.jupyter.widget-view+json": {
       "model_id": "30058c76e08f456297ba8d2c1178a7db",
       "version_major": 2,
       "version_minor": 0
      },
      "text/plain": [
       "HBox(children=(IntProgress(value=0, max=400), HTML(value='')))"
      ]
     },
     "metadata": {},
     "output_type": "display_data"
    },
    {
     "name": "stdout",
     "output_type": "stream",
     "text": [
      "\n"
     ]
    },
    {
     "data": {
      "application/vnd.jupyter.widget-view+json": {
       "model_id": "31b08010b13643329396ce8dea103612",
       "version_major": 2,
       "version_minor": 0
      },
      "text/plain": [
       "HBox(children=(IntProgress(value=0, max=400), HTML(value='')))"
      ]
     },
     "metadata": {},
     "output_type": "display_data"
    },
    {
     "name": "stdout",
     "output_type": "stream",
     "text": [
      "\n"
     ]
    },
    {
     "data": {
      "application/vnd.jupyter.widget-view+json": {
       "model_id": "8bdf47dd7fd146b28f9a9335c6d59ebe",
       "version_major": 2,
       "version_minor": 0
      },
      "text/plain": [
       "HBox(children=(IntProgress(value=0, max=400), HTML(value='')))"
      ]
     },
     "metadata": {},
     "output_type": "display_data"
    },
    {
     "name": "stdout",
     "output_type": "stream",
     "text": [
      "\n"
     ]
    },
    {
     "data": {
      "application/vnd.jupyter.widget-view+json": {
       "model_id": "1e1d00f6ba494fe9b4f558e34a7ee03f",
       "version_major": 2,
       "version_minor": 0
      },
      "text/plain": [
       "HBox(children=(IntProgress(value=0, max=400), HTML(value='')))"
      ]
     },
     "metadata": {},
     "output_type": "display_data"
    },
    {
     "name": "stdout",
     "output_type": "stream",
     "text": [
      "\n"
     ]
    },
    {
     "data": {
      "application/vnd.jupyter.widget-view+json": {
       "model_id": "d54aefa2231f4949b38758d9bf4d8a59",
       "version_major": 2,
       "version_minor": 0
      },
      "text/plain": [
       "HBox(children=(IntProgress(value=0, max=400), HTML(value='')))"
      ]
     },
     "metadata": {},
     "output_type": "display_data"
    },
    {
     "name": "stdout",
     "output_type": "stream",
     "text": [
      "\n"
     ]
    },
    {
     "data": {
      "application/vnd.jupyter.widget-view+json": {
       "model_id": "d29b2d8548334593b8e4a61676a5d87c",
       "version_major": 2,
       "version_minor": 0
      },
      "text/plain": [
       "HBox(children=(IntProgress(value=0, max=400), HTML(value='')))"
      ]
     },
     "metadata": {},
     "output_type": "display_data"
    },
    {
     "name": "stdout",
     "output_type": "stream",
     "text": [
      "\n"
     ]
    },
    {
     "data": {
      "application/vnd.jupyter.widget-view+json": {
       "model_id": "319439b9a41d44379e9aa83f869d3333",
       "version_major": 2,
       "version_minor": 0
      },
      "text/plain": [
       "HBox(children=(IntProgress(value=0, max=400), HTML(value='')))"
      ]
     },
     "metadata": {},
     "output_type": "display_data"
    },
    {
     "name": "stdout",
     "output_type": "stream",
     "text": [
      "\n"
     ]
    },
    {
     "data": {
      "application/vnd.jupyter.widget-view+json": {
       "model_id": "10f9e7d5b7fc4ab896e3bcdbe8644664",
       "version_major": 2,
       "version_minor": 0
      },
      "text/plain": [
       "HBox(children=(IntProgress(value=0, max=400), HTML(value='')))"
      ]
     },
     "metadata": {},
     "output_type": "display_data"
    },
    {
     "name": "stdout",
     "output_type": "stream",
     "text": [
      "\n"
     ]
    },
    {
     "data": {
      "application/vnd.jupyter.widget-view+json": {
       "model_id": "e2cb1f5ac5394c8a912e5013d7ce743d",
       "version_major": 2,
       "version_minor": 0
      },
      "text/plain": [
       "HBox(children=(IntProgress(value=0, max=400), HTML(value='')))"
      ]
     },
     "metadata": {},
     "output_type": "display_data"
    },
    {
     "name": "stdout",
     "output_type": "stream",
     "text": [
      "\n"
     ]
    },
    {
     "data": {
      "application/vnd.jupyter.widget-view+json": {
       "model_id": "ecc662763ab94cebb543e2dd1d6cc8cc",
       "version_major": 2,
       "version_minor": 0
      },
      "text/plain": [
       "HBox(children=(IntProgress(value=0, max=400), HTML(value='')))"
      ]
     },
     "metadata": {},
     "output_type": "display_data"
    },
    {
     "name": "stdout",
     "output_type": "stream",
     "text": [
      "\n"
     ]
    },
    {
     "data": {
      "application/vnd.jupyter.widget-view+json": {
       "model_id": "9e65a4b7c7fd4907ab9a384203dfd9c6",
       "version_major": 2,
       "version_minor": 0
      },
      "text/plain": [
       "HBox(children=(IntProgress(value=0, max=400), HTML(value='')))"
      ]
     },
     "metadata": {},
     "output_type": "display_data"
    },
    {
     "name": "stdout",
     "output_type": "stream",
     "text": [
      "\n"
     ]
    },
    {
     "data": {
      "application/vnd.jupyter.widget-view+json": {
       "model_id": "431d533d03d545baaaf35ece50b49cae",
       "version_major": 2,
       "version_minor": 0
      },
      "text/plain": [
       "HBox(children=(IntProgress(value=0, max=400), HTML(value='')))"
      ]
     },
     "metadata": {},
     "output_type": "display_data"
    },
    {
     "name": "stdout",
     "output_type": "stream",
     "text": [
      "\n"
     ]
    },
    {
     "data": {
      "application/vnd.jupyter.widget-view+json": {
       "model_id": "6e27dfcff8e24c61b4c95197cf7f2a1d",
       "version_major": 2,
       "version_minor": 0
      },
      "text/plain": [
       "HBox(children=(IntProgress(value=0, max=400), HTML(value='')))"
      ]
     },
     "metadata": {},
     "output_type": "display_data"
    },
    {
     "name": "stdout",
     "output_type": "stream",
     "text": [
      "\n"
     ]
    },
    {
     "data": {
      "application/vnd.jupyter.widget-view+json": {
       "model_id": "90a35b4b476b4c599e40cfb97d8a3455",
       "version_major": 2,
       "version_minor": 0
      },
      "text/plain": [
       "HBox(children=(IntProgress(value=0, max=400), HTML(value='')))"
      ]
     },
     "metadata": {},
     "output_type": "display_data"
    },
    {
     "name": "stdout",
     "output_type": "stream",
     "text": [
      "\n"
     ]
    },
    {
     "data": {
      "application/vnd.jupyter.widget-view+json": {
       "model_id": "94c86f12e3544dde9f8574f2c1248427",
       "version_major": 2,
       "version_minor": 0
      },
      "text/plain": [
       "HBox(children=(IntProgress(value=0, max=400), HTML(value='')))"
      ]
     },
     "metadata": {},
     "output_type": "display_data"
    },
    {
     "name": "stdout",
     "output_type": "stream",
     "text": [
      "\n"
     ]
    },
    {
     "data": {
      "application/vnd.jupyter.widget-view+json": {
       "model_id": "3fe9db66117f47e281239f521d4716dc",
       "version_major": 2,
       "version_minor": 0
      },
      "text/plain": [
       "HBox(children=(IntProgress(value=0, max=400), HTML(value='')))"
      ]
     },
     "metadata": {},
     "output_type": "display_data"
    },
    {
     "name": "stdout",
     "output_type": "stream",
     "text": [
      "\n"
     ]
    },
    {
     "data": {
      "application/vnd.jupyter.widget-view+json": {
       "model_id": "efd33cb05ff945c9984aa560141204c0",
       "version_major": 2,
       "version_minor": 0
      },
      "text/plain": [
       "HBox(children=(IntProgress(value=0, max=400), HTML(value='')))"
      ]
     },
     "metadata": {},
     "output_type": "display_data"
    },
    {
     "name": "stdout",
     "output_type": "stream",
     "text": [
      "\n"
     ]
    },
    {
     "data": {
      "application/vnd.jupyter.widget-view+json": {
       "model_id": "91d6d488d3bc4795b877278a569c9624",
       "version_major": 2,
       "version_minor": 0
      },
      "text/plain": [
       "HBox(children=(IntProgress(value=0, max=400), HTML(value='')))"
      ]
     },
     "metadata": {},
     "output_type": "display_data"
    },
    {
     "name": "stdout",
     "output_type": "stream",
     "text": [
      "\n"
     ]
    },
    {
     "data": {
      "application/vnd.jupyter.widget-view+json": {
       "model_id": "e479817b6e604c94a416af8bcf6ea3b4",
       "version_major": 2,
       "version_minor": 0
      },
      "text/plain": [
       "HBox(children=(IntProgress(value=0, max=400), HTML(value='')))"
      ]
     },
     "metadata": {},
     "output_type": "display_data"
    },
    {
     "name": "stdout",
     "output_type": "stream",
     "text": [
      "\n"
     ]
    },
    {
     "data": {
      "application/vnd.jupyter.widget-view+json": {
       "model_id": "2d2d97a372ee4e048ee60c50a4399f86",
       "version_major": 2,
       "version_minor": 0
      },
      "text/plain": [
       "HBox(children=(IntProgress(value=0, max=400), HTML(value='')))"
      ]
     },
     "metadata": {},
     "output_type": "display_data"
    },
    {
     "name": "stdout",
     "output_type": "stream",
     "text": [
      "\n"
     ]
    },
    {
     "data": {
      "application/vnd.jupyter.widget-view+json": {
       "model_id": "f420848294f44313bdf7f9515b2bb507",
       "version_major": 2,
       "version_minor": 0
      },
      "text/plain": [
       "HBox(children=(IntProgress(value=0, max=400), HTML(value='')))"
      ]
     },
     "metadata": {},
     "output_type": "display_data"
    },
    {
     "name": "stdout",
     "output_type": "stream",
     "text": [
      "\n"
     ]
    },
    {
     "data": {
      "application/vnd.jupyter.widget-view+json": {
       "model_id": "6e267c217670482599e3a000842ec781",
       "version_major": 2,
       "version_minor": 0
      },
      "text/plain": [
       "HBox(children=(IntProgress(value=0, max=400), HTML(value='')))"
      ]
     },
     "metadata": {},
     "output_type": "display_data"
    },
    {
     "name": "stdout",
     "output_type": "stream",
     "text": [
      "\n"
     ]
    },
    {
     "data": {
      "application/vnd.jupyter.widget-view+json": {
       "model_id": "4b52faab35dc444eacac567c2e2ad681",
       "version_major": 2,
       "version_minor": 0
      },
      "text/plain": [
       "HBox(children=(IntProgress(value=0, max=400), HTML(value='')))"
      ]
     },
     "metadata": {},
     "output_type": "display_data"
    },
    {
     "name": "stdout",
     "output_type": "stream",
     "text": [
      "\n"
     ]
    },
    {
     "data": {
      "application/vnd.jupyter.widget-view+json": {
       "model_id": "35c02ad4028a43ec943157f67c7895bf",
       "version_major": 2,
       "version_minor": 0
      },
      "text/plain": [
       "HBox(children=(IntProgress(value=0, max=400), HTML(value='')))"
      ]
     },
     "metadata": {},
     "output_type": "display_data"
    },
    {
     "name": "stdout",
     "output_type": "stream",
     "text": [
      "\n"
     ]
    },
    {
     "data": {
      "application/vnd.jupyter.widget-view+json": {
       "model_id": "1bcfeaec66e7410786672edf4c44d9a8",
       "version_major": 2,
       "version_minor": 0
      },
      "text/plain": [
       "HBox(children=(IntProgress(value=0, max=400), HTML(value='')))"
      ]
     },
     "metadata": {},
     "output_type": "display_data"
    },
    {
     "name": "stdout",
     "output_type": "stream",
     "text": [
      "\n"
     ]
    },
    {
     "data": {
      "application/vnd.jupyter.widget-view+json": {
       "model_id": "a0cfaabcf15349ce99d0d8b1e597a7ee",
       "version_major": 2,
       "version_minor": 0
      },
      "text/plain": [
       "HBox(children=(IntProgress(value=0, max=400), HTML(value='')))"
      ]
     },
     "metadata": {},
     "output_type": "display_data"
    },
    {
     "name": "stdout",
     "output_type": "stream",
     "text": [
      "\n"
     ]
    },
    {
     "data": {
      "application/vnd.jupyter.widget-view+json": {
       "model_id": "35fa8fd993694f41bb70e3c68dc3806e",
       "version_major": 2,
       "version_minor": 0
      },
      "text/plain": [
       "HBox(children=(IntProgress(value=0, max=400), HTML(value='')))"
      ]
     },
     "metadata": {},
     "output_type": "display_data"
    },
    {
     "name": "stdout",
     "output_type": "stream",
     "text": [
      "\n"
     ]
    },
    {
     "data": {
      "application/vnd.jupyter.widget-view+json": {
       "model_id": "2f3b1dfdf9cf47ca8304c0c8eccd6c2b",
       "version_major": 2,
       "version_minor": 0
      },
      "text/plain": [
       "HBox(children=(IntProgress(value=0, max=400), HTML(value='')))"
      ]
     },
     "metadata": {},
     "output_type": "display_data"
    },
    {
     "name": "stdout",
     "output_type": "stream",
     "text": [
      "\n"
     ]
    },
    {
     "data": {
      "application/vnd.jupyter.widget-view+json": {
       "model_id": "ccfd525bebff4d25b25bee35efbafbfc",
       "version_major": 2,
       "version_minor": 0
      },
      "text/plain": [
       "HBox(children=(IntProgress(value=0, max=400), HTML(value='')))"
      ]
     },
     "metadata": {},
     "output_type": "display_data"
    },
    {
     "name": "stdout",
     "output_type": "stream",
     "text": [
      "\n"
     ]
    },
    {
     "data": {
      "application/vnd.jupyter.widget-view+json": {
       "model_id": "f1c8fdb6e61940d6a728f62d5ff63a17",
       "version_major": 2,
       "version_minor": 0
      },
      "text/plain": [
       "HBox(children=(IntProgress(value=0, max=400), HTML(value='')))"
      ]
     },
     "metadata": {},
     "output_type": "display_data"
    },
    {
     "name": "stdout",
     "output_type": "stream",
     "text": [
      "\n"
     ]
    },
    {
     "data": {
      "application/vnd.jupyter.widget-view+json": {
       "model_id": "fd52bb03bf1d49a8a8780b116c430e6d",
       "version_major": 2,
       "version_minor": 0
      },
      "text/plain": [
       "HBox(children=(IntProgress(value=0, max=400), HTML(value='')))"
      ]
     },
     "metadata": {},
     "output_type": "display_data"
    },
    {
     "name": "stdout",
     "output_type": "stream",
     "text": [
      "\n"
     ]
    },
    {
     "data": {
      "application/vnd.jupyter.widget-view+json": {
       "model_id": "fe679cadbb1d467ba64bfd7b7ca035a7",
       "version_major": 2,
       "version_minor": 0
      },
      "text/plain": [
       "HBox(children=(IntProgress(value=0, max=400), HTML(value='')))"
      ]
     },
     "metadata": {},
     "output_type": "display_data"
    },
    {
     "name": "stdout",
     "output_type": "stream",
     "text": [
      "\n"
     ]
    }
   ],
   "source": [
    "irm_result_list = []\n",
    "erm_result_list = []\n",
    "\n",
    "\n",
    "for hold_out_platform in platforms:\n",
    "    train_platforms = train_df[train_df['platform'] != hold_out_platform]['platform'].unique()\n",
    "\n",
    "    train_loaders = []\n",
    "    total_irm_samples = 0\n",
    "    for platform in train_platforms:\n",
    "        studies = train_df[train_df['platform'] == platform]['study']\n",
    "        train_dataset = CompendiumDataset([platform], classes, sample_to_label, metadata_path, compendium_path, \n",
    "                                          encoder, mode='platform')\n",
    "        total_irm_samples += len(train_dataset)\n",
    "\n",
    "        if len(train_dataset) > 0:\n",
    "            train_loader = DataLoader(train_dataset, batch_size=8, shuffle=True)\n",
    "            train_loaders.append(train_loader)\n",
    "\n",
    "    platform_file = hold_out_platform.split('(')[-1].strip(')')\n",
    "\n",
    "    full_train_studies = train_df[train_df['platform'] != hold_out_platform]['study'].unique()\n",
    "    full_train_dataset = CompendiumDataset(train_platforms, classes, sample_to_label, metadata_path,\n",
    "                                           compendium_path, encoder, mode='platform')\n",
    "    full_train_loader = DataLoader(full_train_dataset, batch_size=8, shuffle=True)\n",
    "\n",
    "    assert total_irm_samples == len(full_train_dataset)\n",
    "    \n",
    "    for seed in range(num_seeds):\n",
    "        np.random.seed(seed)\n",
    "        random.seed(seed)\n",
    "        torch.manual_seed(seed)\n",
    "        torch.backends.cudnn.deterministic = True\n",
    "        torch.backends.cudnn.benchmark = False\n",
    "        \n",
    "        net = models.ThreeLayerNet(len(compendium_df.index))\n",
    "        \n",
    "        writer_path = Path('./logs/erm_analysis_{}_{}.tfrecord'.format(platform_file, seed))\n",
    "        writer = SummaryWriter(writer_path)\n",
    "\n",
    "        save_file = Path('./logs/erm_analysis_{}_{}.pkl'.format(platform_file, seed))\n",
    "        results = train.train_with_erm(net, full_train_loader, \n",
    "                                       tune_loader, num_epochs=400, \n",
    "                                       save_file=save_file, writer=writer)\n",
    "        erm_result_list.append(results)\n",
    "\n",
    "        net = models.ThreeLayerNet(len(compendium_df.index))\n",
    "        \n",
    "        writer_path = Path('./logs/irm_analysis_{}_{}.tfrecord'.format(platform_file, seed))\n",
    "        writer = SummaryWriter(writer_path)\n",
    "\n",
    "        \n",
    "        save_file = Path('./logs/irm_analysis_{}_{}.pkl'.format(platform_file, seed))\n",
    "        results = train.train_with_irm(net, train_loaders, \n",
    "                                       tune_loader, num_epochs=400, \n",
    "                                       loss_scaling_factor=1, save_file=save_file, \n",
    "                                       writer=writer, burn_in_epochs=0)\n",
    "        irm_result_list.append(results)"
   ]
  },
  {
   "cell_type": "code",
   "execution_count": 16,
   "metadata": {},
   "outputs": [],
   "source": [
    "def eval_model(net, loader):\n",
    "    all_labels = []\n",
    "    all_preds = []\n",
    "    for batch in loader:\n",
    "        expression, labels, ids = batch\n",
    "        expression = expression.float().to('cuda')\n",
    "        labels = labels.numpy()\n",
    "        all_labels.extend(labels)\n",
    "                \n",
    "        output = net(expression)\n",
    "        preds = [1 if p > 0 else 0 for p in output]\n",
    "        all_preds.extend(preds)\n",
    "        \n",
    "    f1 = metrics.f1_score(all_labels, all_preds)\n",
    "        \n",
    "    return f1\n",
    "        "
   ]
  },
  {
   "cell_type": "code",
   "execution_count": 17,
   "metadata": {},
   "outputs": [],
   "source": [
    "irm_f1_scores = []\n",
    "erm_f1_scores = []\n",
    "for hold_out_platform in platforms:\n",
    "    for seed in range(num_seeds):\n",
    "        # Load data\n",
    "        try:\n",
    "            hold_out_studies = train_df[train_df['platform'] == hold_out_platform]['study']\n",
    "            hold_out_dataset = CompendiumDataset(hold_out_studies, classes, sample_to_label, metadata_path, compendium_path, encoder)\n",
    "            hold_out_loader = DataLoader(hold_out_dataset, batch_size=1, shuffle=False)\n",
    "\n",
    "            # Load IRM model\n",
    "            platform_file = hold_out_platform.split('(')[-1].strip(')')\n",
    "            save_file = Path('./logs/irm_analysis_{}_{}.pkl'.format(platform_file, seed))\n",
    "            net = torch.load(save_file, 'cuda')\n",
    "\n",
    "            #Evaluate ERM model\n",
    "            f1_score = eval_model(net, hold_out_loader)\n",
    "            irm_f1_scores.append(f1_score)\n",
    "\n",
    "            # Load ERM model\n",
    "            save_file = Path('./logs/erm_analysis_{}_{}.pkl'.format(platform_file, seed))\n",
    "            net = torch.load(save_file, 'cuda')\n",
    "\n",
    "            # Evaluate IRM model\n",
    "            f1_score = eval_model(net, hold_out_loader)\n",
    "            erm_f1_scores.append(f1_score)\n",
    "        except FileNotFoundError as e:\n",
    "            print(e)"
   ]
  },
  {
   "cell_type": "code",
   "execution_count": 18,
   "metadata": {},
   "outputs": [
    {
     "name": "stdout",
     "output_type": "stream",
     "text": [
      "[0.8569725864123958, 0.863877430760165, 0.9202453987730062, 0.8461538461538461, 0.884393063583815, 0.7865168539325843, 0.7727272727272727, 0.8131868131868133, 0.7865168539325843, 0.8387096774193548, 0.6923076923076924, 0.5950413223140496, 0.6399999999999999, 0.5087719298245613, 0.6290322580645161, 0.9090909090909091, 0.8944099378881988, 0.9090909090909091, 0.8888888888888888, 0.8888888888888888, 0.959349593495935, 0.9921259842519685, 0.9508196721311475, 0.976, 1.0]\n",
      "[0.9436234263820471, 0.9275843007186291, 0.9285318559556787, 0.9469122426868906, 0.9326710816777042, 0.8131868131868133, 0.9090909090909091, 0.9306930693069307, 0.8260869565217391, 0.9906542056074767, 0.8666666666666666, 0.9308176100628931, 0.9308176100628931, 0.8815789473684211, 0.9102564102564102, 0.9047619047619047, 0.8982035928143713, 0.8888888888888888, 0.9036144578313252, 0.880503144654088, 0.8468468468468469, 0.7070707070707071, 0.976, 0.9841269841269841, 0.967741935483871]\n",
      "[0.8569725864123958, 0.9436234263820471, 0.863877430760165, 0.9275843007186291, 0.9202453987730062, 0.9285318559556787, 0.8461538461538461, 0.9469122426868906, 0.884393063583815, 0.9326710816777042, 0.7865168539325843, 0.8131868131868133, 0.7727272727272727, 0.9090909090909091, 0.8131868131868133, 0.9306930693069307, 0.7865168539325843, 0.8260869565217391, 0.8387096774193548, 0.9906542056074767, 0.6923076923076924, 0.8666666666666666, 0.5950413223140496, 0.9308176100628931, 0.6399999999999999, 0.9308176100628931, 0.5087719298245613, 0.8815789473684211, 0.6290322580645161, 0.9102564102564102, 0.9090909090909091, 0.9047619047619047, 0.8944099378881988, 0.8982035928143713, 0.9090909090909091, 0.8888888888888888, 0.8888888888888888, 0.9036144578313252, 0.8888888888888888, 0.880503144654088, 0.959349593495935, 0.8468468468468469, 0.9921259842519685, 0.7070707070707071, 0.9508196721311475, 0.976, 0.976, 0.9841269841269841, 1.0, 0.967741935483871]\n",
      "['irm', 'erm', 'irm', 'erm', 'irm', 'erm', 'irm', 'erm', 'irm', 'erm', 'irm', 'erm', 'irm', 'erm', 'irm', 'erm', 'irm', 'erm', 'irm', 'erm', 'irm', 'erm', 'irm', 'erm', 'irm', 'erm', 'irm', 'erm', 'irm', 'erm', 'irm', 'erm', 'irm', 'erm', 'irm', 'erm', 'irm', 'erm', 'irm', 'erm', 'irm', 'erm', 'irm', 'erm', 'irm', 'erm', 'irm', 'erm', 'irm', 'erm']\n"
     ]
    }
   ],
   "source": [
    "print(irm_f1_scores)\n",
    "print(erm_f1_scores)\n",
    "held_out_platform_list = []\n",
    "for platform in platforms:\n",
    "    p = [platform] * 2 * num_seeds\n",
    "    held_out_platform_list.extend(p)\n",
    "#print(held_out_platform_list)\n",
    "\n",
    "score_list = list(itertools.chain(*zip(irm_f1_scores, erm_f1_scores)))\n",
    "print(score_list)\n",
    "label_list = (['irm'] + ['erm']) *  (len(score_list) // 2)\n",
    "print(label_list)"
   ]
  },
  {
   "cell_type": "code",
   "execution_count": 29,
   "metadata": {},
   "outputs": [
    {
     "data": {
      "text/html": [
       "<div>\n",
       "<style scoped>\n",
       "    .dataframe tbody tr th:only-of-type {\n",
       "        vertical-align: middle;\n",
       "    }\n",
       "\n",
       "    .dataframe tbody tr th {\n",
       "        vertical-align: top;\n",
       "    }\n",
       "\n",
       "    .dataframe thead th {\n",
       "        text-align: right;\n",
       "    }\n",
       "</style>\n",
       "<table border=\"1\" class=\"dataframe\">\n",
       "  <thead>\n",
       "    <tr style=\"text-align: right;\">\n",
       "      <th></th>\n",
       "      <th>f1_score</th>\n",
       "      <th>irm/erm</th>\n",
       "      <th>held_out_platform</th>\n",
       "    </tr>\n",
       "  </thead>\n",
       "  <tbody>\n",
       "    <tr>\n",
       "      <th>0</th>\n",
       "      <td>0.856973</td>\n",
       "      <td>irm</td>\n",
       "      <td>hgu133plus2</td>\n",
       "    </tr>\n",
       "    <tr>\n",
       "      <th>1</th>\n",
       "      <td>0.943623</td>\n",
       "      <td>erm</td>\n",
       "      <td>hgu133plus2</td>\n",
       "    </tr>\n",
       "    <tr>\n",
       "      <th>2</th>\n",
       "      <td>0.863877</td>\n",
       "      <td>irm</td>\n",
       "      <td>hgu133plus2</td>\n",
       "    </tr>\n",
       "    <tr>\n",
       "      <th>3</th>\n",
       "      <td>0.927584</td>\n",
       "      <td>erm</td>\n",
       "      <td>hgu133plus2</td>\n",
       "    </tr>\n",
       "    <tr>\n",
       "      <th>4</th>\n",
       "      <td>0.920245</td>\n",
       "      <td>irm</td>\n",
       "      <td>hgu133plus2</td>\n",
       "    </tr>\n",
       "  </tbody>\n",
       "</table>\n",
       "</div>"
      ],
      "text/plain": [
       "   f1_score irm/erm held_out_platform\n",
       "0  0.856973     irm       hgu133plus2\n",
       "1  0.943623     erm       hgu133plus2\n",
       "2  0.863877     irm       hgu133plus2\n",
       "3  0.927584     erm       hgu133plus2\n",
       "4  0.920245     irm       hgu133plus2"
      ]
     },
     "execution_count": 29,
     "metadata": {},
     "output_type": "execute_result"
    }
   ],
   "source": [
    "held_out_platform_list = [plat.split('(')[-1].strip(')') for plat in held_out_platform_list]\n",
    "result_dict = {'f1_score': score_list, 'irm/erm': label_list, 'held_out_platform': held_out_platform_list}\n",
    "result_df = pd.DataFrame(result_dict)\n",
    "result_df.head()"
   ]
  },
  {
   "cell_type": "markdown",
   "metadata": {},
   "source": [
    "## Results\n",
    "\n",
    "The first figures measure the models' performance on the held out platform. These figures measure the model's ability to generalize.\n",
    "\n",
    "The second set of figures measure the models' performance no the tuning set to measure the model's training behavior (and to a lesser extend the models' ability to predict a held-out set). "
   ]
  },
  {
   "cell_type": "code",
   "execution_count": 30,
   "metadata": {},
   "outputs": [
    {
     "data": {
      "image/png": "[encoded data removed]",
      "text/plain": [
       "<Figure size 640x480 with 1 Axes>"
      ]
     },
     "metadata": {},
     "output_type": "display_data"
    },
    {
     "data": {
      "text/plain": [
       "<ggplot: (8743696944349)>"
      ]
     },
     "execution_count": 30,
     "metadata": {},
     "output_type": "execute_result"
    }
   ],
   "source": [
    "(ggplot(result_df, aes('irm/erm', 'f1_score', color='held_out_platform')) +\n",
    " geom_jitter(size=3) +\n",
    " ggtitle('F1 Score on held-out platform')\n",
    ")"
   ]
  },
  {
   "cell_type": "code",
   "execution_count": 21,
   "metadata": {},
   "outputs": [
    {
     "data": {
      "image/png": "[encoded data removed]",
      "text/plain": [
       "<Figure size 640x480 with 1 Axes>"
      ]
     },
     "metadata": {},
     "output_type": "display_data"
    },
    {
     "data": {
      "text/plain": [
       "<ggplot: (8743696347461)>"
      ]
     },
     "execution_count": 21,
     "metadata": {},
     "output_type": "execute_result"
    }
   ],
   "source": [
    "(ggplot(result_df, aes('irm/erm', 'f1_score')) +\n",
    " geom_violin() +\n",
    " ggtitle('F1 Score on held-out platform')\n",
    ")"
   ]
  },
  {
   "cell_type": "code",
   "execution_count": 38,
   "metadata": {},
   "outputs": [
    {
     "name": "stdout",
     "output_type": "stream",
     "text": [
      "[0.8585215053763474, 0.7846774193548383, 0.9002419354838713, 0.7988709677419351, 0.8105913978494611, 0.8802688172043027, 0.8363978494623673, 0.9404301075268819, 0.9308602150537625, 0.9063172043010758, 0.965645161290324, 0.9405107526881729, 0.9133064516129046, 0.9359677419354846, 0.9022580645161297, 0.9205913978494624, 0.9562365591397866, 0.9121505376344108, 0.8520161290322587, 0.966774193548388, 0.8737903225806466, 0.919758064516131, 0.9265860215053767, 0.9192741935483881, 0.9170967741935503]\n",
      "[0.8602150537634409, 0.7849462365591398, 0.9139784946236559, 0.7956989247311828, 0.8064516129032258, 0.9247311827956989, 0.8494623655913979, 0.967741935483871, 0.967741935483871, 0.9354838709677419, 0.989247311827957, 0.978494623655914, 0.946236559139785, 0.978494623655914, 0.946236559139785, 0.956989247311828, 0.989247311827957, 0.9354838709677419, 0.8817204301075269, 1.0, 0.9032258064516129, 0.978494623655914, 0.946236559139785, 0.946236559139785, 0.9354838709677419]\n"
     ]
    }
   ],
   "source": [
    "irm_accs = [result['tune_acc'] for result in irm_result_list]\n",
    "irm_mean_accs = [sum(accs) / len(accs) for accs in irm_accs]\n",
    "print(irm_mean_accs)\n",
    "[acc.sort() for acc in irm_accs]\n",
    "irm_median_accs = [acc[len(acc) //2] for acc in irm_accs]\n",
    "print(irm_median_accs)\n",
    "irm_max_accs = [max(accs) for accs in irm_accs]"
   ]
  },
  {
   "cell_type": "code",
   "execution_count": 39,
   "metadata": {},
   "outputs": [
    {
     "name": "stdout",
     "output_type": "stream",
     "text": [
      "[0.8046236559139769, 0.7952419354838658, 0.8583870967742012, 0.8081182795698909, 0.7554569892473111, 0.9148924731182817, 0.9414784946236517, 0.9442741935483848, 0.9312096774193509, 0.9035752688172056, 0.9677956989247355, 0.946209677419351, 0.9525537634408621, 0.9395161290322518, 0.9602150537634376, 0.9296774193548382, 0.9221774193548388, 0.9578763440860181, 0.938817204301069, 0.9449193548387015, 0.922204301075271, 0.8896236559139818, 0.9409677419354788, 0.921559139784947, 0.9130645161290311]\n",
      "[0.8172043010752689, 0.7956989247311828, 0.8602150537634409, 0.8172043010752689, 0.7526881720430108, 0.9139784946236559, 0.956989247311828, 0.9354838709677419, 0.9247311827956989, 0.9139784946236559, 0.967741935483871, 0.956989247311828, 0.967741935483871, 0.946236559139785, 0.967741935483871, 0.9354838709677419, 0.9247311827956989, 0.967741935483871, 0.956989247311828, 0.946236559139785, 0.9247311827956989, 0.8817204301075269, 0.9354838709677419, 0.9354838709677419, 0.9247311827956989]\n"
     ]
    }
   ],
   "source": [
    "erm_accs = [result['tune_acc'] for result in erm_result_list]\n",
    "erm_mean_accs = [sum(accs) / len(accs) for accs in erm_accs]\n",
    "print(erm_mean_accs)\n",
    "[acc.sort() for acc in erm_accs]\n",
    "erm_median_accs = [acc[len(acc) //2] for acc in erm_accs]\n",
    "print(erm_median_accs)\n",
    "erm_max_accs = [max(accs) for accs in erm_accs]"
   ]
  },
  {
   "cell_type": "code",
   "execution_count": 40,
   "metadata": {},
   "outputs": [],
   "source": [
    "mean_list = list(itertools.chain(*zip(irm_mean_accs, erm_mean_accs)))\n",
    "median_list = list(itertools.chain(*zip(irm_median_accs, erm_median_accs)))\n",
    "max_list = list(itertools.chain(*zip(irm_max_accs, erm_max_accs)))\n",
    "label_list = (['irm'] + ['erm']) *  (len(mean_list) // 2)\n",
    "\n",
    "held_out_platform_list = []\n",
    "for platform in platforms:\n",
    "    plat = platform.split('(')[-1].strip(')')\n",
    "    p = [plat] * 2 * num_seeds\n",
    "    held_out_platform_list.extend(p)\n",
    "held_out_platform_list = [plat.split('(')[-1].strip(')') for plat in held_out_platform_list]\n",
    "\n",
    "result_dict = {'mean_acc': mean_list, 'median_acc': median_list, 'max_acc': max_list, 'irm/erm': label_list, \n",
    "               'held_out_platform': held_out_platform_list}\n",
    "result_df = pd.DataFrame(result_dict)"
   ]
  },
  {
   "cell_type": "code",
   "execution_count": 32,
   "metadata": {},
   "outputs": [
    {
     "data": {
      "image/png": "[encoded data removed]",
      "text/plain": [
       "<Figure size 640x480 with 1 Axes>"
      ]
     },
     "metadata": {},
     "output_type": "display_data"
    },
    {
     "data": {
      "text/plain": [
       "<ggplot: (8743696435597)>"
      ]
     },
     "execution_count": 32,
     "metadata": {},
     "output_type": "execute_result"
    }
   ],
   "source": [
    "(ggplot(result_df, aes('irm/erm', 'mean_acc', color='held_out_platform')) + \n",
    " geom_jitter(size=3) +\n",
    " ggtitle('Mean accuracies in IRM and ERM on tune set')\n",
    ")"
   ]
  },
  {
   "cell_type": "code",
   "execution_count": 33,
   "metadata": {},
   "outputs": [
    {
     "data": {
      "image/png": "[encoded data removed]",
      "text/plain": [
       "<Figure size 640x480 with 1 Axes>"
      ]
     },
     "metadata": {},
     "output_type": "display_data"
    },
    {
     "data": {
      "text/plain": [
       "<ggplot: (8743696435561)>"
      ]
     },
     "execution_count": 33,
     "metadata": {},
     "output_type": "execute_result"
    }
   ],
   "source": [
    "(ggplot(result_df, aes('irm/erm', 'mean_acc')) + \n",
    " geom_violin() +\n",
    " ggtitle('Mean accuracies in IRM and ERM on tune set')\n",
    ")"
   ]
  },
  {
   "cell_type": "markdown",
   "metadata": {},
   "source": [
    "### Median accuracies\n",
    "IRM is somewhat unstable during training, and will occasionally have sudden spikes of poor performance.\n",
    "Since we save the best version of the model based on the model's loss, it makes more sense to look at the median accuracy than the mean as a measure of central tendency"
   ]
  },
  {
   "cell_type": "code",
   "execution_count": 34,
   "metadata": {},
   "outputs": [
    {
     "data": {
      "image/png": "[encoded data removed]",
      "text/plain": [
       "<Figure size 640x480 with 1 Axes>"
      ]
     },
     "metadata": {},
     "output_type": "display_data"
    },
    {
     "data": {
      "text/plain": [
       "<ggplot: (8743686488165)>"
      ]
     },
     "execution_count": 34,
     "metadata": {},
     "output_type": "execute_result"
    }
   ],
   "source": [
    "(ggplot(result_df, aes('irm/erm', 'median_acc', color='held_out_platform')) + \n",
    "geom_jitter(size=3) +\n",
    "ggtitle('Median accuracies in ERM and IRM on tune set')\n",
    ")"
   ]
  },
  {
   "cell_type": "code",
   "execution_count": 28,
   "metadata": {},
   "outputs": [
    {
     "data": {
      "image/png": "[encoded data removed]",
      "text/plain": [
       "<Figure size 640x480 with 1 Axes>"
      ]
     },
     "metadata": {},
     "output_type": "display_data"
    },
    {
     "data": {
      "text/plain": [
       "<ggplot: (8743678980077)>"
      ]
     },
     "execution_count": 28,
     "metadata": {},
     "output_type": "execute_result"
    }
   ],
   "source": [
    "(ggplot(result_df, aes('irm/erm', 'median_acc')) + \n",
    "geom_violin() +\n",
    "ggtitle('Median accuracies in ERM and IRM on tune set')\n",
    ")"
   ]
  },
  {
   "cell_type": "markdown",
   "metadata": {},
   "source": [
    "## Max accuracies"
   ]
  },
  {
   "cell_type": "code",
   "execution_count": 43,
   "metadata": {},
   "outputs": [
    {
     "data": {
      "image/png": "[encoded data removed]",
      "text/plain": [
       "<Figure size 640x480 with 1 Axes>"
      ]
     },
     "metadata": {},
     "output_type": "display_data"
    },
    {
     "data": {
      "text/plain": [
       "<ggplot: (8743696816149)>"
      ]
     },
     "execution_count": 43,
     "metadata": {},
     "output_type": "execute_result"
    }
   ],
   "source": [
    "(ggplot(result_df, aes('irm/erm', 'max_acc', color='held_out_platform')) + \n",
    "geom_point(size=3) +\n",
    "ggtitle('Max accuracies in ERM and IRM on tune set')\n",
    ")"
   ]
  },
  {
   "cell_type": "code",
   "execution_count": null,
   "metadata": {},
   "outputs": [],
   "source": []
  }
 ],
 "metadata": {
  "kernelspec": {
   "display_name": "whistl",
   "language": "python",
   "name": "whistl"
  },
  "language_info": {
   "codemirror_mode": {
    "name": "ipython",
    "version": 3
   },
   "file_extension": ".py",
   "mimetype": "text/x-python",
   "name": "python",
   "nbconvert_exporter": "python",
   "pygments_lexer": "ipython3",
   "version": "3.7.4"
  }
 },
 "nbformat": 4,
 "nbformat_minor": 2
}
