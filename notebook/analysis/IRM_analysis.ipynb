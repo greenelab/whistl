{
 "cells": [
  {
   "cell_type": "markdown",
   "metadata": {},
   "source": [
    "# IRM Analysis\n",
    "This notebook will compare the performance of IRM on an unseen platform's worth of gene expression to that of ERM. These results will be used for the preliminary data section for Aim 2 in my prelim proposal.\n",
    "\n",
    "The EDA code is [here](#EDA), or to skip to the analysis, go [here](#eval)"
   ]
  },
  {
   "cell_type": "markdown",
   "metadata": {},
   "source": [
    "<a id='eda'></a>\n",
    "## Sepsis EDA\n",
    "\n",
    "To have a good measure of training performance, ideally we'll have one platform's data held out as a validation set. To see how possible that is, we'll do exploratory data analysis on the sepsis studies in the dataset. "
   ]
  },
  {
   "cell_type": "code",
   "execution_count": 1,
   "metadata": {},
   "outputs": [],
   "source": [
    "import itertools\n",
    "import json\n",
    "import os\n",
    "import sys\n",
    "from pathlib import Path\n",
    "\n",
    "import pandas as pd\n",
    "import sklearn.metrics as metrics\n",
    "import sklearn.preprocessing as preprocessing\n",
    "import torch\n",
    "from plotnine import *\n",
    "from torch.utils.data import DataLoader\n",
    "from torch.utils.tensorboard import SummaryWriter\n",
    "\n",
    "from whistl import datasets\n",
    "from whistl.datasets import CompendiumDataset\n",
    "from whistl import models\n",
    "from whistl import train\n",
    "from whistl import utils"
   ]
  },
  {
   "cell_type": "code",
   "execution_count": 2,
   "metadata": {},
   "outputs": [],
   "source": [
    "import random\n",
    "import numpy as np\n",
    "np.random.seed(42)\n",
    "random.seed(42)"
   ]
  },
  {
   "cell_type": "code",
   "execution_count": 3,
   "metadata": {},
   "outputs": [],
   "source": [
    "curr_path = str(Path('.'))\n",
    "\n",
    "map_file = str(Path('../../data/sample_classifications.pkl'))\n",
    "sample_to_label = utils.parse_map_file(map_file)\n",
    "sample_ids = sample_to_label.keys()\n",
    "\n",
    "metadata_file = str(Path('../../data/all_metadata.json'))\n",
    "metadata_json = json.load(open(metadata_file))\n",
    "sample_metadata = metadata_json['samples']\n",
    "\n",
    "sample_ids = utils.filter_invalid_samples(sample_metadata, sample_ids)\n",
    "\n",
    "sample_to_platform = utils.map_sample_to_platform(metadata_json, sample_ids)\n",
    "sample_to_study = utils.map_sample_to_study(metadata_json, sample_ids)"
   ]
  },
  {
   "cell_type": "code",
   "execution_count": 4,
   "metadata": {},
   "outputs": [
    {
     "data": {
      "text/html": [
       "<div>\n",
       "<style scoped>\n",
       "    .dataframe tbody tr th:only-of-type {\n",
       "        vertical-align: middle;\n",
       "    }\n",
       "\n",
       "    .dataframe tbody tr th {\n",
       "        vertical-align: top;\n",
       "    }\n",
       "\n",
       "    .dataframe thead th {\n",
       "        text-align: right;\n",
       "    }\n",
       "</style>\n",
       "<table border=\"1\" class=\"dataframe\">\n",
       "  <thead>\n",
       "    <tr style=\"text-align: right;\">\n",
       "      <th></th>\n",
       "      <th>E-MEXP-1635-04SE57HA300104</th>\n",
       "      <th>E-MEXP-1635-04SE58HA300104</th>\n",
       "      <th>E-MEXP-1635-04SE59HA300104</th>\n",
       "      <th>E-MEXP-1635-04SE60HA300104</th>\n",
       "      <th>E-MEXP-1635-04SE61HA300104</th>\n",
       "      <th>E-MEXP-1635-04SE62HA300104</th>\n",
       "      <th>E-MEXP-1635-04SE63HA300104</th>\n",
       "      <th>E-MEXP-1635-04SE649HGU133A_201004</th>\n",
       "      <th>E-MEXP-1635-04SE64HA300104</th>\n",
       "      <th>E-MEXP-1635-04SE650HGU133A_201004</th>\n",
       "      <th>...</th>\n",
       "      <th>SRR6870393</th>\n",
       "      <th>SRR6870394</th>\n",
       "      <th>SRR6870395</th>\n",
       "      <th>SRR6870396</th>\n",
       "      <th>SRR6870397</th>\n",
       "      <th>SRR6870398</th>\n",
       "      <th>SRR6870399</th>\n",
       "      <th>SRR6870400</th>\n",
       "      <th>SRR6870401</th>\n",
       "      <th>SRR6870402</th>\n",
       "    </tr>\n",
       "  </thead>\n",
       "  <tbody>\n",
       "    <tr>\n",
       "      <th>ENSG00000000003</th>\n",
       "      <td>0.208914</td>\n",
       "      <td>0.247681</td>\n",
       "      <td>0.133060</td>\n",
       "      <td>0.225220</td>\n",
       "      <td>0.225110</td>\n",
       "      <td>0.145763</td>\n",
       "      <td>0.203744</td>\n",
       "      <td>0.101624</td>\n",
       "      <td>0.216774</td>\n",
       "      <td>0.137222</td>\n",
       "      <td>...</td>\n",
       "      <td>0.244141</td>\n",
       "      <td>0.287628</td>\n",
       "      <td>0.234996</td>\n",
       "      <td>0.179500</td>\n",
       "      <td>0.262060</td>\n",
       "      <td>0.264090</td>\n",
       "      <td>0.248505</td>\n",
       "      <td>0.248617</td>\n",
       "      <td>0.231635</td>\n",
       "      <td>0.220124</td>\n",
       "    </tr>\n",
       "    <tr>\n",
       "      <th>ENSG00000000005</th>\n",
       "      <td>-0.060592</td>\n",
       "      <td>-0.057062</td>\n",
       "      <td>-0.015866</td>\n",
       "      <td>-0.076875</td>\n",
       "      <td>-0.011201</td>\n",
       "      <td>-0.055769</td>\n",
       "      <td>-0.060138</td>\n",
       "      <td>-0.000146</td>\n",
       "      <td>-0.039444</td>\n",
       "      <td>0.068918</td>\n",
       "      <td>...</td>\n",
       "      <td>-0.171151</td>\n",
       "      <td>-0.170181</td>\n",
       "      <td>-0.168437</td>\n",
       "      <td>-0.165942</td>\n",
       "      <td>-0.167972</td>\n",
       "      <td>-0.166330</td>\n",
       "      <td>-0.160954</td>\n",
       "      <td>-0.161027</td>\n",
       "      <td>-0.164263</td>\n",
       "      <td>-0.164568</td>\n",
       "    </tr>\n",
       "    <tr>\n",
       "      <th>ENSG00000000419</th>\n",
       "      <td>6.833205</td>\n",
       "      <td>9.714408</td>\n",
       "      <td>9.193253</td>\n",
       "      <td>10.588144</td>\n",
       "      <td>10.091911</td>\n",
       "      <td>9.000752</td>\n",
       "      <td>7.399193</td>\n",
       "      <td>7.174791</td>\n",
       "      <td>8.533220</td>\n",
       "      <td>9.249745</td>\n",
       "      <td>...</td>\n",
       "      <td>0.703249</td>\n",
       "      <td>0.713038</td>\n",
       "      <td>0.970236</td>\n",
       "      <td>1.070772</td>\n",
       "      <td>0.961582</td>\n",
       "      <td>1.051032</td>\n",
       "      <td>1.369086</td>\n",
       "      <td>1.264025</td>\n",
       "      <td>0.869870</td>\n",
       "      <td>0.743825</td>\n",
       "    </tr>\n",
       "    <tr>\n",
       "      <th>ENSG00000000457</th>\n",
       "      <td>0.214447</td>\n",
       "      <td>0.087237</td>\n",
       "      <td>0.402771</td>\n",
       "      <td>0.209681</td>\n",
       "      <td>0.141353</td>\n",
       "      <td>0.253218</td>\n",
       "      <td>0.188318</td>\n",
       "      <td>0.908775</td>\n",
       "      <td>0.174844</td>\n",
       "      <td>0.388580</td>\n",
       "      <td>...</td>\n",
       "      <td>2.497381</td>\n",
       "      <td>2.674494</td>\n",
       "      <td>2.394772</td>\n",
       "      <td>2.429598</td>\n",
       "      <td>2.450469</td>\n",
       "      <td>2.638023</td>\n",
       "      <td>2.240824</td>\n",
       "      <td>2.407291</td>\n",
       "      <td>1.933599</td>\n",
       "      <td>2.470088</td>\n",
       "    </tr>\n",
       "    <tr>\n",
       "      <th>ENSG00000000460</th>\n",
       "      <td>-0.057339</td>\n",
       "      <td>-0.034758</td>\n",
       "      <td>-0.043255</td>\n",
       "      <td>-0.078963</td>\n",
       "      <td>-0.096355</td>\n",
       "      <td>-0.098674</td>\n",
       "      <td>0.005090</td>\n",
       "      <td>0.037494</td>\n",
       "      <td>-0.033465</td>\n",
       "      <td>-0.112916</td>\n",
       "      <td>...</td>\n",
       "      <td>0.693359</td>\n",
       "      <td>0.464540</td>\n",
       "      <td>0.580630</td>\n",
       "      <td>0.692895</td>\n",
       "      <td>0.408506</td>\n",
       "      <td>0.515283</td>\n",
       "      <td>0.653895</td>\n",
       "      <td>0.437554</td>\n",
       "      <td>0.306867</td>\n",
       "      <td>0.569878</td>\n",
       "    </tr>\n",
       "  </tbody>\n",
       "</table>\n",
       "<p>5 rows × 10234 columns</p>\n",
       "</div>"
      ],
      "text/plain": [
       "                 E-MEXP-1635-04SE57HA300104  E-MEXP-1635-04SE58HA300104  \\\n",
       "ENSG00000000003                    0.208914                    0.247681   \n",
       "ENSG00000000005                   -0.060592                   -0.057062   \n",
       "ENSG00000000419                    6.833205                    9.714408   \n",
       "ENSG00000000457                    0.214447                    0.087237   \n",
       "ENSG00000000460                   -0.057339                   -0.034758   \n",
       "\n",
       "                 E-MEXP-1635-04SE59HA300104  E-MEXP-1635-04SE60HA300104  \\\n",
       "ENSG00000000003                    0.133060                    0.225220   \n",
       "ENSG00000000005                   -0.015866                   -0.076875   \n",
       "ENSG00000000419                    9.193253                   10.588144   \n",
       "ENSG00000000457                    0.402771                    0.209681   \n",
       "ENSG00000000460                   -0.043255                   -0.078963   \n",
       "\n",
       "                 E-MEXP-1635-04SE61HA300104  E-MEXP-1635-04SE62HA300104  \\\n",
       "ENSG00000000003                    0.225110                    0.145763   \n",
       "ENSG00000000005                   -0.011201                   -0.055769   \n",
       "ENSG00000000419                   10.091911                    9.000752   \n",
       "ENSG00000000457                    0.141353                    0.253218   \n",
       "ENSG00000000460                   -0.096355                   -0.098674   \n",
       "\n",
       "                 E-MEXP-1635-04SE63HA300104  \\\n",
       "ENSG00000000003                    0.203744   \n",
       "ENSG00000000005                   -0.060138   \n",
       "ENSG00000000419                    7.399193   \n",
       "ENSG00000000457                    0.188318   \n",
       "ENSG00000000460                    0.005090   \n",
       "\n",
       "                 E-MEXP-1635-04SE649HGU133A_201004  \\\n",
       "ENSG00000000003                           0.101624   \n",
       "ENSG00000000005                          -0.000146   \n",
       "ENSG00000000419                           7.174791   \n",
       "ENSG00000000457                           0.908775   \n",
       "ENSG00000000460                           0.037494   \n",
       "\n",
       "                 E-MEXP-1635-04SE64HA300104  \\\n",
       "ENSG00000000003                    0.216774   \n",
       "ENSG00000000005                   -0.039444   \n",
       "ENSG00000000419                    8.533220   \n",
       "ENSG00000000457                    0.174844   \n",
       "ENSG00000000460                   -0.033465   \n",
       "\n",
       "                 E-MEXP-1635-04SE650HGU133A_201004  ...  SRR6870393  \\\n",
       "ENSG00000000003                           0.137222  ...    0.244141   \n",
       "ENSG00000000005                           0.068918  ...   -0.171151   \n",
       "ENSG00000000419                           9.249745  ...    0.703249   \n",
       "ENSG00000000457                           0.388580  ...    2.497381   \n",
       "ENSG00000000460                          -0.112916  ...    0.693359   \n",
       "\n",
       "                 SRR6870394  SRR6870395  SRR6870396  SRR6870397  SRR6870398  \\\n",
       "ENSG00000000003    0.287628    0.234996    0.179500    0.262060    0.264090   \n",
       "ENSG00000000005   -0.170181   -0.168437   -0.165942   -0.167972   -0.166330   \n",
       "ENSG00000000419    0.713038    0.970236    1.070772    0.961582    1.051032   \n",
       "ENSG00000000457    2.674494    2.394772    2.429598    2.450469    2.638023   \n",
       "ENSG00000000460    0.464540    0.580630    0.692895    0.408506    0.515283   \n",
       "\n",
       "                 SRR6870399  SRR6870400  SRR6870401  SRR6870402  \n",
       "ENSG00000000003    0.248505    0.248617    0.231635    0.220124  \n",
       "ENSG00000000005   -0.160954   -0.161027   -0.164263   -0.164568  \n",
       "ENSG00000000419    1.369086    1.264025    0.869870    0.743825  \n",
       "ENSG00000000457    2.240824    2.407291    1.933599    2.470088  \n",
       "ENSG00000000460    0.653895    0.437554    0.306867    0.569878  \n",
       "\n",
       "[5 rows x 10234 columns]"
      ]
     },
     "execution_count": 4,
     "metadata": {},
     "output_type": "execute_result"
    }
   ],
   "source": [
    "compendium_path = str(Path('../../data/subset_compendium.tsv'))\n",
    "\n",
    "compendium_df = datasets.load_compendium_file(compendium_path)\n",
    "compendium_df.head()"
   ]
  },
  {
   "cell_type": "code",
   "execution_count": 5,
   "metadata": {},
   "outputs": [
    {
     "name": "stdout",
     "output_type": "stream",
     "text": [
      "1319\n",
      "1319\n",
      "1319\n"
     ]
    }
   ],
   "source": [
    "sepsis_samples = [sample for sample in sample_ids if sample_to_label[sample] == 'sepsis']\n",
    "sepsis_platforms = [sample_to_platform[sample] for sample in sepsis_samples]\n",
    "sepsis_studies = [sample_to_study[sample] for sample in sepsis_samples]\n",
    "print(len(sepsis_samples))\n",
    "print(len(sepsis_platforms))\n",
    "print(len(sepsis_studies))"
   ]
  },
  {
   "cell_type": "code",
   "execution_count": 6,
   "metadata": {},
   "outputs": [
    {
     "data": {
      "text/html": [
       "<div>\n",
       "<style scoped>\n",
       "    .dataframe tbody tr th:only-of-type {\n",
       "        vertical-align: middle;\n",
       "    }\n",
       "\n",
       "    .dataframe tbody tr th {\n",
       "        vertical-align: top;\n",
       "    }\n",
       "\n",
       "    .dataframe thead th {\n",
       "        text-align: right;\n",
       "    }\n",
       "</style>\n",
       "<table border=\"1\" class=\"dataframe\">\n",
       "  <thead>\n",
       "    <tr style=\"text-align: right;\">\n",
       "      <th></th>\n",
       "      <th>platform</th>\n",
       "      <th>study</th>\n",
       "    </tr>\n",
       "    <tr>\n",
       "      <th>sample</th>\n",
       "      <th></th>\n",
       "      <th></th>\n",
       "    </tr>\n",
       "  </thead>\n",
       "  <tbody>\n",
       "    <tr>\n",
       "      <th>GSM102985</th>\n",
       "      <td>affymetrix human genome u133 plus 2.0 array (h...</td>\n",
       "      <td>GSE4607</td>\n",
       "    </tr>\n",
       "    <tr>\n",
       "      <th>GSM102986</th>\n",
       "      <td>affymetrix human genome u133 plus 2.0 array (h...</td>\n",
       "      <td>GSE4607</td>\n",
       "    </tr>\n",
       "    <tr>\n",
       "      <th>GSM102987</th>\n",
       "      <td>affymetrix human genome u133 plus 2.0 array (h...</td>\n",
       "      <td>GSE4607</td>\n",
       "    </tr>\n",
       "    <tr>\n",
       "      <th>GSM102988</th>\n",
       "      <td>affymetrix human genome u133 plus 2.0 array (h...</td>\n",
       "      <td>GSE4607</td>\n",
       "    </tr>\n",
       "    <tr>\n",
       "      <th>GSM102989</th>\n",
       "      <td>affymetrix human genome u133 plus 2.0 array (h...</td>\n",
       "      <td>GSE4607</td>\n",
       "    </tr>\n",
       "  </tbody>\n",
       "</table>\n",
       "</div>"
      ],
      "text/plain": [
       "                                                    platform    study\n",
       "sample                                                               \n",
       "GSM102985  affymetrix human genome u133 plus 2.0 array (h...  GSE4607\n",
       "GSM102986  affymetrix human genome u133 plus 2.0 array (h...  GSE4607\n",
       "GSM102987  affymetrix human genome u133 plus 2.0 array (h...  GSE4607\n",
       "GSM102988  affymetrix human genome u133 plus 2.0 array (h...  GSE4607\n",
       "GSM102989  affymetrix human genome u133 plus 2.0 array (h...  GSE4607"
      ]
     },
     "execution_count": 6,
     "metadata": {},
     "output_type": "execute_result"
    }
   ],
   "source": [
    "sepsis_metadata_dict = {'sample': sepsis_samples, 'platform': sepsis_platforms, 'study': sepsis_studies}\n",
    "sepsis_metadata_df = pd.DataFrame(sepsis_metadata_dict)\n",
    "sepsis_metadata_df = sepsis_metadata_df.set_index('sample')\n",
    "sepsis_metadata_df.head()"
   ]
  },
  {
   "cell_type": "code",
   "execution_count": 7,
   "metadata": {},
   "outputs": [
    {
     "data": {
      "text/plain": [
       "affymetrix human genome u133 plus 2.0 array (hgu133plus2)    953\n",
       "affymetrix human genome u133a 2.0 array (hgu133a2)            85\n",
       "affymetrix human human exon 1.0 st array (huex10st)           74\n",
       "affymetrix human gene 1.0 st array (hugene10st)               54\n",
       "illumina hiseq 2500 (illuminahiseq2500)                       52\n",
       "affymetrix human genome u219 array (hgu219)                   51\n",
       "illumina genome analyzer iix (illuminagenomeanalyzeriix)      49\n",
       "affymetrix human genome u133a array (hgu133a)                  1\n",
       "Name: platform, dtype: int64"
      ]
     },
     "execution_count": 7,
     "metadata": {},
     "output_type": "execute_result"
    }
   ],
   "source": [
    "sepsis_metadata_df['platform'].value_counts()"
   ]
  },
  {
   "cell_type": "code",
   "execution_count": 8,
   "metadata": {},
   "outputs": [
    {
     "data": {
      "text/html": [
       "<div>\n",
       "<style scoped>\n",
       "    .dataframe tbody tr th:only-of-type {\n",
       "        vertical-align: middle;\n",
       "    }\n",
       "\n",
       "    .dataframe tbody tr th {\n",
       "        vertical-align: top;\n",
       "    }\n",
       "\n",
       "    .dataframe thead th {\n",
       "        text-align: right;\n",
       "    }\n",
       "</style>\n",
       "<table border=\"1\" class=\"dataframe\">\n",
       "  <thead>\n",
       "    <tr style=\"text-align: right;\">\n",
       "      <th></th>\n",
       "      <th>platform</th>\n",
       "      <th>study</th>\n",
       "    </tr>\n",
       "    <tr>\n",
       "      <th>sample</th>\n",
       "      <th></th>\n",
       "      <th></th>\n",
       "    </tr>\n",
       "  </thead>\n",
       "  <tbody>\n",
       "    <tr>\n",
       "      <th>GSM301847</th>\n",
       "      <td>affymetrix human genome u133a array (hgu133a)</td>\n",
       "      <td>GSE11907</td>\n",
       "    </tr>\n",
       "  </tbody>\n",
       "</table>\n",
       "</div>"
      ],
      "text/plain": [
       "                                                platform     study\n",
       "sample                                                            \n",
       "GSM301847  affymetrix human genome u133a array (hgu133a)  GSE11907"
      ]
     },
     "execution_count": 8,
     "metadata": {},
     "output_type": "execute_result"
    }
   ],
   "source": [
    "sepsis_metadata_df[sepsis_metadata_df['platform'] == 'affymetrix human genome u133a array (hgu133a)']"
   ]
  },
  {
   "cell_type": "code",
   "execution_count": 9,
   "metadata": {},
   "outputs": [
    {
     "name": "stdout",
     "output_type": "stream",
     "text": [
      "1318\n"
     ]
    }
   ],
   "source": [
    "# Remove platform with only one sample to reduce downstream variance\n",
    "sepsis_metadata_df = sepsis_metadata_df.drop(labels='GSM301847', axis=0)\n",
    "print(len(sepsis_metadata_df.index))"
   ]
  },
  {
   "cell_type": "code",
   "execution_count": 10,
   "metadata": {},
   "outputs": [
    {
     "data": {
      "text/plain": [
       "GSE66099     196\n",
       "GSE13904     152\n",
       "GSE95233     100\n",
       "GSE26440      98\n",
       "GSE26378      82\n",
       "GSE57065      80\n",
       "GSE74224      74\n",
       "SRP132709     64\n",
       "GSE66890      54\n",
       "GSE4607       54\n",
       "GSE8121       51\n",
       "GSE33341      51\n",
       "GSE65682      51\n",
       "GSE9960       47\n",
       "SRP049820     37\n",
       "GSE10474      34\n",
       "GSE33118      20\n",
       "GSE33119      19\n",
       "GSE11755      18\n",
       "GSE64457      15\n",
       "GSE25504      11\n",
       "GSE28750      10\n",
       "Name: study, dtype: int64"
      ]
     },
     "execution_count": 10,
     "metadata": {},
     "output_type": "execute_result"
    }
   ],
   "source": [
    "sepsis_metadata_df['study'].value_counts()"
   ]
  },
  {
   "cell_type": "markdown",
   "metadata": {},
   "source": [
    "<a id='eval'></a>\n",
    "## IRM Evaluation"
   ]
  },
  {
   "cell_type": "markdown",
   "metadata": {},
   "source": [
    "### Setup\n",
    "This code is unnecessary, as the variables are already initialized in the EDA section.\n",
    "It is included here for the sake of clarity for people who skip to the analysis"
   ]
  },
  {
   "cell_type": "code",
   "execution_count": 11,
   "metadata": {},
   "outputs": [],
   "source": [
    "curr_path = os.path.dirname(os.path.abspath(os.path.abspath('')))\n",
    "\n",
    "map_file = str(Path('../../data/sample_classifications.pkl'))\n",
    "sample_to_label = utils.parse_map_file(map_file)\n",
    "\n",
    "metadata_path = str(Path('../../data/all_metadata.json'))\n",
    "\n",
    "compendium_path = str(Path('../../data/subset_compendium.tsv'))"
   ]
  },
  {
   "cell_type": "markdown",
   "metadata": {},
   "source": [
    "### More setup\n",
    "Initialize the model and encoder for the training process"
   ]
  },
  {
   "cell_type": "code",
   "execution_count": 12,
   "metadata": {},
   "outputs": [
    {
     "data": {
      "text/plain": [
       "LabelEncoder()"
      ]
     },
     "execution_count": 12,
     "metadata": {},
     "output_type": "execute_result"
    }
   ],
   "source": [
    "classes = ['sepsis', 'healthy']\n",
    "encoder = preprocessing.LabelEncoder()\n",
    "encoder.fit(classes)"
   ]
  },
  {
   "cell_type": "markdown",
   "metadata": {},
   "source": [
    "### Tune split\n",
    "We will get a rough estimate of performance with leave-one-out cross-validation. To know when to stop training, though, we will need a tuning dataset."
   ]
  },
  {
   "cell_type": "code",
   "execution_count": 13,
   "metadata": {},
   "outputs": [
    {
     "name": "stdout",
     "output_type": "stream",
     "text": [
      "51\n",
      "1267\n"
     ]
    }
   ],
   "source": [
    "tune_df = sepsis_metadata_df[sepsis_metadata_df['platform'] == 'affymetrix human genome u219 array (hgu219)']\n",
    "train_df = sepsis_metadata_df[sepsis_metadata_df['platform'] != 'affymetrix human genome u219 array (hgu219)']\n",
    "print(len(tune_df.index))\n",
    "print(len(train_df.index))\n",
    "\n",
    "tune_studies = tune_df['study'].unique()\n",
    "tune_dataset = CompendiumDataset(tune_studies, classes, \n",
    "                                 sample_to_label, metadata_path, \n",
    "                                 compendium_path, encoder)\n",
    "tune_loader = DataLoader(tune_dataset, batch_size=1)"
   ]
  },
  {
   "cell_type": "markdown",
   "metadata": {},
   "source": [
    "### Filter Platforms\n",
    "Remove a platform that corresponds to a study present in the labeled data, but not the human compendium"
   ]
  },
  {
   "cell_type": "code",
   "execution_count": 14,
   "metadata": {},
   "outputs": [],
   "source": [
    "platforms = train_df['platform'].unique()\n",
    "platforms = [p \n",
    "             for p in platforms \n",
    "             if p != 'affymetrix human human exon 1.0 st array (huex10st)'\n",
    "            ]"
   ]
  },
  {
   "cell_type": "markdown",
   "metadata": {},
   "source": [
    "## Training\n",
    "\n",
    "The models are trained with two platforms held out. \n",
    "One platform (huex10st) is left out in all runs, and is used as a tuning set to determine which version of the model should be saved.\n",
    "The second platform (referred to going forward as the 'held-out platform') is held out during training, then the trained model's performance is evaluated by trying to predict whether each sample corresponds to sepsis or healthy expression."
   ]
  },
  {
   "cell_type": "code",
   "execution_count": 15,
   "metadata": {},
   "outputs": [
    {
     "name": "stdout",
     "output_type": "stream",
     "text": [
      "affymetrix human genome u133 plus 2.0 array (hgu133plus2) 0\n"
     ]
    },
    {
     "data": {
      "application/vnd.jupyter.widget-view+json": {
       "model_id": "505811d1ff774e5cbdd6051e51117f80",
       "version_major": 2,
       "version_minor": 0
      },
      "text/plain": [
       "HBox(children=(IntProgress(value=0, max=400), HTML(value='')))"
      ]
     },
     "metadata": {},
     "output_type": "display_data"
    },
    {
     "name": "stdout",
     "output_type": "stream",
     "text": [
      "\n"
     ]
    },
    {
     "data": {
      "application/vnd.jupyter.widget-view+json": {
       "model_id": "3a5f5fd1b3e947b5b73f8e6a06d43626",
       "version_major": 2,
       "version_minor": 0
      },
      "text/plain": [
       "HBox(children=(IntProgress(value=0, max=400), HTML(value='')))"
      ]
     },
     "metadata": {},
     "output_type": "display_data"
    },
    {
     "name": "stdout",
     "output_type": "stream",
     "text": [
      "\n",
      "affymetrix human genome u133 plus 2.0 array (hgu133plus2) 1\n"
     ]
    },
    {
     "data": {
      "application/vnd.jupyter.widget-view+json": {
       "model_id": "9a509b48d0cb43b387ed8acb008cb428",
       "version_major": 2,
       "version_minor": 0
      },
      "text/plain": [
       "HBox(children=(IntProgress(value=0, max=400), HTML(value='')))"
      ]
     },
     "metadata": {},
     "output_type": "display_data"
    },
    {
     "name": "stdout",
     "output_type": "stream",
     "text": [
      "\n"
     ]
    },
    {
     "data": {
      "application/vnd.jupyter.widget-view+json": {
       "model_id": "587c4af2de7648999dac9d4746d8f95c",
       "version_major": 2,
       "version_minor": 0
      },
      "text/plain": [
       "HBox(children=(IntProgress(value=0, max=400), HTML(value='')))"
      ]
     },
     "metadata": {},
     "output_type": "display_data"
    },
    {
     "name": "stdout",
     "output_type": "stream",
     "text": [
      "\n",
      "affymetrix human genome u133 plus 2.0 array (hgu133plus2) 2\n"
     ]
    },
    {
     "data": {
      "application/vnd.jupyter.widget-view+json": {
       "model_id": "81cab20cd5444cd583e34d569ae96084",
       "version_major": 2,
       "version_minor": 0
      },
      "text/plain": [
       "HBox(children=(IntProgress(value=0, max=400), HTML(value='')))"
      ]
     },
     "metadata": {},
     "output_type": "display_data"
    },
    {
     "name": "stdout",
     "output_type": "stream",
     "text": [
      "\n"
     ]
    },
    {
     "data": {
      "application/vnd.jupyter.widget-view+json": {
       "model_id": "77d361fffe0b48749b97c4d5af29d45f",
       "version_major": 2,
       "version_minor": 0
      },
      "text/plain": [
       "HBox(children=(IntProgress(value=0, max=400), HTML(value='')))"
      ]
     },
     "metadata": {},
     "output_type": "display_data"
    },
    {
     "name": "stdout",
     "output_type": "stream",
     "text": [
      "\n",
      "affymetrix human genome u133 plus 2.0 array (hgu133plus2) 3\n"
     ]
    },
    {
     "data": {
      "application/vnd.jupyter.widget-view+json": {
       "model_id": "7ad6b9bbb941426e80d81fa38720986b",
       "version_major": 2,
       "version_minor": 0
      },
      "text/plain": [
       "HBox(children=(IntProgress(value=0, max=400), HTML(value='')))"
      ]
     },
     "metadata": {},
     "output_type": "display_data"
    },
    {
     "name": "stdout",
     "output_type": "stream",
     "text": [
      "\n"
     ]
    },
    {
     "data": {
      "application/vnd.jupyter.widget-view+json": {
       "model_id": "29cb13a7e8984d85b1f64a44e46f75b2",
       "version_major": 2,
       "version_minor": 0
      },
      "text/plain": [
       "HBox(children=(IntProgress(value=0, max=400), HTML(value='')))"
      ]
     },
     "metadata": {},
     "output_type": "display_data"
    },
    {
     "name": "stdout",
     "output_type": "stream",
     "text": [
      "\n",
      "affymetrix human genome u133 plus 2.0 array (hgu133plus2) 4\n"
     ]
    },
    {
     "data": {
      "application/vnd.jupyter.widget-view+json": {
       "model_id": "74c4d194f3ec49f1822bb6c567c41680",
       "version_major": 2,
       "version_minor": 0
      },
      "text/plain": [
       "HBox(children=(IntProgress(value=0, max=400), HTML(value='')))"
      ]
     },
     "metadata": {},
     "output_type": "display_data"
    },
    {
     "name": "stdout",
     "output_type": "stream",
     "text": [
      "\n"
     ]
    },
    {
     "data": {
      "application/vnd.jupyter.widget-view+json": {
       "model_id": "9e6f0b6bd7ab42b9b8d81b9534669b5a",
       "version_major": 2,
       "version_minor": 0
      },
      "text/plain": [
       "HBox(children=(IntProgress(value=0, max=400), HTML(value='')))"
      ]
     },
     "metadata": {},
     "output_type": "display_data"
    },
    {
     "name": "stdout",
     "output_type": "stream",
     "text": [
      "\n",
      "affymetrix human gene 1.0 st array (hugene10st) 0\n"
     ]
    },
    {
     "data": {
      "application/vnd.jupyter.widget-view+json": {
       "model_id": "b74d321864204271990ac5600ffbd469",
       "version_major": 2,
       "version_minor": 0
      },
      "text/plain": [
       "HBox(children=(IntProgress(value=0, max=400), HTML(value='')))"
      ]
     },
     "metadata": {},
     "output_type": "display_data"
    },
    {
     "name": "stdout",
     "output_type": "stream",
     "text": [
      "\n"
     ]
    },
    {
     "data": {
      "application/vnd.jupyter.widget-view+json": {
       "model_id": "c85252c93af84f62932f02d9ab34921e",
       "version_major": 2,
       "version_minor": 0
      },
      "text/plain": [
       "HBox(children=(IntProgress(value=0, max=400), HTML(value='')))"
      ]
     },
     "metadata": {},
     "output_type": "display_data"
    },
    {
     "name": "stdout",
     "output_type": "stream",
     "text": [
      "\n",
      "affymetrix human gene 1.0 st array (hugene10st) 1\n"
     ]
    },
    {
     "data": {
      "application/vnd.jupyter.widget-view+json": {
       "model_id": "c01c8aee8dc045d8be1ab3cc3e07516a",
       "version_major": 2,
       "version_minor": 0
      },
      "text/plain": [
       "HBox(children=(IntProgress(value=0, max=400), HTML(value='')))"
      ]
     },
     "metadata": {},
     "output_type": "display_data"
    },
    {
     "name": "stdout",
     "output_type": "stream",
     "text": [
      "\n"
     ]
    },
    {
     "data": {
      "application/vnd.jupyter.widget-view+json": {
       "model_id": "a305586467db4aaf87adbbd6562dde4f",
       "version_major": 2,
       "version_minor": 0
      },
      "text/plain": [
       "HBox(children=(IntProgress(value=0, max=400), HTML(value='')))"
      ]
     },
     "metadata": {},
     "output_type": "display_data"
    },
    {
     "name": "stdout",
     "output_type": "stream",
     "text": [
      "\n",
      "affymetrix human gene 1.0 st array (hugene10st) 2\n"
     ]
    },
    {
     "data": {
      "application/vnd.jupyter.widget-view+json": {
       "model_id": "bfdd599e93fb4be3a3967d62918bb4df",
       "version_major": 2,
       "version_minor": 0
      },
      "text/plain": [
       "HBox(children=(IntProgress(value=0, max=400), HTML(value='')))"
      ]
     },
     "metadata": {},
     "output_type": "display_data"
    },
    {
     "name": "stdout",
     "output_type": "stream",
     "text": [
      "\n"
     ]
    },
    {
     "data": {
      "application/vnd.jupyter.widget-view+json": {
       "model_id": "68f89d9edd134b388b08a0c1cb1e47c5",
       "version_major": 2,
       "version_minor": 0
      },
      "text/plain": [
       "HBox(children=(IntProgress(value=0, max=400), HTML(value='')))"
      ]
     },
     "metadata": {},
     "output_type": "display_data"
    },
    {
     "name": "stdout",
     "output_type": "stream",
     "text": [
      "\n",
      "affymetrix human gene 1.0 st array (hugene10st) 3\n"
     ]
    },
    {
     "data": {
      "application/vnd.jupyter.widget-view+json": {
       "model_id": "37459676e10840a89f50f998bc903a86",
       "version_major": 2,
       "version_minor": 0
      },
      "text/plain": [
       "HBox(children=(IntProgress(value=0, max=400), HTML(value='')))"
      ]
     },
     "metadata": {},
     "output_type": "display_data"
    },
    {
     "name": "stdout",
     "output_type": "stream",
     "text": [
      "\n"
     ]
    },
    {
     "data": {
      "application/vnd.jupyter.widget-view+json": {
       "model_id": "51aaf4230d6f43aab18d2715e6fcb2d1",
       "version_major": 2,
       "version_minor": 0
      },
      "text/plain": [
       "HBox(children=(IntProgress(value=0, max=400), HTML(value='')))"
      ]
     },
     "metadata": {},
     "output_type": "display_data"
    },
    {
     "name": "stdout",
     "output_type": "stream",
     "text": [
      "\n",
      "affymetrix human gene 1.0 st array (hugene10st) 4\n"
     ]
    },
    {
     "data": {
      "application/vnd.jupyter.widget-view+json": {
       "model_id": "8a5bfa22f8f346209d81b62ec1c4d1e4",
       "version_major": 2,
       "version_minor": 0
      },
      "text/plain": [
       "HBox(children=(IntProgress(value=0, max=400), HTML(value='')))"
      ]
     },
     "metadata": {},
     "output_type": "display_data"
    },
    {
     "name": "stdout",
     "output_type": "stream",
     "text": [
      "\n"
     ]
    },
    {
     "data": {
      "application/vnd.jupyter.widget-view+json": {
       "model_id": "a255c3b7d06f4a2b8d9cc10394257e84",
       "version_major": 2,
       "version_minor": 0
      },
      "text/plain": [
       "HBox(children=(IntProgress(value=0, max=400), HTML(value='')))"
      ]
     },
     "metadata": {},
     "output_type": "display_data"
    },
    {
     "name": "stdout",
     "output_type": "stream",
     "text": [
      "\n",
      "affymetrix human genome u133a 2.0 array (hgu133a2) 0\n"
     ]
    },
    {
     "data": {
      "application/vnd.jupyter.widget-view+json": {
       "model_id": "5ec651ceffa5449880d811e7a9c89e75",
       "version_major": 2,
       "version_minor": 0
      },
      "text/plain": [
       "HBox(children=(IntProgress(value=0, max=400), HTML(value='')))"
      ]
     },
     "metadata": {},
     "output_type": "display_data"
    },
    {
     "name": "stdout",
     "output_type": "stream",
     "text": [
      "\n"
     ]
    },
    {
     "data": {
      "application/vnd.jupyter.widget-view+json": {
       "model_id": "20c5baa5430f437d8411adb87e90b137",
       "version_major": 2,
       "version_minor": 0
      },
      "text/plain": [
       "HBox(children=(IntProgress(value=0, max=400), HTML(value='')))"
      ]
     },
     "metadata": {},
     "output_type": "display_data"
    },
    {
     "name": "stdout",
     "output_type": "stream",
     "text": [
      "\n",
      "affymetrix human genome u133a 2.0 array (hgu133a2) 1\n"
     ]
    },
    {
     "data": {
      "application/vnd.jupyter.widget-view+json": {
       "model_id": "d0b05829b9a04bbe9214646b3247e272",
       "version_major": 2,
       "version_minor": 0
      },
      "text/plain": [
       "HBox(children=(IntProgress(value=0, max=400), HTML(value='')))"
      ]
     },
     "metadata": {},
     "output_type": "display_data"
    },
    {
     "name": "stdout",
     "output_type": "stream",
     "text": [
      "\n"
     ]
    },
    {
     "data": {
      "application/vnd.jupyter.widget-view+json": {
       "model_id": "8817a70572364db49321b98e9bf50591",
       "version_major": 2,
       "version_minor": 0
      },
      "text/plain": [
       "HBox(children=(IntProgress(value=0, max=400), HTML(value='')))"
      ]
     },
     "metadata": {},
     "output_type": "display_data"
    },
    {
     "name": "stdout",
     "output_type": "stream",
     "text": [
      "\n",
      "affymetrix human genome u133a 2.0 array (hgu133a2) 2\n"
     ]
    },
    {
     "data": {
      "application/vnd.jupyter.widget-view+json": {
       "model_id": "e2d061d87cfa49ac97089de65a3925d1",
       "version_major": 2,
       "version_minor": 0
      },
      "text/plain": [
       "HBox(children=(IntProgress(value=0, max=400), HTML(value='')))"
      ]
     },
     "metadata": {},
     "output_type": "display_data"
    },
    {
     "name": "stdout",
     "output_type": "stream",
     "text": [
      "\n"
     ]
    },
    {
     "data": {
      "application/vnd.jupyter.widget-view+json": {
       "model_id": "e9044094c9fe43238ab5f63e72d53673",
       "version_major": 2,
       "version_minor": 0
      },
      "text/plain": [
       "HBox(children=(IntProgress(value=0, max=400), HTML(value='')))"
      ]
     },
     "metadata": {},
     "output_type": "display_data"
    },
    {
     "name": "stdout",
     "output_type": "stream",
     "text": [
      "\n",
      "affymetrix human genome u133a 2.0 array (hgu133a2) 3\n"
     ]
    },
    {
     "data": {
      "application/vnd.jupyter.widget-view+json": {
       "model_id": "607acf7c4fd044869dc7786981321b50",
       "version_major": 2,
       "version_minor": 0
      },
      "text/plain": [
       "HBox(children=(IntProgress(value=0, max=400), HTML(value='')))"
      ]
     },
     "metadata": {},
     "output_type": "display_data"
    },
    {
     "name": "stdout",
     "output_type": "stream",
     "text": [
      "\n"
     ]
    },
    {
     "data": {
      "application/vnd.jupyter.widget-view+json": {
       "model_id": "cb8ed703eace4e2594ed422b92d1ec89",
       "version_major": 2,
       "version_minor": 0
      },
      "text/plain": [
       "HBox(children=(IntProgress(value=0, max=400), HTML(value='')))"
      ]
     },
     "metadata": {},
     "output_type": "display_data"
    },
    {
     "name": "stdout",
     "output_type": "stream",
     "text": [
      "\n",
      "affymetrix human genome u133a 2.0 array (hgu133a2) 4\n"
     ]
    },
    {
     "data": {
      "application/vnd.jupyter.widget-view+json": {
       "model_id": "739a75eaf8e84c4db0f4c9baa0339b01",
       "version_major": 2,
       "version_minor": 0
      },
      "text/plain": [
       "HBox(children=(IntProgress(value=0, max=400), HTML(value='')))"
      ]
     },
     "metadata": {},
     "output_type": "display_data"
    },
    {
     "name": "stdout",
     "output_type": "stream",
     "text": [
      "\n"
     ]
    },
    {
     "data": {
      "application/vnd.jupyter.widget-view+json": {
       "model_id": "3b3774f01f404ef58ecb78be3d937ded",
       "version_major": 2,
       "version_minor": 0
      },
      "text/plain": [
       "HBox(children=(IntProgress(value=0, max=400), HTML(value='')))"
      ]
     },
     "metadata": {},
     "output_type": "display_data"
    },
    {
     "name": "stdout",
     "output_type": "stream",
     "text": [
      "\n",
      "illumina genome analyzer iix (illuminagenomeanalyzeriix) 0\n"
     ]
    },
    {
     "data": {
      "application/vnd.jupyter.widget-view+json": {
       "model_id": "ac60b2b5a7c74842b537886399f5b989",
       "version_major": 2,
       "version_minor": 0
      },
      "text/plain": [
       "HBox(children=(IntProgress(value=0, max=400), HTML(value='')))"
      ]
     },
     "metadata": {},
     "output_type": "display_data"
    },
    {
     "name": "stdout",
     "output_type": "stream",
     "text": [
      "\n"
     ]
    },
    {
     "data": {
      "application/vnd.jupyter.widget-view+json": {
       "model_id": "7a9810e88a6c416eadfb8dbf3392b84b",
       "version_major": 2,
       "version_minor": 0
      },
      "text/plain": [
       "HBox(children=(IntProgress(value=0, max=400), HTML(value='')))"
      ]
     },
     "metadata": {},
     "output_type": "display_data"
    },
    {
     "name": "stdout",
     "output_type": "stream",
     "text": [
      "\n",
      "illumina genome analyzer iix (illuminagenomeanalyzeriix) 1\n"
     ]
    },
    {
     "data": {
      "application/vnd.jupyter.widget-view+json": {
       "model_id": "df9e1a0b812c4e57a6fb790f834fed0b",
       "version_major": 2,
       "version_minor": 0
      },
      "text/plain": [
       "HBox(children=(IntProgress(value=0, max=400), HTML(value='')))"
      ]
     },
     "metadata": {},
     "output_type": "display_data"
    },
    {
     "name": "stdout",
     "output_type": "stream",
     "text": [
      "\n"
     ]
    },
    {
     "data": {
      "application/vnd.jupyter.widget-view+json": {
       "model_id": "3cc28d52c1084311b7e961db7323d3cc",
       "version_major": 2,
       "version_minor": 0
      },
      "text/plain": [
       "HBox(children=(IntProgress(value=0, max=400), HTML(value='')))"
      ]
     },
     "metadata": {},
     "output_type": "display_data"
    },
    {
     "name": "stdout",
     "output_type": "stream",
     "text": [
      "\n",
      "illumina genome analyzer iix (illuminagenomeanalyzeriix) 2\n"
     ]
    },
    {
     "data": {
      "application/vnd.jupyter.widget-view+json": {
       "model_id": "3aae2188d72d4c4da75363e97cad8943",
       "version_major": 2,
       "version_minor": 0
      },
      "text/plain": [
       "HBox(children=(IntProgress(value=0, max=400), HTML(value='')))"
      ]
     },
     "metadata": {},
     "output_type": "display_data"
    },
    {
     "name": "stdout",
     "output_type": "stream",
     "text": [
      "\n"
     ]
    },
    {
     "data": {
      "application/vnd.jupyter.widget-view+json": {
       "model_id": "2da4916cf6b340808d7049cdfd66e139",
       "version_major": 2,
       "version_minor": 0
      },
      "text/plain": [
       "HBox(children=(IntProgress(value=0, max=400), HTML(value='')))"
      ]
     },
     "metadata": {},
     "output_type": "display_data"
    },
    {
     "name": "stdout",
     "output_type": "stream",
     "text": [
      "\n",
      "illumina genome analyzer iix (illuminagenomeanalyzeriix) 3\n"
     ]
    },
    {
     "data": {
      "application/vnd.jupyter.widget-view+json": {
       "model_id": "ab5b049daddf4c26b32dab36e2598a9f",
       "version_major": 2,
       "version_minor": 0
      },
      "text/plain": [
       "HBox(children=(IntProgress(value=0, max=400), HTML(value='')))"
      ]
     },
     "metadata": {},
     "output_type": "display_data"
    },
    {
     "name": "stdout",
     "output_type": "stream",
     "text": [
      "\n"
     ]
    },
    {
     "data": {
      "application/vnd.jupyter.widget-view+json": {
       "model_id": "6d0283f46d4544d5a025524eae7f75fe",
       "version_major": 2,
       "version_minor": 0
      },
      "text/plain": [
       "HBox(children=(IntProgress(value=0, max=400), HTML(value='')))"
      ]
     },
     "metadata": {},
     "output_type": "display_data"
    },
    {
     "name": "stdout",
     "output_type": "stream",
     "text": [
      "\n",
      "illumina genome analyzer iix (illuminagenomeanalyzeriix) 4\n"
     ]
    },
    {
     "data": {
      "application/vnd.jupyter.widget-view+json": {
       "model_id": "9e93480e97e44d3dad97f856252f9533",
       "version_major": 2,
       "version_minor": 0
      },
      "text/plain": [
       "HBox(children=(IntProgress(value=0, max=400), HTML(value='')))"
      ]
     },
     "metadata": {},
     "output_type": "display_data"
    },
    {
     "name": "stdout",
     "output_type": "stream",
     "text": [
      "\n"
     ]
    },
    {
     "data": {
      "application/vnd.jupyter.widget-view+json": {
       "model_id": "b2ecae9e271747ad94ea929f42610654",
       "version_major": 2,
       "version_minor": 0
      },
      "text/plain": [
       "HBox(children=(IntProgress(value=0, max=400), HTML(value='')))"
      ]
     },
     "metadata": {},
     "output_type": "display_data"
    },
    {
     "name": "stdout",
     "output_type": "stream",
     "text": [
      "\n",
      "illumina hiseq 2500 (illuminahiseq2500) 0\n"
     ]
    },
    {
     "data": {
      "application/vnd.jupyter.widget-view+json": {
       "model_id": "a76d70d0700c4b24a62f208a5fe9bb81",
       "version_major": 2,
       "version_minor": 0
      },
      "text/plain": [
       "HBox(children=(IntProgress(value=0, max=400), HTML(value='')))"
      ]
     },
     "metadata": {},
     "output_type": "display_data"
    },
    {
     "name": "stdout",
     "output_type": "stream",
     "text": [
      "\n"
     ]
    },
    {
     "data": {
      "application/vnd.jupyter.widget-view+json": {
       "model_id": "504a3cb9c6624a2e8ce022e491fed617",
       "version_major": 2,
       "version_minor": 0
      },
      "text/plain": [
       "HBox(children=(IntProgress(value=0, max=400), HTML(value='')))"
      ]
     },
     "metadata": {},
     "output_type": "display_data"
    },
    {
     "name": "stdout",
     "output_type": "stream",
     "text": [
      "\n",
      "illumina hiseq 2500 (illuminahiseq2500) 1\n"
     ]
    },
    {
     "data": {
      "application/vnd.jupyter.widget-view+json": {
       "model_id": "faf95723312642eeac3f6731d0ff7f74",
       "version_major": 2,
       "version_minor": 0
      },
      "text/plain": [
       "HBox(children=(IntProgress(value=0, max=400), HTML(value='')))"
      ]
     },
     "metadata": {},
     "output_type": "display_data"
    },
    {
     "name": "stdout",
     "output_type": "stream",
     "text": [
      "\n"
     ]
    },
    {
     "data": {
      "application/vnd.jupyter.widget-view+json": {
       "model_id": "066d0689cc6f492ba6094175570cf420",
       "version_major": 2,
       "version_minor": 0
      },
      "text/plain": [
       "HBox(children=(IntProgress(value=0, max=400), HTML(value='')))"
      ]
     },
     "metadata": {},
     "output_type": "display_data"
    },
    {
     "name": "stdout",
     "output_type": "stream",
     "text": [
      "\n",
      "illumina hiseq 2500 (illuminahiseq2500) 2\n"
     ]
    },
    {
     "data": {
      "application/vnd.jupyter.widget-view+json": {
       "model_id": "c45dadb4838a4adc9a8965561142fa4b",
       "version_major": 2,
       "version_minor": 0
      },
      "text/plain": [
       "HBox(children=(IntProgress(value=0, max=400), HTML(value='')))"
      ]
     },
     "metadata": {},
     "output_type": "display_data"
    },
    {
     "name": "stdout",
     "output_type": "stream",
     "text": [
      "\n"
     ]
    },
    {
     "data": {
      "application/vnd.jupyter.widget-view+json": {
       "model_id": "7a16c529a56c4a4a87403383ca74a7bc",
       "version_major": 2,
       "version_minor": 0
      },
      "text/plain": [
       "HBox(children=(IntProgress(value=0, max=400), HTML(value='')))"
      ]
     },
     "metadata": {},
     "output_type": "display_data"
    },
    {
     "name": "stdout",
     "output_type": "stream",
     "text": [
      "\n",
      "illumina hiseq 2500 (illuminahiseq2500) 3\n"
     ]
    },
    {
     "data": {
      "application/vnd.jupyter.widget-view+json": {
       "model_id": "2ae625b6e21b4f8580f2a9d1ae5cf358",
       "version_major": 2,
       "version_minor": 0
      },
      "text/plain": [
       "HBox(children=(IntProgress(value=0, max=400), HTML(value='')))"
      ]
     },
     "metadata": {},
     "output_type": "display_data"
    },
    {
     "name": "stdout",
     "output_type": "stream",
     "text": [
      "\n"
     ]
    },
    {
     "data": {
      "application/vnd.jupyter.widget-view+json": {
       "model_id": "9dfa8e8112f84071a8fa7f34074e4ce8",
       "version_major": 2,
       "version_minor": 0
      },
      "text/plain": [
       "HBox(children=(IntProgress(value=0, max=400), HTML(value='')))"
      ]
     },
     "metadata": {},
     "output_type": "display_data"
    },
    {
     "name": "stdout",
     "output_type": "stream",
     "text": [
      "\n",
      "illumina hiseq 2500 (illuminahiseq2500) 4\n"
     ]
    },
    {
     "data": {
      "application/vnd.jupyter.widget-view+json": {
       "model_id": "1f46bf043fdf45258656cbacbaf02396",
       "version_major": 2,
       "version_minor": 0
      },
      "text/plain": [
       "HBox(children=(IntProgress(value=0, max=400), HTML(value='')))"
      ]
     },
     "metadata": {},
     "output_type": "display_data"
    },
    {
     "name": "stdout",
     "output_type": "stream",
     "text": [
      "\n"
     ]
    },
    {
     "data": {
      "application/vnd.jupyter.widget-view+json": {
       "model_id": "c7f2b896c78741a2b770f92bd3337cea",
       "version_major": 2,
       "version_minor": 0
      },
      "text/plain": [
       "HBox(children=(IntProgress(value=0, max=400), HTML(value='')))"
      ]
     },
     "metadata": {},
     "output_type": "display_data"
    },
    {
     "name": "stdout",
     "output_type": "stream",
     "text": [
      "\n"
     ]
    }
   ],
   "source": [
    "irm_result_list = []\n",
    "erm_result_list = []\n",
    "num_seeds = 5\n",
    "\n",
    "for hold_out_platform in platforms:\n",
    "    train_platforms = train_df[train_df['platform'] != hold_out_platform]['platform'].unique()\n",
    "\n",
    "    train_loaders = []\n",
    "    total_irm_samples = 0\n",
    "    for platform in train_platforms:\n",
    "        studies = train_df[train_df['platform'] == platform]['study']\n",
    "        train_dataset = CompendiumDataset([platform], classes, sample_to_label, metadata_path, compendium_path, \n",
    "                                          encoder, mode='platform')\n",
    "        total_irm_samples += len(train_dataset)\n",
    "\n",
    "        if len(train_dataset) > 0:\n",
    "            train_loader = DataLoader(train_dataset, batch_size=8, shuffle=True)\n",
    "            train_loaders.append(train_loader)\n",
    "\n",
    "    platform_file = hold_out_platform.split('(')[-1].strip(')')\n",
    "\n",
    "    full_train_studies = train_df[train_df['platform'] != hold_out_platform]['study'].unique()\n",
    "    full_train_dataset = CompendiumDataset(train_platforms, classes, sample_to_label, metadata_path,\n",
    "                                           compendium_path, encoder, mode='platform')\n",
    "    full_train_loader = DataLoader(full_train_dataset, batch_size=8, shuffle=True)\n",
    "\n",
    "    assert total_irm_samples == len(full_train_dataset)\n",
    "    \n",
    "    for seed in range(num_seeds):\n",
    "        np.random.seed(seed)\n",
    "        random.seed(seed)\n",
    "        torch.manual_seed(seed)\n",
    "        torch.backends.cudnn.deterministic = True\n",
    "        torch.backends.cudnn.benchmark = False\n",
    "        \n",
    "        net = models.ThreeLayerNet(len(compendium_df.index))\n",
    "        \n",
    "        writer_path = Path('./logs/erm_analysis_{}_{}.tfrecord'.format(platform_file, seed))\n",
    "        writer = SummaryWriter(writer_path)\n",
    "\n",
    "        save_file = Path('./logs/erm_analysis_{}_{}.pkl'.format(platform_file, seed))\n",
    "        results = train.train_with_erm(net, full_train_loader, \n",
    "                                       tune_loader, num_epochs=400, \n",
    "                                       save_file=save_file, writer=writer)\n",
    "        erm_result_list.append(results)\n",
    "\n",
    "        net = models.ThreeLayerNet(len(compendium_df.index))\n",
    "        \n",
    "        writer_path = Path('./logs/irm_analysis_{}_{}.tfrecord'.format(platform_file, seed))\n",
    "        writer = SummaryWriter(writer_path)\n",
    "\n",
    "        \n",
    "        save_file = Path('./logs/irm_analysis_{}_{}.pkl'.format(platform_file, seed))\n",
    "        results = train.train_with_irm(net, train_loaders, \n",
    "                                       tune_loader, num_epochs=400, \n",
    "                                       loss_scaling_factor=1, save_file=save_file, \n",
    "                                       writer=writer, burn_in_epochs=0)\n",
    "        irm_result_list.append(results)"
   ]
  },
  {
   "cell_type": "code",
   "execution_count": 16,
   "metadata": {},
   "outputs": [],
   "source": [
    "def eval_model(net, loader):\n",
    "    all_labels = []\n",
    "    all_preds = []\n",
    "    for batch in loader:\n",
    "        expression, labels, ids = batch\n",
    "        expression = expression.float().to('cuda')\n",
    "        labels = labels.numpy()\n",
    "        all_labels.extend(labels)\n",
    "                \n",
    "        output = net(expression)\n",
    "        preds = [1 if p > 0 else 0 for p in output]\n",
    "        all_preds.extend(preds)\n",
    "        \n",
    "    f1 = metrics.f1_score(all_labels, all_preds)\n",
    "        \n",
    "    return f1\n",
    "        "
   ]
  },
  {
   "cell_type": "code",
   "execution_count": 17,
   "metadata": {},
   "outputs": [],
   "source": [
    "irm_f1_scores = []\n",
    "erm_f1_scores = []\n",
    "for hold_out_platform in platforms:\n",
    "    for seed in range(num_seeds):\n",
    "        # Load data\n",
    "        try:\n",
    "            hold_out_studies = train_df[train_df['platform'] == hold_out_platform]['study']\n",
    "            hold_out_dataset = CompendiumDataset(hold_out_studies, classes, sample_to_label, metadata_path, compendium_path, encoder)\n",
    "            hold_out_loader = DataLoader(hold_out_dataset, batch_size=1, shuffle=False)\n",
    "\n",
    "            # Load IRM model\n",
    "            platform_file = hold_out_platform.split('(')[-1].strip(')')\n",
    "            save_file = Path('./logs/irm_analysis_{}_{}.pkl'.format(platform_file, seed))\n",
    "            net = torch.load(save_file, 'cuda')\n",
    "\n",
    "            #Evaluate ERM model\n",
    "            f1_score = eval_model(net, hold_out_loader)\n",
    "            irm_f1_scores.append(f1_score)\n",
    "\n",
    "            # Load ERM model\n",
    "            save_file = Path('./logs/erm_analysis_{}_{}.pkl'.format(platform_file, seed))\n",
    "            net = torch.load(save_file, 'cuda')\n",
    "\n",
    "            # Evaluate IRM model\n",
    "            f1_score = eval_model(net, hold_out_loader)\n",
    "            erm_f1_scores.append(f1_score)\n",
    "        except FileNotFoundError as e:\n",
    "            print(e)"
   ]
  },
  {
   "cell_type": "code",
   "execution_count": 18,
   "metadata": {},
   "outputs": [
    {
     "name": "stdout",
     "output_type": "stream",
     "text": [
      "[0.8664302600472813, 0.8608644168146833, 0.8953687821612349, 0.8984018264840182, 0.889655172413793, 0.9090909090909091, 0.7441860465116279, 0.8260869565217391, 0.8260869565217391, 0.9090909090909091, 0.7121212121212122, 0.5087719298245613, 0.7218045112781954, 0.759124087591241, 0.5950413223140496, 0.8982035928143713, 0.9036144578313252, 0.8875000000000001, 0.8969696969696971, 0.9036144578313252, 0.976, 0.959349593495935, 0.959349593495935, 0.9841269841269841, 1.0]\n",
      "[0.9508373851971907, 0.9346512904997255, 0.9513513513513514, 0.948051948051948, 0.9588455371459111, 0.9514563106796117, 0.9514563106796117, 0.8750000000000001, 0.9514563106796117, 0.8387096774193548, 0.759124087591241, 0.7218045112781954, 0.9570552147239264, 0.9032258064516129, 0.8666666666666666, 0.8289473684210527, 0.8875000000000001, 0.8994082840236686, 0.8662420382165605, 0.9047619047619047, 0.976, 0.9421487603305785, 0.9841269841269841, 0.9243697478991597, 0.976]\n",
      "[0.8664302600472813, 0.9508373851971907, 0.8608644168146833, 0.9346512904997255, 0.8953687821612349, 0.9513513513513514, 0.8984018264840182, 0.948051948051948, 0.889655172413793, 0.9588455371459111, 0.9090909090909091, 0.9514563106796117, 0.7441860465116279, 0.9514563106796117, 0.8260869565217391, 0.8750000000000001, 0.8260869565217391, 0.9514563106796117, 0.9090909090909091, 0.8387096774193548, 0.7121212121212122, 0.759124087591241, 0.5087719298245613, 0.7218045112781954, 0.7218045112781954, 0.9570552147239264, 0.759124087591241, 0.9032258064516129, 0.5950413223140496, 0.8666666666666666, 0.8982035928143713, 0.8289473684210527, 0.9036144578313252, 0.8875000000000001, 0.8875000000000001, 0.8994082840236686, 0.8969696969696971, 0.8662420382165605, 0.9036144578313252, 0.9047619047619047, 0.976, 0.976, 0.959349593495935, 0.9421487603305785, 0.959349593495935, 0.9841269841269841, 0.9841269841269841, 0.9243697478991597, 1.0, 0.976]\n",
      "['irm', 'erm', 'irm', 'erm', 'irm', 'erm', 'irm', 'erm', 'irm', 'erm', 'irm', 'erm', 'irm', 'erm', 'irm', 'erm', 'irm', 'erm', 'irm', 'erm', 'irm', 'erm', 'irm', 'erm', 'irm', 'erm', 'irm', 'erm', 'irm', 'erm', 'irm', 'erm', 'irm', 'erm', 'irm', 'erm', 'irm', 'erm', 'irm', 'erm', 'irm', 'erm', 'irm', 'erm', 'irm', 'erm', 'irm', 'erm', 'irm', 'erm']\n"
     ]
    }
   ],
   "source": [
    "print(irm_f1_scores)\n",
    "print(erm_f1_scores)\n",
    "held_out_platform_list = []\n",
    "for platform in platforms:\n",
    "    p = [platform] * 2 * num_seeds\n",
    "    held_out_platform_list.extend(p)\n",
    "#print(held_out_platform_list)\n",
    "\n",
    "score_list = list(itertools.chain(*zip(irm_f1_scores, erm_f1_scores)))\n",
    "print(score_list)\n",
    "label_list = (['irm'] + ['erm']) *  (len(score_list) // 2)\n",
    "print(label_list)"
   ]
  },
  {
   "cell_type": "code",
   "execution_count": 19,
   "metadata": {},
   "outputs": [
    {
     "data": {
      "text/html": [
       "<div>\n",
       "<style scoped>\n",
       "    .dataframe tbody tr th:only-of-type {\n",
       "        vertical-align: middle;\n",
       "    }\n",
       "\n",
       "    .dataframe tbody tr th {\n",
       "        vertical-align: top;\n",
       "    }\n",
       "\n",
       "    .dataframe thead th {\n",
       "        text-align: right;\n",
       "    }\n",
       "</style>\n",
       "<table border=\"1\" class=\"dataframe\">\n",
       "  <thead>\n",
       "    <tr style=\"text-align: right;\">\n",
       "      <th></th>\n",
       "      <th>f1_score</th>\n",
       "      <th>irm/erm</th>\n",
       "      <th>held_out_platform</th>\n",
       "    </tr>\n",
       "  </thead>\n",
       "  <tbody>\n",
       "    <tr>\n",
       "      <th>0</th>\n",
       "      <td>0.866430</td>\n",
       "      <td>irm</td>\n",
       "      <td>affymetrix human genome u133 plus 2.0 array (h...</td>\n",
       "    </tr>\n",
       "    <tr>\n",
       "      <th>1</th>\n",
       "      <td>0.950837</td>\n",
       "      <td>erm</td>\n",
       "      <td>affymetrix human genome u133 plus 2.0 array (h...</td>\n",
       "    </tr>\n",
       "    <tr>\n",
       "      <th>2</th>\n",
       "      <td>0.860864</td>\n",
       "      <td>irm</td>\n",
       "      <td>affymetrix human genome u133 plus 2.0 array (h...</td>\n",
       "    </tr>\n",
       "    <tr>\n",
       "      <th>3</th>\n",
       "      <td>0.934651</td>\n",
       "      <td>erm</td>\n",
       "      <td>affymetrix human genome u133 plus 2.0 array (h...</td>\n",
       "    </tr>\n",
       "    <tr>\n",
       "      <th>4</th>\n",
       "      <td>0.895369</td>\n",
       "      <td>irm</td>\n",
       "      <td>affymetrix human genome u133 plus 2.0 array (h...</td>\n",
       "    </tr>\n",
       "  </tbody>\n",
       "</table>\n",
       "</div>"
      ],
      "text/plain": [
       "   f1_score irm/erm                                  held_out_platform\n",
       "0  0.866430     irm  affymetrix human genome u133 plus 2.0 array (h...\n",
       "1  0.950837     erm  affymetrix human genome u133 plus 2.0 array (h...\n",
       "2  0.860864     irm  affymetrix human genome u133 plus 2.0 array (h...\n",
       "3  0.934651     erm  affymetrix human genome u133 plus 2.0 array (h...\n",
       "4  0.895369     irm  affymetrix human genome u133 plus 2.0 array (h..."
      ]
     },
     "execution_count": 19,
     "metadata": {},
     "output_type": "execute_result"
    }
   ],
   "source": [
    "result_dict = {'f1_score': score_list, 'irm/erm': label_list, 'held_out_platform': held_out_platform_list}\n",
    "result_df = pd.DataFrame(result_dict)\n",
    "result_df.head()"
   ]
  },
  {
   "cell_type": "markdown",
   "metadata": {},
   "source": [
    "## Results\n",
    "\n",
    "The first figures measure the models' performance on the held out platform. These figures measure the model's ability to generalize.\n",
    "\n",
    "The second set of figures measure the models' performance no the tuning set to measure the model's training behavior (and to a lesser extend the models' ability to predict a held-out set). "
   ]
  },
  {
   "cell_type": "code",
   "execution_count": 20,
   "metadata": {},
   "outputs": [
    {
     "data": {
      "image/png": "[encoded data removed]",
      "text/plain": [
       "<Figure size 640x480 with 1 Axes>"
      ]
     },
     "metadata": {},
     "output_type": "display_data"
    },
    {
     "data": {
      "text/plain": [
       "<ggplot: (8728286955645)>"
      ]
     },
     "execution_count": 20,
     "metadata": {},
     "output_type": "execute_result"
    }
   ],
   "source": [
    "(ggplot(result_df, aes('irm/erm', 'f1_score', color='held_out_platform')) +\n",
    " geom_jitter(size=2) +\n",
    " ggtitle('F1 Score on held-out platform')\n",
    ")"
   ]
  },
  {
   "cell_type": "code",
   "execution_count": 21,
   "metadata": {},
   "outputs": [
    {
     "data": {
      "image/png": "[encoded data removed]",
      "text/plain": [
       "<Figure size 640x480 with 1 Axes>"
      ]
     },
     "metadata": {},
     "output_type": "display_data"
    },
    {
     "data": {
      "text/plain": [
       "<ggplot: (8728286958245)>"
      ]
     },
     "execution_count": 21,
     "metadata": {},
     "output_type": "execute_result"
    }
   ],
   "source": [
    "(ggplot(result_df, aes('irm/erm', 'f1_score')) +\n",
    " geom_violin() +\n",
    " ggtitle('F1 Score on held-out platform')\n",
    ")"
   ]
  },
  {
   "cell_type": "code",
   "execution_count": 22,
   "metadata": {},
   "outputs": [
    {
     "name": "stdout",
     "output_type": "stream",
     "text": [
      "[0.8739516129032252, 0.7944354838709671, 0.8940591397849471, 0.8050268817204291, 0.7894892473118281, 0.8879032258064526, 0.8882795698924734, 0.9347580645161296, 0.869462365591399, 0.8879838709677427, 0.9473655913978501, 0.9305376344086017, 0.9393010752688167, 0.9787634408602146, 0.9059677419354832, 0.8822043010752695, 0.9406720430107542, 0.8854301075268826, 0.9111021505376345, 0.9464784946236571, 0.9326612903225826, 0.9391666666666677, 0.9004569892473127, 0.8915591397849457, 0.9558333333333333]\n",
      "[0.9032258064516129, 0.7956989247311828, 0.9032258064516129, 0.7956989247311828, 0.7849462365591398, 0.9247311827956989, 0.9247311827956989, 0.956989247311828, 0.9139784946236559, 0.9247311827956989, 0.978494623655914, 0.967741935483871, 0.967741935483871, 1.0, 0.946236559139785, 0.9032258064516129, 0.978494623655914, 0.9139784946236559, 0.9354838709677419, 0.978494623655914, 0.967741935483871, 0.967741935483871, 0.9139784946236559, 0.9247311827956989, 0.989247311827957]\n"
     ]
    }
   ],
   "source": [
    "irm_accs = [result['tune_acc'] for result in irm_result_list]\n",
    "irm_mean_accs = [sum(accs) / len(accs) for accs in irm_accs]\n",
    "print(irm_mean_accs)\n",
    "[acc.sort() for acc in irm_accs]\n",
    "irm_median_accs = [acc[len(acc) //2] for acc in irm_accs]\n",
    "print(irm_median_accs)"
   ]
  },
  {
   "cell_type": "code",
   "execution_count": 23,
   "metadata": {},
   "outputs": [
    {
     "name": "stdout",
     "output_type": "stream",
     "text": [
      "[0.7920967741935453, 0.7918548387096724, 0.8408870967741947, 0.8133333333333295, 0.7413978494623648, 0.9373924731182776, 0.9180376344086058, 0.9448924731182774, 0.905779569892473, 0.9160752688172091, 0.9413440860215053, 0.9468548387096708, 0.9756989247311825, 0.9530376344085998, 0.9546505376344028, 0.8919623655913997, 0.9332258064516106, 0.962150537634405, 0.9229569892473141, 0.934112903225808, 0.9272311827956966, 0.91827956989247, 0.9066666666666644, 0.9158064516129065, 0.9233870967741973]\n",
      "[0.7956989247311828, 0.7956989247311828, 0.8387096774193549, 0.8172043010752689, 0.7419354838709677, 0.9354838709677419, 0.9247311827956989, 0.946236559139785, 0.9139784946236559, 0.9247311827956989, 0.946236559139785, 0.967741935483871, 0.978494623655914, 0.967741935483871, 0.967741935483871, 0.8817204301075269, 0.946236559139785, 0.967741935483871, 0.9354838709677419, 0.9354838709677419, 0.9354838709677419, 0.9247311827956989, 0.9032258064516129, 0.9139784946236559, 0.9354838709677419]\n"
     ]
    }
   ],
   "source": [
    "erm_accs = [result['tune_acc'] for result in erm_result_list]\n",
    "erm_mean_accs = [sum(accs) / len(accs) for accs in erm_accs]\n",
    "print(erm_mean_accs)\n",
    "[acc.sort() for acc in erm_accs]\n",
    "erm_median_accs = [acc[len(acc) //2] for acc in erm_accs]\n",
    "print(erm_median_accs)"
   ]
  },
  {
   "cell_type": "code",
   "execution_count": 24,
   "metadata": {},
   "outputs": [],
   "source": [
    "mean_list = list(itertools.chain(*zip(irm_mean_accs, erm_mean_accs)))\n",
    "median_list = list(itertools.chain(*zip(irm_median_accs, erm_median_accs)))\n",
    "label_list = (['irm'] + ['erm']) *  (len(mean_list) // 2)\n",
    "\n",
    "held_out_platform_list = []\n",
    "for platform in platforms:\n",
    "    p = [platform] * 2 * num_seeds\n",
    "    held_out_platform_list.extend(p)\n",
    "\n",
    "result_dict = {'mean_acc': mean_list, 'median_acc': median_list, 'irm/erm': label_list, \n",
    "               'held_out_platform': held_out_platform_list}\n",
    "result_df = pd.DataFrame(result_dict)"
   ]
  },
  {
   "cell_type": "code",
   "execution_count": 25,
   "metadata": {},
   "outputs": [
    {
     "data": {
      "image/png": "[encoded data removed]",
      "text/plain": [
       "<Figure size 640x480 with 1 Axes>"
      ]
     },
     "metadata": {},
     "output_type": "display_data"
    },
    {
     "data": {
      "text/plain": [
       "<ggplot: (8728295458125)>"
      ]
     },
     "execution_count": 25,
     "metadata": {},
     "output_type": "execute_result"
    }
   ],
   "source": [
    "(ggplot(result_df, aes('irm/erm', 'mean_acc', color='held_out_platform')) + \n",
    " geom_jitter() +\n",
    " ggtitle('Mean accuracies in IRM and ERM on tune set')\n",
    ")"
   ]
  },
  {
   "cell_type": "code",
   "execution_count": 26,
   "metadata": {},
   "outputs": [
    {
     "data": {
      "image/png": "[encoded data removed]",
      "text/plain": [
       "<Figure size 640x480 with 1 Axes>"
      ]
     },
     "metadata": {},
     "output_type": "display_data"
    },
    {
     "data": {
      "text/plain": [
       "<ggplot: (8728292356529)>"
      ]
     },
     "execution_count": 26,
     "metadata": {},
     "output_type": "execute_result"
    }
   ],
   "source": [
    "(ggplot(result_df, aes('irm/erm', 'mean_acc')) + \n",
    " geom_violin() +\n",
    " ggtitle('Mean accuracies in IRM and ERM on tune set')\n",
    ")"
   ]
  },
  {
   "cell_type": "markdown",
   "metadata": {},
   "source": [
    "### Median accuracies\n",
    "IRM is somewhat unstable during training, and will occasionally have sudden spikes of poor performance.\n",
    "Since we save the best version of the model based on the model's loss, it makes more sense to look at the median accuracy than the mean as a measure of central tendency"
   ]
  },
  {
   "cell_type": "code",
   "execution_count": 27,
   "metadata": {},
   "outputs": [
    {
     "data": {
      "image/png": "[encoded data removed]",
      "text/plain": [
       "<Figure size 640x480 with 1 Axes>"
      ]
     },
     "metadata": {},
     "output_type": "display_data"
    },
    {
     "data": {
      "text/plain": [
       "<ggplot: (8728322921681)>"
      ]
     },
     "execution_count": 27,
     "metadata": {},
     "output_type": "execute_result"
    }
   ],
   "source": [
    "(ggplot(result_df, aes('irm/erm', 'median_acc', color='held_out_platform')) + \n",
    "geom_jitter() +\n",
    "ggtitle('Median accuracies in ERM and IRM on tune set')\n",
    ")"
   ]
  },
  {
   "cell_type": "code",
   "execution_count": 28,
   "metadata": {},
   "outputs": [
    {
     "data": {
      "image/png": "[encoded data removed]",
      "text/plain": [
       "<Figure size 640x480 with 1 Axes>"
      ]
     },
     "metadata": {},
     "output_type": "display_data"
    },
    {
     "data": {
      "text/plain": [
       "<ggplot: (8728295470249)>"
      ]
     },
     "execution_count": 28,
     "metadata": {},
     "output_type": "execute_result"
    }
   ],
   "source": [
    "(ggplot(result_df, aes('irm/erm', 'median_acc')) + \n",
    "geom_violin() +\n",
    "ggtitle('Median accuracies in ERM and IRM on tune set')\n",
    ")"
   ]
  }
 ],
 "metadata": {
  "kernelspec": {
   "display_name": "whistl",
   "language": "python",
   "name": "whistl"
  },
  "language_info": {
   "codemirror_mode": {
    "name": "ipython",
    "version": 3
   },
   "file_extension": ".py",
   "mimetype": "text/x-python",
   "name": "python",
   "nbconvert_exporter": "python",
   "pygments_lexer": "ipython3",
   "version": "3.7.4"
  }
 },
 "nbformat": 4,
 "nbformat_minor": 2
}
