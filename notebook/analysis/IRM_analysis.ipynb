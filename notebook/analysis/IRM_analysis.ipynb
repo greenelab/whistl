{
 "cells": [
  {
   "cell_type": "markdown",
   "metadata": {},
   "source": [
    "# IRM Analysis\n",
    "This notebook will compare the performance of IRM on an unseen platform's worth of gene expression to that of ERM. These results will be used for the preliminary data section for Aim 2 in my prelim proposal.\n",
    "\n",
    "The EDA code is [here](#EDA), or to skip to the analysis, go [here](#eval)"
   ]
  },
  {
   "cell_type": "markdown",
   "metadata": {},
   "source": [
    "<a id='eda'></a>\n",
    "## Sepsis EDA\n",
    "\n",
    "To have a good measure of training performance, ideally we'll have one platform's data held out as a validation set. To see how possible that is, we'll do exploratory data analysis on the sepsis studies in the dataset. "
   ]
  },
  {
   "cell_type": "code",
   "execution_count": 1,
   "metadata": {},
   "outputs": [],
   "source": [
    "import itertools\n",
    "import json\n",
    "import os\n",
    "import sys\n",
    "\n",
    "import pandas as pd\n",
    "import sklearn.metrics as metrics\n",
    "import sklearn.preprocessing as preprocessing\n",
    "import torch\n",
    "from plotnine import *\n",
    "from torch.utils.data import DataLoader\n",
    "from torch.utils.tensorboard import SummaryWriter\n",
    "\n",
    "from whistl import datasets\n",
    "from whistl.datasets import CompendiumDataset\n",
    "from whistl import models\n",
    "from whistl import train\n",
    "from whistl import utils"
   ]
  },
  {
   "cell_type": "code",
   "execution_count": 2,
   "metadata": {},
   "outputs": [],
   "source": [
    "import random\n",
    "import numpy as np\n",
    "np.random.seed(42)\n",
    "random.seed(42)"
   ]
  },
  {
   "cell_type": "code",
   "execution_count": 3,
   "metadata": {},
   "outputs": [],
   "source": [
    "curr_path = os.path.dirname(os.path.abspath(os.path.abspath('')))\n",
    "\n",
    "map_file = os.path.join(curr_path, os.pardir, 'data', 'sample_classifications.pkl')\n",
    "sample_to_label = utils.parse_map_file(map_file)\n",
    "sample_ids = sample_to_label.keys()\n",
    "\n",
    "metadata_file = os.path.join(curr_path, os.pardir, 'data', 'all_metadata.json')\n",
    "metadata_json = json.load(open(metadata_file))\n",
    "sample_metadata = metadata_json['samples']\n",
    "\n",
    "sample_ids = utils.filter_invalid_samples(sample_metadata, sample_ids)\n",
    "\n",
    "sample_to_platform = utils.map_sample_to_platform(metadata_json, sample_ids)\n",
    "sample_to_study = utils.map_sample_to_study(metadata_json, sample_ids)"
   ]
  },
  {
   "cell_type": "code",
   "execution_count": 4,
   "metadata": {},
   "outputs": [
    {
     "data": {
      "text/html": [
       "<div>\n",
       "<style scoped>\n",
       "    .dataframe tbody tr th:only-of-type {\n",
       "        vertical-align: middle;\n",
       "    }\n",
       "\n",
       "    .dataframe tbody tr th {\n",
       "        vertical-align: top;\n",
       "    }\n",
       "\n",
       "    .dataframe thead th {\n",
       "        text-align: right;\n",
       "    }\n",
       "</style>\n",
       "<table border=\"1\" class=\"dataframe\">\n",
       "  <thead>\n",
       "    <tr style=\"text-align: right;\">\n",
       "      <th></th>\n",
       "      <th>E-MEXP-1635-04SE57HA300104</th>\n",
       "      <th>E-MEXP-1635-04SE58HA300104</th>\n",
       "      <th>E-MEXP-1635-04SE59HA300104</th>\n",
       "      <th>E-MEXP-1635-04SE60HA300104</th>\n",
       "      <th>E-MEXP-1635-04SE61HA300104</th>\n",
       "      <th>E-MEXP-1635-04SE62HA300104</th>\n",
       "      <th>E-MEXP-1635-04SE63HA300104</th>\n",
       "      <th>E-MEXP-1635-04SE649HGU133A_201004</th>\n",
       "      <th>E-MEXP-1635-04SE64HA300104</th>\n",
       "      <th>E-MEXP-1635-04SE650HGU133A_201004</th>\n",
       "      <th>...</th>\n",
       "      <th>SRR6870393</th>\n",
       "      <th>SRR6870394</th>\n",
       "      <th>SRR6870395</th>\n",
       "      <th>SRR6870396</th>\n",
       "      <th>SRR6870397</th>\n",
       "      <th>SRR6870398</th>\n",
       "      <th>SRR6870399</th>\n",
       "      <th>SRR6870400</th>\n",
       "      <th>SRR6870401</th>\n",
       "      <th>SRR6870402</th>\n",
       "    </tr>\n",
       "  </thead>\n",
       "  <tbody>\n",
       "    <tr>\n",
       "      <th>ENSG00000000003</th>\n",
       "      <td>0.208914</td>\n",
       "      <td>0.247681</td>\n",
       "      <td>0.133060</td>\n",
       "      <td>0.225220</td>\n",
       "      <td>0.225110</td>\n",
       "      <td>0.145763</td>\n",
       "      <td>0.203744</td>\n",
       "      <td>0.101624</td>\n",
       "      <td>0.216774</td>\n",
       "      <td>0.137222</td>\n",
       "      <td>...</td>\n",
       "      <td>0.244141</td>\n",
       "      <td>0.287628</td>\n",
       "      <td>0.234996</td>\n",
       "      <td>0.179500</td>\n",
       "      <td>0.262060</td>\n",
       "      <td>0.264090</td>\n",
       "      <td>0.248505</td>\n",
       "      <td>0.248617</td>\n",
       "      <td>0.231635</td>\n",
       "      <td>0.220124</td>\n",
       "    </tr>\n",
       "    <tr>\n",
       "      <th>ENSG00000000005</th>\n",
       "      <td>-0.060592</td>\n",
       "      <td>-0.057062</td>\n",
       "      <td>-0.015866</td>\n",
       "      <td>-0.076875</td>\n",
       "      <td>-0.011201</td>\n",
       "      <td>-0.055769</td>\n",
       "      <td>-0.060138</td>\n",
       "      <td>-0.000146</td>\n",
       "      <td>-0.039444</td>\n",
       "      <td>0.068918</td>\n",
       "      <td>...</td>\n",
       "      <td>-0.171151</td>\n",
       "      <td>-0.170181</td>\n",
       "      <td>-0.168437</td>\n",
       "      <td>-0.165942</td>\n",
       "      <td>-0.167972</td>\n",
       "      <td>-0.166330</td>\n",
       "      <td>-0.160954</td>\n",
       "      <td>-0.161027</td>\n",
       "      <td>-0.164263</td>\n",
       "      <td>-0.164568</td>\n",
       "    </tr>\n",
       "    <tr>\n",
       "      <th>ENSG00000000419</th>\n",
       "      <td>6.833205</td>\n",
       "      <td>9.714408</td>\n",
       "      <td>9.193253</td>\n",
       "      <td>10.588144</td>\n",
       "      <td>10.091911</td>\n",
       "      <td>9.000752</td>\n",
       "      <td>7.399193</td>\n",
       "      <td>7.174791</td>\n",
       "      <td>8.533220</td>\n",
       "      <td>9.249745</td>\n",
       "      <td>...</td>\n",
       "      <td>0.703249</td>\n",
       "      <td>0.713038</td>\n",
       "      <td>0.970236</td>\n",
       "      <td>1.070772</td>\n",
       "      <td>0.961582</td>\n",
       "      <td>1.051032</td>\n",
       "      <td>1.369086</td>\n",
       "      <td>1.264025</td>\n",
       "      <td>0.869870</td>\n",
       "      <td>0.743825</td>\n",
       "    </tr>\n",
       "    <tr>\n",
       "      <th>ENSG00000000457</th>\n",
       "      <td>0.214447</td>\n",
       "      <td>0.087237</td>\n",
       "      <td>0.402771</td>\n",
       "      <td>0.209681</td>\n",
       "      <td>0.141353</td>\n",
       "      <td>0.253218</td>\n",
       "      <td>0.188318</td>\n",
       "      <td>0.908775</td>\n",
       "      <td>0.174844</td>\n",
       "      <td>0.388580</td>\n",
       "      <td>...</td>\n",
       "      <td>2.497381</td>\n",
       "      <td>2.674494</td>\n",
       "      <td>2.394772</td>\n",
       "      <td>2.429598</td>\n",
       "      <td>2.450469</td>\n",
       "      <td>2.638023</td>\n",
       "      <td>2.240824</td>\n",
       "      <td>2.407291</td>\n",
       "      <td>1.933599</td>\n",
       "      <td>2.470088</td>\n",
       "    </tr>\n",
       "    <tr>\n",
       "      <th>ENSG00000000460</th>\n",
       "      <td>-0.057339</td>\n",
       "      <td>-0.034758</td>\n",
       "      <td>-0.043255</td>\n",
       "      <td>-0.078963</td>\n",
       "      <td>-0.096355</td>\n",
       "      <td>-0.098674</td>\n",
       "      <td>0.005090</td>\n",
       "      <td>0.037494</td>\n",
       "      <td>-0.033465</td>\n",
       "      <td>-0.112916</td>\n",
       "      <td>...</td>\n",
       "      <td>0.693359</td>\n",
       "      <td>0.464540</td>\n",
       "      <td>0.580630</td>\n",
       "      <td>0.692895</td>\n",
       "      <td>0.408506</td>\n",
       "      <td>0.515283</td>\n",
       "      <td>0.653895</td>\n",
       "      <td>0.437554</td>\n",
       "      <td>0.306867</td>\n",
       "      <td>0.569878</td>\n",
       "    </tr>\n",
       "  </tbody>\n",
       "</table>\n",
       "<p>5 rows × 10234 columns</p>\n",
       "</div>"
      ],
      "text/plain": [
       "                 E-MEXP-1635-04SE57HA300104  E-MEXP-1635-04SE58HA300104  \\\n",
       "ENSG00000000003                    0.208914                    0.247681   \n",
       "ENSG00000000005                   -0.060592                   -0.057062   \n",
       "ENSG00000000419                    6.833205                    9.714408   \n",
       "ENSG00000000457                    0.214447                    0.087237   \n",
       "ENSG00000000460                   -0.057339                   -0.034758   \n",
       "\n",
       "                 E-MEXP-1635-04SE59HA300104  E-MEXP-1635-04SE60HA300104  \\\n",
       "ENSG00000000003                    0.133060                    0.225220   \n",
       "ENSG00000000005                   -0.015866                   -0.076875   \n",
       "ENSG00000000419                    9.193253                   10.588144   \n",
       "ENSG00000000457                    0.402771                    0.209681   \n",
       "ENSG00000000460                   -0.043255                   -0.078963   \n",
       "\n",
       "                 E-MEXP-1635-04SE61HA300104  E-MEXP-1635-04SE62HA300104  \\\n",
       "ENSG00000000003                    0.225110                    0.145763   \n",
       "ENSG00000000005                   -0.011201                   -0.055769   \n",
       "ENSG00000000419                   10.091911                    9.000752   \n",
       "ENSG00000000457                    0.141353                    0.253218   \n",
       "ENSG00000000460                   -0.096355                   -0.098674   \n",
       "\n",
       "                 E-MEXP-1635-04SE63HA300104  \\\n",
       "ENSG00000000003                    0.203744   \n",
       "ENSG00000000005                   -0.060138   \n",
       "ENSG00000000419                    7.399193   \n",
       "ENSG00000000457                    0.188318   \n",
       "ENSG00000000460                    0.005090   \n",
       "\n",
       "                 E-MEXP-1635-04SE649HGU133A_201004  \\\n",
       "ENSG00000000003                           0.101624   \n",
       "ENSG00000000005                          -0.000146   \n",
       "ENSG00000000419                           7.174791   \n",
       "ENSG00000000457                           0.908775   \n",
       "ENSG00000000460                           0.037494   \n",
       "\n",
       "                 E-MEXP-1635-04SE64HA300104  \\\n",
       "ENSG00000000003                    0.216774   \n",
       "ENSG00000000005                   -0.039444   \n",
       "ENSG00000000419                    8.533220   \n",
       "ENSG00000000457                    0.174844   \n",
       "ENSG00000000460                   -0.033465   \n",
       "\n",
       "                 E-MEXP-1635-04SE650HGU133A_201004  ...  SRR6870393  \\\n",
       "ENSG00000000003                           0.137222  ...    0.244141   \n",
       "ENSG00000000005                           0.068918  ...   -0.171151   \n",
       "ENSG00000000419                           9.249745  ...    0.703249   \n",
       "ENSG00000000457                           0.388580  ...    2.497381   \n",
       "ENSG00000000460                          -0.112916  ...    0.693359   \n",
       "\n",
       "                 SRR6870394  SRR6870395  SRR6870396  SRR6870397  SRR6870398  \\\n",
       "ENSG00000000003    0.287628    0.234996    0.179500    0.262060    0.264090   \n",
       "ENSG00000000005   -0.170181   -0.168437   -0.165942   -0.167972   -0.166330   \n",
       "ENSG00000000419    0.713038    0.970236    1.070772    0.961582    1.051032   \n",
       "ENSG00000000457    2.674494    2.394772    2.429598    2.450469    2.638023   \n",
       "ENSG00000000460    0.464540    0.580630    0.692895    0.408506    0.515283   \n",
       "\n",
       "                 SRR6870399  SRR6870400  SRR6870401  SRR6870402  \n",
       "ENSG00000000003    0.248505    0.248617    0.231635    0.220124  \n",
       "ENSG00000000005   -0.160954   -0.161027   -0.164263   -0.164568  \n",
       "ENSG00000000419    1.369086    1.264025    0.869870    0.743825  \n",
       "ENSG00000000457    2.240824    2.407291    1.933599    2.470088  \n",
       "ENSG00000000460    0.653895    0.437554    0.306867    0.569878  \n",
       "\n",
       "[5 rows x 10234 columns]"
      ]
     },
     "execution_count": 4,
     "metadata": {},
     "output_type": "execute_result"
    }
   ],
   "source": [
    "compendium_path = os.path.join(curr_path, os.pardir, 'data', 'subset_compendium.tsv')\n",
    "\n",
    "compendium_df = datasets.load_compendium_file(compendium_path)\n",
    "compendium_df.head()"
   ]
  },
  {
   "cell_type": "code",
   "execution_count": 5,
   "metadata": {},
   "outputs": [
    {
     "name": "stdout",
     "output_type": "stream",
     "text": [
      "1319\n",
      "1319\n",
      "1319\n"
     ]
    }
   ],
   "source": [
    "sepsis_samples = [sample for sample in sample_ids if sample_to_label[sample] == 'sepsis']\n",
    "sepsis_platforms = [sample_to_platform[sample] for sample in sepsis_samples]\n",
    "sepsis_studies = [sample_to_study[sample] for sample in sepsis_samples]\n",
    "print(len(sepsis_samples))\n",
    "print(len(sepsis_platforms))\n",
    "print(len(sepsis_studies))"
   ]
  },
  {
   "cell_type": "code",
   "execution_count": 6,
   "metadata": {},
   "outputs": [
    {
     "data": {
      "text/html": [
       "<div>\n",
       "<style scoped>\n",
       "    .dataframe tbody tr th:only-of-type {\n",
       "        vertical-align: middle;\n",
       "    }\n",
       "\n",
       "    .dataframe tbody tr th {\n",
       "        vertical-align: top;\n",
       "    }\n",
       "\n",
       "    .dataframe thead th {\n",
       "        text-align: right;\n",
       "    }\n",
       "</style>\n",
       "<table border=\"1\" class=\"dataframe\">\n",
       "  <thead>\n",
       "    <tr style=\"text-align: right;\">\n",
       "      <th></th>\n",
       "      <th>platform</th>\n",
       "      <th>study</th>\n",
       "    </tr>\n",
       "    <tr>\n",
       "      <th>sample</th>\n",
       "      <th></th>\n",
       "      <th></th>\n",
       "    </tr>\n",
       "  </thead>\n",
       "  <tbody>\n",
       "    <tr>\n",
       "      <th>GSM102985</th>\n",
       "      <td>affymetrix human genome u133 plus 2.0 array (h...</td>\n",
       "      <td>GSE4607</td>\n",
       "    </tr>\n",
       "    <tr>\n",
       "      <th>GSM102986</th>\n",
       "      <td>affymetrix human genome u133 plus 2.0 array (h...</td>\n",
       "      <td>GSE4607</td>\n",
       "    </tr>\n",
       "    <tr>\n",
       "      <th>GSM102987</th>\n",
       "      <td>affymetrix human genome u133 plus 2.0 array (h...</td>\n",
       "      <td>GSE4607</td>\n",
       "    </tr>\n",
       "    <tr>\n",
       "      <th>GSM102988</th>\n",
       "      <td>affymetrix human genome u133 plus 2.0 array (h...</td>\n",
       "      <td>GSE4607</td>\n",
       "    </tr>\n",
       "    <tr>\n",
       "      <th>GSM102989</th>\n",
       "      <td>affymetrix human genome u133 plus 2.0 array (h...</td>\n",
       "      <td>GSE4607</td>\n",
       "    </tr>\n",
       "  </tbody>\n",
       "</table>\n",
       "</div>"
      ],
      "text/plain": [
       "                                                    platform    study\n",
       "sample                                                               \n",
       "GSM102985  affymetrix human genome u133 plus 2.0 array (h...  GSE4607\n",
       "GSM102986  affymetrix human genome u133 plus 2.0 array (h...  GSE4607\n",
       "GSM102987  affymetrix human genome u133 plus 2.0 array (h...  GSE4607\n",
       "GSM102988  affymetrix human genome u133 plus 2.0 array (h...  GSE4607\n",
       "GSM102989  affymetrix human genome u133 plus 2.0 array (h...  GSE4607"
      ]
     },
     "execution_count": 6,
     "metadata": {},
     "output_type": "execute_result"
    }
   ],
   "source": [
    "sepsis_metadata_dict = {'sample': sepsis_samples, 'platform': sepsis_platforms, 'study': sepsis_studies}\n",
    "sepsis_metadata_df = pd.DataFrame(sepsis_metadata_dict)\n",
    "sepsis_metadata_df = sepsis_metadata_df.set_index('sample')\n",
    "sepsis_metadata_df.head()"
   ]
  },
  {
   "cell_type": "code",
   "execution_count": 7,
   "metadata": {},
   "outputs": [
    {
     "data": {
      "text/plain": [
       "affymetrix human genome u133 plus 2.0 array (hgu133plus2)    953\n",
       "affymetrix human genome u133a 2.0 array (hgu133a2)            85\n",
       "affymetrix human human exon 1.0 st array (huex10st)           74\n",
       "affymetrix human gene 1.0 st array (hugene10st)               54\n",
       "illumina hiseq 2500 (illuminahiseq2500)                       52\n",
       "affymetrix human genome u219 array (hgu219)                   51\n",
       "illumina genome analyzer iix (illuminagenomeanalyzeriix)      49\n",
       "affymetrix human genome u133a array (hgu133a)                  1\n",
       "Name: platform, dtype: int64"
      ]
     },
     "execution_count": 7,
     "metadata": {},
     "output_type": "execute_result"
    }
   ],
   "source": [
    "sepsis_metadata_df['platform'].value_counts()"
   ]
  },
  {
   "cell_type": "code",
   "execution_count": 8,
   "metadata": {},
   "outputs": [
    {
     "data": {
      "text/html": [
       "<div>\n",
       "<style scoped>\n",
       "    .dataframe tbody tr th:only-of-type {\n",
       "        vertical-align: middle;\n",
       "    }\n",
       "\n",
       "    .dataframe tbody tr th {\n",
       "        vertical-align: top;\n",
       "    }\n",
       "\n",
       "    .dataframe thead th {\n",
       "        text-align: right;\n",
       "    }\n",
       "</style>\n",
       "<table border=\"1\" class=\"dataframe\">\n",
       "  <thead>\n",
       "    <tr style=\"text-align: right;\">\n",
       "      <th></th>\n",
       "      <th>platform</th>\n",
       "      <th>study</th>\n",
       "    </tr>\n",
       "    <tr>\n",
       "      <th>sample</th>\n",
       "      <th></th>\n",
       "      <th></th>\n",
       "    </tr>\n",
       "  </thead>\n",
       "  <tbody>\n",
       "    <tr>\n",
       "      <th>GSM301847</th>\n",
       "      <td>affymetrix human genome u133a array (hgu133a)</td>\n",
       "      <td>GSE11907</td>\n",
       "    </tr>\n",
       "  </tbody>\n",
       "</table>\n",
       "</div>"
      ],
      "text/plain": [
       "                                                platform     study\n",
       "sample                                                            \n",
       "GSM301847  affymetrix human genome u133a array (hgu133a)  GSE11907"
      ]
     },
     "execution_count": 8,
     "metadata": {},
     "output_type": "execute_result"
    }
   ],
   "source": [
    "sepsis_metadata_df[sepsis_metadata_df['platform'] == 'affymetrix human genome u133a array (hgu133a)']"
   ]
  },
  {
   "cell_type": "code",
   "execution_count": 9,
   "metadata": {},
   "outputs": [
    {
     "name": "stdout",
     "output_type": "stream",
     "text": [
      "1318\n"
     ]
    }
   ],
   "source": [
    "# Remove platform with only one sample to reduce downstream variance\n",
    "sepsis_metadata_df = sepsis_metadata_df.drop(labels='GSM301847', axis=0)\n",
    "print(len(sepsis_metadata_df.index))"
   ]
  },
  {
   "cell_type": "code",
   "execution_count": 10,
   "metadata": {},
   "outputs": [
    {
     "data": {
      "text/plain": [
       "GSE66099     196\n",
       "GSE13904     152\n",
       "GSE95233     100\n",
       "GSE26440      98\n",
       "GSE26378      82\n",
       "GSE57065      80\n",
       "GSE74224      74\n",
       "SRP132709     64\n",
       "GSE66890      54\n",
       "GSE4607       54\n",
       "GSE33341      51\n",
       "GSE8121       51\n",
       "GSE65682      51\n",
       "GSE9960       47\n",
       "SRP049820     37\n",
       "GSE10474      34\n",
       "GSE33118      20\n",
       "GSE33119      19\n",
       "GSE11755      18\n",
       "GSE64457      15\n",
       "GSE25504      11\n",
       "GSE28750      10\n",
       "Name: study, dtype: int64"
      ]
     },
     "execution_count": 10,
     "metadata": {},
     "output_type": "execute_result"
    }
   ],
   "source": [
    "sepsis_metadata_df['study'].value_counts()"
   ]
  },
  {
   "cell_type": "markdown",
   "metadata": {},
   "source": [
    "<a id='eval'></a>\n",
    "## IRM Evaluation"
   ]
  },
  {
   "cell_type": "markdown",
   "metadata": {},
   "source": [
    "### Setup\n",
    "This code is unnecessary, as the variables are already initialized in the EDA section.\n",
    "It is included here for the sake of clarity for people who skip to the analysis"
   ]
  },
  {
   "cell_type": "code",
   "execution_count": 11,
   "metadata": {},
   "outputs": [],
   "source": [
    "curr_path = os.path.dirname(os.path.abspath(os.path.abspath('')))\n",
    "\n",
    "map_file = os.path.join(curr_path, os.pardir, 'data', 'sample_classifications.pkl')\n",
    "sample_to_label = utils.parse_map_file(map_file)\n",
    "\n",
    "metadata_path = os.path.join(curr_path, os.pardir, 'data', 'all_metadata.json')\n",
    "\n",
    "compendium_path = os.path.join(curr_path, os.pardir, 'data', 'subset_compendium.tsv')"
   ]
  },
  {
   "cell_type": "markdown",
   "metadata": {},
   "source": [
    "### More setup\n",
    "Initialize the model and encoder for the training process"
   ]
  },
  {
   "cell_type": "code",
   "execution_count": 12,
   "metadata": {},
   "outputs": [
    {
     "data": {
      "text/plain": [
       "LabelEncoder()"
      ]
     },
     "execution_count": 12,
     "metadata": {},
     "output_type": "execute_result"
    }
   ],
   "source": [
    "classes = ['sepsis', 'healthy']\n",
    "encoder = preprocessing.LabelEncoder()\n",
    "encoder.fit(classes)"
   ]
  },
  {
   "cell_type": "markdown",
   "metadata": {},
   "source": [
    "### Tune split\n",
    "We will get a rough estimate of performance with leave-one-out cross-validation. To know when to stop training, though, we will need a tuning dataset."
   ]
  },
  {
   "cell_type": "code",
   "execution_count": 13,
   "metadata": {},
   "outputs": [
    {
     "name": "stdout",
     "output_type": "stream",
     "text": [
      "51\n",
      "1267\n"
     ]
    }
   ],
   "source": [
    "tune_df = sepsis_metadata_df[sepsis_metadata_df['platform'] == 'affymetrix human genome u219 array (hgu219)']\n",
    "train_df = sepsis_metadata_df[sepsis_metadata_df['platform'] != 'affymetrix human genome u219 array (hgu219)']\n",
    "print(len(tune_df.index))\n",
    "print(len(train_df.index))\n",
    "\n",
    "tune_studies = tune_df['study'].unique()\n",
    "tune_dataset = CompendiumDataset(tune_studies, classes, sample_to_label, metadata_path, compendium_path, encoder)\n",
    "tune_loader = DataLoader(tune_dataset, batch_size=1)"
   ]
  },
  {
   "cell_type": "markdown",
   "metadata": {},
   "source": [
    "### Filter Platforms\n",
    "Remove a platform that corresponds to a study present in the labeled data, but not the human compendium"
   ]
  },
  {
   "cell_type": "code",
   "execution_count": 14,
   "metadata": {},
   "outputs": [],
   "source": [
    "platforms = train_df['platform'].unique()\n",
    "platforms = [p for p in platforms if p != 'affymetrix human human exon 1.0 st array (huex10st)']"
   ]
  },
  {
   "cell_type": "markdown",
   "metadata": {},
   "source": [
    "### Train loop"
   ]
  },
  {
   "cell_type": "code",
   "execution_count": 15,
   "metadata": {},
   "outputs": [
    {
     "name": "stdout",
     "output_type": "stream",
     "text": [
      "affymetrix human genome u133 plus 2.0 array (hgu133plus2) 0\n"
     ]
    },
    {
     "data": {
      "application/vnd.jupyter.widget-view+json": {
       "model_id": "4fa65f7173574027ab82fb9482231451",
       "version_major": 2,
       "version_minor": 0
      },
      "text/plain": [
       "HBox(children=(IntProgress(value=0, max=400), HTML(value='')))"
      ]
     },
     "metadata": {},
     "output_type": "display_data"
    },
    {
     "name": "stdout",
     "output_type": "stream",
     "text": [
      "\n"
     ]
    },
    {
     "data": {
      "application/vnd.jupyter.widget-view+json": {
       "model_id": "7227b143b9984bebbfc29469510023c8",
       "version_major": 2,
       "version_minor": 0
      },
      "text/plain": [
       "HBox(children=(IntProgress(value=0, max=400), HTML(value='')))"
      ]
     },
     "metadata": {},
     "output_type": "display_data"
    },
    {
     "name": "stdout",
     "output_type": "stream",
     "text": [
      "\n",
      "affymetrix human genome u133 plus 2.0 array (hgu133plus2) 1\n"
     ]
    },
    {
     "data": {
      "application/vnd.jupyter.widget-view+json": {
       "model_id": "520f5d23c8f941e99ee5d990f34352dc",
       "version_major": 2,
       "version_minor": 0
      },
      "text/plain": [
       "HBox(children=(IntProgress(value=0, max=400), HTML(value='')))"
      ]
     },
     "metadata": {},
     "output_type": "display_data"
    },
    {
     "name": "stdout",
     "output_type": "stream",
     "text": [
      "\n"
     ]
    },
    {
     "data": {
      "application/vnd.jupyter.widget-view+json": {
       "model_id": "79feaeac41574a8ca43b7d7944f7d2e0",
       "version_major": 2,
       "version_minor": 0
      },
      "text/plain": [
       "HBox(children=(IntProgress(value=0, max=400), HTML(value='')))"
      ]
     },
     "metadata": {},
     "output_type": "display_data"
    },
    {
     "name": "stdout",
     "output_type": "stream",
     "text": [
      "\n",
      "affymetrix human genome u133 plus 2.0 array (hgu133plus2) 2\n"
     ]
    },
    {
     "data": {
      "application/vnd.jupyter.widget-view+json": {
       "model_id": "12ab237782b74c9b856ba1509fdad600",
       "version_major": 2,
       "version_minor": 0
      },
      "text/plain": [
       "HBox(children=(IntProgress(value=0, max=400), HTML(value='')))"
      ]
     },
     "metadata": {},
     "output_type": "display_data"
    },
    {
     "name": "stdout",
     "output_type": "stream",
     "text": [
      "\n"
     ]
    },
    {
     "data": {
      "application/vnd.jupyter.widget-view+json": {
       "model_id": "1dce445ed74c408e8d94a37d3223ce44",
       "version_major": 2,
       "version_minor": 0
      },
      "text/plain": [
       "HBox(children=(IntProgress(value=0, max=400), HTML(value='')))"
      ]
     },
     "metadata": {},
     "output_type": "display_data"
    },
    {
     "name": "stdout",
     "output_type": "stream",
     "text": [
      "\n",
      "affymetrix human genome u133 plus 2.0 array (hgu133plus2) 3\n"
     ]
    },
    {
     "data": {
      "application/vnd.jupyter.widget-view+json": {
       "model_id": "685b79a812814a62a925976d5672774d",
       "version_major": 2,
       "version_minor": 0
      },
      "text/plain": [
       "HBox(children=(IntProgress(value=0, max=400), HTML(value='')))"
      ]
     },
     "metadata": {},
     "output_type": "display_data"
    },
    {
     "name": "stdout",
     "output_type": "stream",
     "text": [
      "\n"
     ]
    },
    {
     "data": {
      "application/vnd.jupyter.widget-view+json": {
       "model_id": "21c8338bfe0349da8942050c883593e8",
       "version_major": 2,
       "version_minor": 0
      },
      "text/plain": [
       "HBox(children=(IntProgress(value=0, max=400), HTML(value='')))"
      ]
     },
     "metadata": {},
     "output_type": "display_data"
    },
    {
     "name": "stdout",
     "output_type": "stream",
     "text": [
      "\n",
      "affymetrix human genome u133 plus 2.0 array (hgu133plus2) 4\n"
     ]
    },
    {
     "data": {
      "application/vnd.jupyter.widget-view+json": {
       "model_id": "6c43608f33bc4e24a8008add66072cd5",
       "version_major": 2,
       "version_minor": 0
      },
      "text/plain": [
       "HBox(children=(IntProgress(value=0, max=400), HTML(value='')))"
      ]
     },
     "metadata": {},
     "output_type": "display_data"
    },
    {
     "name": "stdout",
     "output_type": "stream",
     "text": [
      "\n"
     ]
    },
    {
     "data": {
      "application/vnd.jupyter.widget-view+json": {
       "model_id": "b72286a4c513460c9418657945d42cd4",
       "version_major": 2,
       "version_minor": 0
      },
      "text/plain": [
       "HBox(children=(IntProgress(value=0, max=400), HTML(value='')))"
      ]
     },
     "metadata": {},
     "output_type": "display_data"
    },
    {
     "name": "stdout",
     "output_type": "stream",
     "text": [
      "\n",
      "affymetrix human gene 1.0 st array (hugene10st) 0\n"
     ]
    },
    {
     "data": {
      "application/vnd.jupyter.widget-view+json": {
       "model_id": "aa68425e9444440abc859f8179cb5e60",
       "version_major": 2,
       "version_minor": 0
      },
      "text/plain": [
       "HBox(children=(IntProgress(value=0, max=400), HTML(value='')))"
      ]
     },
     "metadata": {},
     "output_type": "display_data"
    },
    {
     "name": "stdout",
     "output_type": "stream",
     "text": [
      "\n"
     ]
    },
    {
     "data": {
      "application/vnd.jupyter.widget-view+json": {
       "model_id": "78f9f97a5bd6496e95f90faae3bf75ce",
       "version_major": 2,
       "version_minor": 0
      },
      "text/plain": [
       "HBox(children=(IntProgress(value=0, max=400), HTML(value='')))"
      ]
     },
     "metadata": {},
     "output_type": "display_data"
    },
    {
     "name": "stdout",
     "output_type": "stream",
     "text": [
      "\n",
      "affymetrix human gene 1.0 st array (hugene10st) 1\n"
     ]
    },
    {
     "data": {
      "application/vnd.jupyter.widget-view+json": {
       "model_id": "c124a7872dcf4397a3759ca39ec993b3",
       "version_major": 2,
       "version_minor": 0
      },
      "text/plain": [
       "HBox(children=(IntProgress(value=0, max=400), HTML(value='')))"
      ]
     },
     "metadata": {},
     "output_type": "display_data"
    },
    {
     "name": "stdout",
     "output_type": "stream",
     "text": [
      "\n"
     ]
    },
    {
     "data": {
      "application/vnd.jupyter.widget-view+json": {
       "model_id": "dcac49f77ffd4c499b6a965ed2c66b7d",
       "version_major": 2,
       "version_minor": 0
      },
      "text/plain": [
       "HBox(children=(IntProgress(value=0, max=400), HTML(value='')))"
      ]
     },
     "metadata": {},
     "output_type": "display_data"
    },
    {
     "name": "stdout",
     "output_type": "stream",
     "text": [
      "\n",
      "affymetrix human gene 1.0 st array (hugene10st) 2\n"
     ]
    },
    {
     "data": {
      "application/vnd.jupyter.widget-view+json": {
       "model_id": "4f36fd788b954f8c9ac7bdb955afcc17",
       "version_major": 2,
       "version_minor": 0
      },
      "text/plain": [
       "HBox(children=(IntProgress(value=0, max=400), HTML(value='')))"
      ]
     },
     "metadata": {},
     "output_type": "display_data"
    },
    {
     "name": "stdout",
     "output_type": "stream",
     "text": [
      "\n"
     ]
    },
    {
     "data": {
      "application/vnd.jupyter.widget-view+json": {
       "model_id": "90a4014f8a7f47119943efc63c4e5377",
       "version_major": 2,
       "version_minor": 0
      },
      "text/plain": [
       "HBox(children=(IntProgress(value=0, max=400), HTML(value='')))"
      ]
     },
     "metadata": {},
     "output_type": "display_data"
    },
    {
     "name": "stdout",
     "output_type": "stream",
     "text": [
      "\n",
      "affymetrix human gene 1.0 st array (hugene10st) 3\n"
     ]
    },
    {
     "data": {
      "application/vnd.jupyter.widget-view+json": {
       "model_id": "da67d45232824d779f13caa32457a695",
       "version_major": 2,
       "version_minor": 0
      },
      "text/plain": [
       "HBox(children=(IntProgress(value=0, max=400), HTML(value='')))"
      ]
     },
     "metadata": {},
     "output_type": "display_data"
    },
    {
     "name": "stdout",
     "output_type": "stream",
     "text": [
      "\n"
     ]
    },
    {
     "data": {
      "application/vnd.jupyter.widget-view+json": {
       "model_id": "d87d1a7e0b8e46afa12ab08e858e0fcf",
       "version_major": 2,
       "version_minor": 0
      },
      "text/plain": [
       "HBox(children=(IntProgress(value=0, max=400), HTML(value='')))"
      ]
     },
     "metadata": {},
     "output_type": "display_data"
    },
    {
     "name": "stdout",
     "output_type": "stream",
     "text": [
      "\n",
      "affymetrix human gene 1.0 st array (hugene10st) 4\n"
     ]
    },
    {
     "data": {
      "application/vnd.jupyter.widget-view+json": {
       "model_id": "35b027135bfd4482b04fb6a101988da0",
       "version_major": 2,
       "version_minor": 0
      },
      "text/plain": [
       "HBox(children=(IntProgress(value=0, max=400), HTML(value='')))"
      ]
     },
     "metadata": {},
     "output_type": "display_data"
    },
    {
     "name": "stdout",
     "output_type": "stream",
     "text": [
      "\n"
     ]
    },
    {
     "data": {
      "application/vnd.jupyter.widget-view+json": {
       "model_id": "22c14b557aee42baa8cb84bd63c80e6d",
       "version_major": 2,
       "version_minor": 0
      },
      "text/plain": [
       "HBox(children=(IntProgress(value=0, max=400), HTML(value='')))"
      ]
     },
     "metadata": {},
     "output_type": "display_data"
    },
    {
     "name": "stdout",
     "output_type": "stream",
     "text": [
      "\n",
      "affymetrix human genome u133a 2.0 array (hgu133a2) 0\n"
     ]
    },
    {
     "data": {
      "application/vnd.jupyter.widget-view+json": {
       "model_id": "7ec271a4752a4ee98db969f0e8cda452",
       "version_major": 2,
       "version_minor": 0
      },
      "text/plain": [
       "HBox(children=(IntProgress(value=0, max=400), HTML(value='')))"
      ]
     },
     "metadata": {},
     "output_type": "display_data"
    },
    {
     "name": "stdout",
     "output_type": "stream",
     "text": [
      "\n"
     ]
    },
    {
     "data": {
      "application/vnd.jupyter.widget-view+json": {
       "model_id": "b1c1f22ede5e41d8a9939f7310bb1203",
       "version_major": 2,
       "version_minor": 0
      },
      "text/plain": [
       "HBox(children=(IntProgress(value=0, max=400), HTML(value='')))"
      ]
     },
     "metadata": {},
     "output_type": "display_data"
    },
    {
     "name": "stdout",
     "output_type": "stream",
     "text": [
      "\n",
      "affymetrix human genome u133a 2.0 array (hgu133a2) 1\n"
     ]
    },
    {
     "data": {
      "application/vnd.jupyter.widget-view+json": {
       "model_id": "5a90143cbc87452e846d2efd1bbfb1c6",
       "version_major": 2,
       "version_minor": 0
      },
      "text/plain": [
       "HBox(children=(IntProgress(value=0, max=400), HTML(value='')))"
      ]
     },
     "metadata": {},
     "output_type": "display_data"
    },
    {
     "name": "stdout",
     "output_type": "stream",
     "text": [
      "\n"
     ]
    },
    {
     "data": {
      "application/vnd.jupyter.widget-view+json": {
       "model_id": "72378da6c83c406aba51ebbfd5c008eb",
       "version_major": 2,
       "version_minor": 0
      },
      "text/plain": [
       "HBox(children=(IntProgress(value=0, max=400), HTML(value='')))"
      ]
     },
     "metadata": {},
     "output_type": "display_data"
    },
    {
     "name": "stdout",
     "output_type": "stream",
     "text": [
      "\n",
      "affymetrix human genome u133a 2.0 array (hgu133a2) 2\n"
     ]
    },
    {
     "data": {
      "application/vnd.jupyter.widget-view+json": {
       "model_id": "b9cc6f5ae528455f8eb5dd372c0daae2",
       "version_major": 2,
       "version_minor": 0
      },
      "text/plain": [
       "HBox(children=(IntProgress(value=0, max=400), HTML(value='')))"
      ]
     },
     "metadata": {},
     "output_type": "display_data"
    },
    {
     "name": "stdout",
     "output_type": "stream",
     "text": [
      "\n"
     ]
    },
    {
     "data": {
      "application/vnd.jupyter.widget-view+json": {
       "model_id": "0eb29a882e0246e984f67262905624b6",
       "version_major": 2,
       "version_minor": 0
      },
      "text/plain": [
       "HBox(children=(IntProgress(value=0, max=400), HTML(value='')))"
      ]
     },
     "metadata": {},
     "output_type": "display_data"
    },
    {
     "name": "stdout",
     "output_type": "stream",
     "text": [
      "\n",
      "affymetrix human genome u133a 2.0 array (hgu133a2) 3\n"
     ]
    },
    {
     "data": {
      "application/vnd.jupyter.widget-view+json": {
       "model_id": "74f4921a197e43bdb6d04c0bb3c848e5",
       "version_major": 2,
       "version_minor": 0
      },
      "text/plain": [
       "HBox(children=(IntProgress(value=0, max=400), HTML(value='')))"
      ]
     },
     "metadata": {},
     "output_type": "display_data"
    },
    {
     "name": "stdout",
     "output_type": "stream",
     "text": [
      "\n"
     ]
    },
    {
     "data": {
      "application/vnd.jupyter.widget-view+json": {
       "model_id": "a6f94189b2314ae89484f4484c682b66",
       "version_major": 2,
       "version_minor": 0
      },
      "text/plain": [
       "HBox(children=(IntProgress(value=0, max=400), HTML(value='')))"
      ]
     },
     "metadata": {},
     "output_type": "display_data"
    },
    {
     "name": "stdout",
     "output_type": "stream",
     "text": [
      "\n",
      "affymetrix human genome u133a 2.0 array (hgu133a2) 4\n"
     ]
    },
    {
     "data": {
      "application/vnd.jupyter.widget-view+json": {
       "model_id": "57dcf09908b444898adfce6e1d82f576",
       "version_major": 2,
       "version_minor": 0
      },
      "text/plain": [
       "HBox(children=(IntProgress(value=0, max=400), HTML(value='')))"
      ]
     },
     "metadata": {},
     "output_type": "display_data"
    },
    {
     "name": "stdout",
     "output_type": "stream",
     "text": [
      "\n"
     ]
    },
    {
     "data": {
      "application/vnd.jupyter.widget-view+json": {
       "model_id": "311ba5e3330d4ceaac34d0dc7072f462",
       "version_major": 2,
       "version_minor": 0
      },
      "text/plain": [
       "HBox(children=(IntProgress(value=0, max=400), HTML(value='')))"
      ]
     },
     "metadata": {},
     "output_type": "display_data"
    },
    {
     "name": "stdout",
     "output_type": "stream",
     "text": [
      "\n",
      "illumina genome analyzer iix (illuminagenomeanalyzeriix) 0\n"
     ]
    },
    {
     "data": {
      "application/vnd.jupyter.widget-view+json": {
       "model_id": "3554c71e766543e8871f6db0adc4752a",
       "version_major": 2,
       "version_minor": 0
      },
      "text/plain": [
       "HBox(children=(IntProgress(value=0, max=400), HTML(value='')))"
      ]
     },
     "metadata": {},
     "output_type": "display_data"
    },
    {
     "name": "stdout",
     "output_type": "stream",
     "text": [
      "\n"
     ]
    },
    {
     "data": {
      "application/vnd.jupyter.widget-view+json": {
       "model_id": "1636fd0f6f574c5b8e39adb908122d34",
       "version_major": 2,
       "version_minor": 0
      },
      "text/plain": [
       "HBox(children=(IntProgress(value=0, max=400), HTML(value='')))"
      ]
     },
     "metadata": {},
     "output_type": "display_data"
    },
    {
     "name": "stdout",
     "output_type": "stream",
     "text": [
      "\n",
      "illumina genome analyzer iix (illuminagenomeanalyzeriix) 1\n"
     ]
    },
    {
     "data": {
      "application/vnd.jupyter.widget-view+json": {
       "model_id": "9454743abcc14948ada551bd42a34698",
       "version_major": 2,
       "version_minor": 0
      },
      "text/plain": [
       "HBox(children=(IntProgress(value=0, max=400), HTML(value='')))"
      ]
     },
     "metadata": {},
     "output_type": "display_data"
    },
    {
     "name": "stdout",
     "output_type": "stream",
     "text": [
      "\n"
     ]
    },
    {
     "data": {
      "application/vnd.jupyter.widget-view+json": {
       "model_id": "282ae1bf91984da6841eb7a2c23b21ec",
       "version_major": 2,
       "version_minor": 0
      },
      "text/plain": [
       "HBox(children=(IntProgress(value=0, max=400), HTML(value='')))"
      ]
     },
     "metadata": {},
     "output_type": "display_data"
    },
    {
     "name": "stdout",
     "output_type": "stream",
     "text": [
      "\n",
      "illumina genome analyzer iix (illuminagenomeanalyzeriix) 2\n"
     ]
    },
    {
     "data": {
      "application/vnd.jupyter.widget-view+json": {
       "model_id": "626c1c0847254e76adb6282ffe547171",
       "version_major": 2,
       "version_minor": 0
      },
      "text/plain": [
       "HBox(children=(IntProgress(value=0, max=400), HTML(value='')))"
      ]
     },
     "metadata": {},
     "output_type": "display_data"
    },
    {
     "name": "stdout",
     "output_type": "stream",
     "text": [
      "\n"
     ]
    },
    {
     "data": {
      "application/vnd.jupyter.widget-view+json": {
       "model_id": "70278f9e7da749f88a3ee0302f4a7e64",
       "version_major": 2,
       "version_minor": 0
      },
      "text/plain": [
       "HBox(children=(IntProgress(value=0, max=400), HTML(value='')))"
      ]
     },
     "metadata": {},
     "output_type": "display_data"
    },
    {
     "name": "stdout",
     "output_type": "stream",
     "text": [
      "\n",
      "illumina genome analyzer iix (illuminagenomeanalyzeriix) 3\n"
     ]
    },
    {
     "data": {
      "application/vnd.jupyter.widget-view+json": {
       "model_id": "48dbc79c3ea348bd982267ad204e28da",
       "version_major": 2,
       "version_minor": 0
      },
      "text/plain": [
       "HBox(children=(IntProgress(value=0, max=400), HTML(value='')))"
      ]
     },
     "metadata": {},
     "output_type": "display_data"
    },
    {
     "name": "stdout",
     "output_type": "stream",
     "text": [
      "\n"
     ]
    },
    {
     "data": {
      "application/vnd.jupyter.widget-view+json": {
       "model_id": "11cbe0420da845c3975ad87e57bdb18c",
       "version_major": 2,
       "version_minor": 0
      },
      "text/plain": [
       "HBox(children=(IntProgress(value=0, max=400), HTML(value='')))"
      ]
     },
     "metadata": {},
     "output_type": "display_data"
    },
    {
     "name": "stdout",
     "output_type": "stream",
     "text": [
      "\n",
      "illumina genome analyzer iix (illuminagenomeanalyzeriix) 4\n"
     ]
    },
    {
     "data": {
      "application/vnd.jupyter.widget-view+json": {
       "model_id": "9bc5f89045e149a4a9000162b2fd28d0",
       "version_major": 2,
       "version_minor": 0
      },
      "text/plain": [
       "HBox(children=(IntProgress(value=0, max=400), HTML(value='')))"
      ]
     },
     "metadata": {},
     "output_type": "display_data"
    },
    {
     "name": "stdout",
     "output_type": "stream",
     "text": [
      "\n"
     ]
    },
    {
     "data": {
      "application/vnd.jupyter.widget-view+json": {
       "model_id": "8ca9ff3b944b4835b00b09c574559a0e",
       "version_major": 2,
       "version_minor": 0
      },
      "text/plain": [
       "HBox(children=(IntProgress(value=0, max=400), HTML(value='')))"
      ]
     },
     "metadata": {},
     "output_type": "display_data"
    },
    {
     "name": "stdout",
     "output_type": "stream",
     "text": [
      "\n",
      "illumina hiseq 2500 (illuminahiseq2500) 0\n"
     ]
    },
    {
     "data": {
      "application/vnd.jupyter.widget-view+json": {
       "model_id": "b8803e92bd2f4228a292c0d00aa9c330",
       "version_major": 2,
       "version_minor": 0
      },
      "text/plain": [
       "HBox(children=(IntProgress(value=0, max=400), HTML(value='')))"
      ]
     },
     "metadata": {},
     "output_type": "display_data"
    },
    {
     "name": "stdout",
     "output_type": "stream",
     "text": [
      "\n"
     ]
    },
    {
     "data": {
      "application/vnd.jupyter.widget-view+json": {
       "model_id": "cc8cfea4ef7342bd8f0aad974a48ec49",
       "version_major": 2,
       "version_minor": 0
      },
      "text/plain": [
       "HBox(children=(IntProgress(value=0, max=400), HTML(value='')))"
      ]
     },
     "metadata": {},
     "output_type": "display_data"
    },
    {
     "name": "stdout",
     "output_type": "stream",
     "text": [
      "\n",
      "illumina hiseq 2500 (illuminahiseq2500) 1\n"
     ]
    },
    {
     "data": {
      "application/vnd.jupyter.widget-view+json": {
       "model_id": "8c1dce9e68904fe1b1c8849901d1d406",
       "version_major": 2,
       "version_minor": 0
      },
      "text/plain": [
       "HBox(children=(IntProgress(value=0, max=400), HTML(value='')))"
      ]
     },
     "metadata": {},
     "output_type": "display_data"
    },
    {
     "name": "stdout",
     "output_type": "stream",
     "text": [
      "\n"
     ]
    },
    {
     "data": {
      "application/vnd.jupyter.widget-view+json": {
       "model_id": "54132ed201734b4d82439f5f2ee99235",
       "version_major": 2,
       "version_minor": 0
      },
      "text/plain": [
       "HBox(children=(IntProgress(value=0, max=400), HTML(value='')))"
      ]
     },
     "metadata": {},
     "output_type": "display_data"
    },
    {
     "name": "stdout",
     "output_type": "stream",
     "text": [
      "\n",
      "illumina hiseq 2500 (illuminahiseq2500) 2\n"
     ]
    },
    {
     "data": {
      "application/vnd.jupyter.widget-view+json": {
       "model_id": "2e761faf357a4d739d377886a18b5927",
       "version_major": 2,
       "version_minor": 0
      },
      "text/plain": [
       "HBox(children=(IntProgress(value=0, max=400), HTML(value='')))"
      ]
     },
     "metadata": {},
     "output_type": "display_data"
    },
    {
     "name": "stdout",
     "output_type": "stream",
     "text": [
      "\n"
     ]
    },
    {
     "data": {
      "application/vnd.jupyter.widget-view+json": {
       "model_id": "3619a2bc27884a63abe6eec7fae7b7b6",
       "version_major": 2,
       "version_minor": 0
      },
      "text/plain": [
       "HBox(children=(IntProgress(value=0, max=400), HTML(value='')))"
      ]
     },
     "metadata": {},
     "output_type": "display_data"
    },
    {
     "name": "stdout",
     "output_type": "stream",
     "text": [
      "\n",
      "illumina hiseq 2500 (illuminahiseq2500) 3\n"
     ]
    },
    {
     "data": {
      "application/vnd.jupyter.widget-view+json": {
       "model_id": "97664363fb6b4f64af03359942a56ef5",
       "version_major": 2,
       "version_minor": 0
      },
      "text/plain": [
       "HBox(children=(IntProgress(value=0, max=400), HTML(value='')))"
      ]
     },
     "metadata": {},
     "output_type": "display_data"
    },
    {
     "name": "stdout",
     "output_type": "stream",
     "text": [
      "\n"
     ]
    },
    {
     "data": {
      "application/vnd.jupyter.widget-view+json": {
       "model_id": "7d2218ba48da45c8902e565ba17dd713",
       "version_major": 2,
       "version_minor": 0
      },
      "text/plain": [
       "HBox(children=(IntProgress(value=0, max=400), HTML(value='')))"
      ]
     },
     "metadata": {},
     "output_type": "display_data"
    },
    {
     "name": "stdout",
     "output_type": "stream",
     "text": [
      "\n",
      "illumina hiseq 2500 (illuminahiseq2500) 4\n"
     ]
    },
    {
     "data": {
      "application/vnd.jupyter.widget-view+json": {
       "model_id": "afca6c4668df4a68bde097463af9991d",
       "version_major": 2,
       "version_minor": 0
      },
      "text/plain": [
       "HBox(children=(IntProgress(value=0, max=400), HTML(value='')))"
      ]
     },
     "metadata": {},
     "output_type": "display_data"
    },
    {
     "name": "stdout",
     "output_type": "stream",
     "text": [
      "\n"
     ]
    },
    {
     "data": {
      "application/vnd.jupyter.widget-view+json": {
       "model_id": "dab38156bd994a08a4fd71ffdcc89e12",
       "version_major": 2,
       "version_minor": 0
      },
      "text/plain": [
       "HBox(children=(IntProgress(value=0, max=400), HTML(value='')))"
      ]
     },
     "metadata": {},
     "output_type": "display_data"
    },
    {
     "name": "stdout",
     "output_type": "stream",
     "text": [
      "\n"
     ]
    }
   ],
   "source": [
    "irm_result_list = []\n",
    "erm_result_list = []\n",
    "num_seeds = 5\n",
    "\n",
    "for hold_out_platform in platforms:\n",
    "    train_platforms = train_df[train_df['platform'] != hold_out_platform]['platform'].unique()\n",
    "\n",
    "    train_loaders = []\n",
    "    total_irm_samples = 0\n",
    "    for platform in train_platforms:\n",
    "        studies = train_df[train_df['platform'] == platform]['study']\n",
    "        train_dataset = CompendiumDataset([platform], classes, sample_to_label, metadata_path, compendium_path, \n",
    "                                          encoder, mode='platform')\n",
    "        total_irm_samples += len(train_dataset)\n",
    "\n",
    "        if len(train_dataset) > 0:\n",
    "            train_loader = DataLoader(train_dataset, batch_size=8, shuffle=True)\n",
    "            train_loaders.append(train_loader)\n",
    "\n",
    "    platform_file = hold_out_platform.split('(')[-1].strip(')')\n",
    "\n",
    "    full_train_studies = train_df[train_df['platform'] != hold_out_platform]['study'].unique()\n",
    "    full_train_dataset = CompendiumDataset(train_platforms, classes, sample_to_label, metadata_path,\n",
    "                                           compendium_path, encoder, mode='platform')\n",
    "    full_train_loader = DataLoader(full_train_dataset, batch_size=8, shuffle=True)\n",
    "\n",
    "    assert total_irm_samples == len(full_train_dataset)\n",
    "    \n",
    "    for seed in range(num_seeds):\n",
    "        print(hold_out_platform, seed)\n",
    "        np.random.seed(seed)\n",
    "        random.seed(seed)\n",
    "        net = models.ThreeLayerNet(len(compendium_df.index))\n",
    "        writer = SummaryWriter(os.path.join(curr_path, \n",
    "                                            os.pardir, \n",
    "                                            'logs', \n",
    "                                            'erm_analysis_{}_{}.tfrecord'.format(platform_file, seed)))\n",
    "\n",
    "        save_file = os.path.join(curr_path, os.pardir, 'logs', 'erm_analysis_{}_{}.pkl'.format(platform_file, seed))\n",
    "        results = train.train_with_erm(net, full_train_loader, tune_loader, num_epochs=400, \n",
    "                                       save_file=save_file, writer=writer)\n",
    "        erm_result_list.append(results)\n",
    "\n",
    "        net = models.ThreeLayerNet(len(compendium_df.index))\n",
    "        writer = SummaryWriter(os.path.join(curr_path, os.pardir, 'logs', \n",
    "                                            'irm_analysis_{}_{}.tfrecord'.format(platform_file, seed)))\n",
    "\n",
    "        save_file = os.path.join(curr_path, os.pardir, 'logs', 'irm_analysis_{}_{}.pkl'.format(platform_file, seed))\n",
    "        results = train.train_with_irm(net, train_loaders, tune_loader, num_epochs=400, \n",
    "                                       loss_scaling_factor=1, save_file=save_file, writer=writer, burn_in_epochs=0)\n",
    "        irm_result_list.append(results)\n"
   ]
  },
  {
   "cell_type": "code",
   "execution_count": 16,
   "metadata": {},
   "outputs": [],
   "source": [
    "def eval_model(net, loader):\n",
    "    all_labels = []\n",
    "    all_preds = []\n",
    "    for batch in loader:\n",
    "        expression, labels, ids = batch\n",
    "        expression = expression.float().to('cuda')\n",
    "        labels = labels.numpy()\n",
    "        all_labels.extend(labels)\n",
    "                \n",
    "        output = net(expression)\n",
    "        preds = [1 if p > 0 else 0 for p in output]\n",
    "        all_preds.extend(preds)\n",
    "        \n",
    "    f1 = metrics.f1_score(all_labels, all_preds)\n",
    "        \n",
    "    return f1\n",
    "        "
   ]
  },
  {
   "cell_type": "code",
   "execution_count": 17,
   "metadata": {},
   "outputs": [],
   "source": [
    "irm_f1_scores = []\n",
    "erm_f1_scores = []\n",
    "for hold_out_platform in platforms:\n",
    "    for seed in range(num_seeds):\n",
    "        # Load data\n",
    "        try:\n",
    "            hold_out_studies = train_df[train_df['platform'] == hold_out_platform]['study']\n",
    "            hold_out_dataset = CompendiumDataset(hold_out_studies, classes, sample_to_label, metadata_path, compendium_path, encoder)\n",
    "            hold_out_loader = DataLoader(hold_out_dataset, batch_size=1, shuffle=False)\n",
    "\n",
    "            # Load IRM model\n",
    "            platform_file = hold_out_platform.split('(')[-1].strip(')')\n",
    "            save_file = os.path.join(curr_path, os.pardir, 'logs', 'irm_analysis_{}_{}.pkl'.format(platform_file, seed))\n",
    "            net = torch.load(save_file, 'cuda')\n",
    "\n",
    "            #Evaluate ERM model\n",
    "            f1_score = eval_model(net, hold_out_loader)\n",
    "            irm_f1_scores.append(f1_score)\n",
    "\n",
    "            # Load ERM model\n",
    "            save_file = os.path.join(curr_path, os.pardir, 'logs', 'erm_analysis_{}_{}.pkl'.format(platform_file, seed))\n",
    "            net = torch.load(save_file, 'cuda')\n",
    "\n",
    "            # Evaluate IRM model\n",
    "            f1_score = eval_model(net, hold_out_loader)\n",
    "            erm_f1_scores.append(f1_score)\n",
    "        except FileNotFoundError as e:\n",
    "            print(e)"
   ]
  },
  {
   "cell_type": "code",
   "execution_count": 18,
   "metadata": {},
   "outputs": [
    {
     "name": "stdout",
     "output_type": "stream",
     "text": [
      "[0.9439912996193585, 0.8746355685131194, 0.9339933993399339, 0.8856812933025404, 0.8627218934911243, 0.8260869565217391, 0.7586206896551725, 0.7727272727272727, 0.851063829787234, 0.8387096774193548, 0.671875, 0.7218045112781954, 0.4684684684684685, 0.9032258064516129, 0.7313432835820896, 0.9166666666666666, 0.8496732026143792, 0.8888888888888888, 0.9024390243902439, 0.9156626506024096, 0.9841269841269841, 0.9841269841269841, 0.959349593495935, 0.9921259842519685, 0.976]\n",
      "[0.9427792915531334, 0.9542272482498655, 0.9565683646112602, 0.8939828080229225, 0.9427792915531334, 0.8865979381443299, 0.6987951807228916, 0.7865168539325843, 0.8631578947368421, 0.8750000000000001, 0.9171974522292993, 0.8590604026845637, 0.8666666666666666, 0.8590604026845637, 0.888888888888889, 0.8516129032258064, 0.9080459770114941, 0.8734177215189873, 0.8957055214723927, 0.9122807017543859, 1.0, 0.9841269841269841, 0.976, 0.959349593495935, 0.9921259842519685]\n",
      "[0.9439912996193585, 0.9427792915531334, 0.8746355685131194, 0.9542272482498655, 0.9339933993399339, 0.9565683646112602, 0.8856812933025404, 0.8939828080229225, 0.8627218934911243, 0.9427792915531334, 0.8260869565217391, 0.8865979381443299, 0.7586206896551725, 0.6987951807228916, 0.7727272727272727, 0.7865168539325843, 0.851063829787234, 0.8631578947368421, 0.8387096774193548, 0.8750000000000001, 0.671875, 0.9171974522292993, 0.7218045112781954, 0.8590604026845637, 0.4684684684684685, 0.8666666666666666, 0.9032258064516129, 0.8590604026845637, 0.7313432835820896, 0.888888888888889, 0.9166666666666666, 0.8516129032258064, 0.8496732026143792, 0.9080459770114941, 0.8888888888888888, 0.8734177215189873, 0.9024390243902439, 0.8957055214723927, 0.9156626506024096, 0.9122807017543859, 0.9841269841269841, 1.0, 0.9841269841269841, 0.9841269841269841, 0.959349593495935, 0.976, 0.9921259842519685, 0.959349593495935, 0.976, 0.9921259842519685]\n",
      "['irm', 'erm', 'irm', 'erm', 'irm', 'erm', 'irm', 'erm', 'irm', 'erm', 'irm', 'erm', 'irm', 'erm', 'irm', 'erm', 'irm', 'erm', 'irm', 'erm', 'irm', 'erm', 'irm', 'erm', 'irm', 'erm', 'irm', 'erm', 'irm', 'erm', 'irm', 'erm', 'irm', 'erm', 'irm', 'erm', 'irm', 'erm', 'irm', 'erm', 'irm', 'erm', 'irm', 'erm', 'irm', 'erm', 'irm', 'erm', 'irm', 'erm']\n"
     ]
    }
   ],
   "source": [
    "print(irm_f1_scores)\n",
    "print(erm_f1_scores)\n",
    "held_out_platform_list = []\n",
    "for platform in platforms:\n",
    "    p = [platform] * 2 * num_seeds\n",
    "    held_out_platform_list.extend(p)\n",
    "#print(held_out_platform_list)\n",
    "\n",
    "score_list = list(itertools.chain(*zip(irm_f1_scores, erm_f1_scores)))\n",
    "print(score_list)\n",
    "label_list = (['irm'] + ['erm']) *  (len(score_list) // 2)\n",
    "print(label_list)"
   ]
  },
  {
   "cell_type": "code",
   "execution_count": 19,
   "metadata": {},
   "outputs": [
    {
     "data": {
      "text/html": [
       "<div>\n",
       "<style scoped>\n",
       "    .dataframe tbody tr th:only-of-type {\n",
       "        vertical-align: middle;\n",
       "    }\n",
       "\n",
       "    .dataframe tbody tr th {\n",
       "        vertical-align: top;\n",
       "    }\n",
       "\n",
       "    .dataframe thead th {\n",
       "        text-align: right;\n",
       "    }\n",
       "</style>\n",
       "<table border=\"1\" class=\"dataframe\">\n",
       "  <thead>\n",
       "    <tr style=\"text-align: right;\">\n",
       "      <th></th>\n",
       "      <th>f1_score</th>\n",
       "      <th>irm/erm</th>\n",
       "      <th>held_out_platform</th>\n",
       "    </tr>\n",
       "  </thead>\n",
       "  <tbody>\n",
       "    <tr>\n",
       "      <th>0</th>\n",
       "      <td>0.943991</td>\n",
       "      <td>irm</td>\n",
       "      <td>affymetrix human genome u133 plus 2.0 array (h...</td>\n",
       "    </tr>\n",
       "    <tr>\n",
       "      <th>1</th>\n",
       "      <td>0.942779</td>\n",
       "      <td>erm</td>\n",
       "      <td>affymetrix human genome u133 plus 2.0 array (h...</td>\n",
       "    </tr>\n",
       "    <tr>\n",
       "      <th>2</th>\n",
       "      <td>0.874636</td>\n",
       "      <td>irm</td>\n",
       "      <td>affymetrix human genome u133 plus 2.0 array (h...</td>\n",
       "    </tr>\n",
       "    <tr>\n",
       "      <th>3</th>\n",
       "      <td>0.954227</td>\n",
       "      <td>erm</td>\n",
       "      <td>affymetrix human genome u133 plus 2.0 array (h...</td>\n",
       "    </tr>\n",
       "    <tr>\n",
       "      <th>4</th>\n",
       "      <td>0.933993</td>\n",
       "      <td>irm</td>\n",
       "      <td>affymetrix human genome u133 plus 2.0 array (h...</td>\n",
       "    </tr>\n",
       "  </tbody>\n",
       "</table>\n",
       "</div>"
      ],
      "text/plain": [
       "   f1_score irm/erm                                  held_out_platform\n",
       "0  0.943991     irm  affymetrix human genome u133 plus 2.0 array (h...\n",
       "1  0.942779     erm  affymetrix human genome u133 plus 2.0 array (h...\n",
       "2  0.874636     irm  affymetrix human genome u133 plus 2.0 array (h...\n",
       "3  0.954227     erm  affymetrix human genome u133 plus 2.0 array (h...\n",
       "4  0.933993     irm  affymetrix human genome u133 plus 2.0 array (h..."
      ]
     },
     "execution_count": 19,
     "metadata": {},
     "output_type": "execute_result"
    }
   ],
   "source": [
    "result_dict = {'f1_score': score_list, 'irm/erm': label_list, 'held_out_platform': held_out_platform_list}\n",
    "result_df = pd.DataFrame(result_dict)\n",
    "result_df.head()"
   ]
  },
  {
   "cell_type": "code",
   "execution_count": 20,
   "metadata": {},
   "outputs": [
    {
     "data": {
      "image/png": "[encoded data removed]",
      "text/plain": [
       "<Figure size 640x480 with 1 Axes>"
      ]
     },
     "metadata": {},
     "output_type": "display_data"
    },
    {
     "data": {
      "text/plain": [
       "<ggplot: (8736898778461)>"
      ]
     },
     "execution_count": 20,
     "metadata": {},
     "output_type": "execute_result"
    }
   ],
   "source": [
    "(ggplot(result_df, aes('irm/erm', 'f1_score', color='held_out_platform')) +\n",
    " geom_jitter(size=2) +\n",
    " ggtitle('F1 Score on held-out platform')\n",
    ")"
   ]
  },
  {
   "cell_type": "code",
   "execution_count": 21,
   "metadata": {},
   "outputs": [
    {
     "data": {
      "image/png": "[encoded data removed]",
      "text/plain": [
       "<Figure size 640x480 with 1 Axes>"
      ]
     },
     "metadata": {},
     "output_type": "display_data"
    },
    {
     "data": {
      "text/plain": [
       "<ggplot: (8736893716077)>"
      ]
     },
     "execution_count": 21,
     "metadata": {},
     "output_type": "execute_result"
    }
   ],
   "source": [
    "(ggplot(result_df, aes('irm/erm', 'f1_score')) +\n",
    " geom_violin() +\n",
    " ggtitle('F1 Score on held-out platform')\n",
    ")"
   ]
  },
  {
   "cell_type": "code",
   "execution_count": 22,
   "metadata": {},
   "outputs": [
    {
     "name": "stdout",
     "output_type": "stream",
     "text": [
      "[0.7832526881720417, 0.7790860215053754, 0.9122580645161297, 0.7412365591397829, 0.8444354838709668, 0.9330376344086022, 0.8984408602150556, 0.9170967741935497, 0.8836559139784947, 0.8678225806451623, 0.9334139784946238, 0.9541129032258082, 0.9343817204301073, 0.9828225806451613, 0.9633064516129037, 0.9524731182795709, 0.8815591397849459, 0.9143279569892471, 0.9085752688172054, 0.9292204301075284, 0.9440322580645173, 0.8438440860215067, 0.9614247311827966, 0.9406182795698922, 0.95766129032258]\n",
      "[0.7849462365591398, 0.7956989247311828, 0.9139784946236559, 0.7526881720430108, 0.8279569892473119, 0.946236559139785, 0.9354838709677419, 0.946236559139785, 0.9247311827956989, 0.9139784946236559, 0.956989247311828, 0.989247311827957, 0.978494623655914, 1.0, 0.989247311827957, 0.978494623655914, 0.9032258064516129, 0.946236559139785, 0.946236559139785, 0.967741935483871, 0.978494623655914, 0.8817204301075269, 0.978494623655914, 0.967741935483871, 0.989247311827957]\n"
     ]
    }
   ],
   "source": [
    "irm_accs = [result['tune_acc'] for result in irm_result_list]\n",
    "irm_mean_accs = [sum(accs) / len(accs) for accs in irm_accs]\n",
    "print(irm_mean_accs)\n",
    "[acc.sort() for acc in irm_accs]\n",
    "irm_median_accs = [acc[len(acc) //2] for acc in irm_accs]\n",
    "print(irm_median_accs)"
   ]
  },
  {
   "cell_type": "code",
   "execution_count": 23,
   "metadata": {},
   "outputs": [
    {
     "name": "stdout",
     "output_type": "stream",
     "text": [
      "[0.8013709677419318, 0.8346774193548331, 0.7689247311827951, 0.8285483870967661, 0.8372311827956969, 0.9565053763440814, 0.8941666666666657, 0.9186827956989265, 0.9473655913978455, 0.9595161290322519, 0.9531182795698918, 0.9658602150537614, 0.9492204301075243, 0.9552419354838674, 0.9524999999999944, 0.939086021505376, 0.8954569892473104, 0.9637096774193478, 0.9575268817204217, 0.9458333333333345, 0.9161827956989218, 0.9554301075268756, 0.9133064516129036, 0.9212903225806446, 0.9204569892473089]\n",
      "[0.8172043010752689, 0.8279569892473119, 0.7741935483870968, 0.8279569892473119, 0.8387096774193549, 0.956989247311828, 0.9032258064516129, 0.9139784946236559, 0.956989247311828, 0.967741935483871, 0.967741935483871, 0.967741935483871, 0.956989247311828, 0.967741935483871, 0.967741935483871, 0.946236559139785, 0.8924731182795699, 0.967741935483871, 0.967741935483871, 0.946236559139785, 0.9247311827956989, 0.967741935483871, 0.9139784946236559, 0.9247311827956989, 0.9354838709677419]\n"
     ]
    }
   ],
   "source": [
    "erm_accs = [result['tune_acc'] for result in erm_result_list]\n",
    "erm_mean_accs = [sum(accs) / len(accs) for accs in erm_accs]\n",
    "print(erm_mean_accs)\n",
    "[acc.sort() for acc in erm_accs]\n",
    "erm_median_accs = [acc[len(acc) //2] for acc in erm_accs]\n",
    "print(erm_median_accs)"
   ]
  },
  {
   "cell_type": "code",
   "execution_count": 24,
   "metadata": {},
   "outputs": [],
   "source": [
    "mean_list = list(itertools.chain(*zip(irm_mean_accs, erm_mean_accs)))\n",
    "median_list = list(itertools.chain(*zip(irm_median_accs, erm_median_accs)))\n",
    "label_list = (['irm'] + ['erm']) *  (len(mean_list) // 2)\n",
    "\n",
    "held_out_platform_list = []\n",
    "for platform in platforms:\n",
    "    p = [platform] * 2 * num_seeds\n",
    "    held_out_platform_list.extend(p)\n",
    "\n",
    "result_dict = {'mean_acc': mean_list, 'median_acc': median_list, 'irm/erm': label_list, \n",
    "               'held_out_platform': held_out_platform_list}\n",
    "result_df = pd.DataFrame(result_dict)"
   ]
  },
  {
   "cell_type": "code",
   "execution_count": 25,
   "metadata": {},
   "outputs": [
    {
     "data": {
      "image/png": "[encoded data removed]",
      "text/plain": [
       "<Figure size 640x480 with 1 Axes>"
      ]
     },
     "metadata": {},
     "output_type": "display_data"
    },
    {
     "data": {
      "text/plain": [
       "<ggplot: (8736886646957)>"
      ]
     },
     "execution_count": 25,
     "metadata": {},
     "output_type": "execute_result"
    }
   ],
   "source": [
    "(ggplot(result_df, aes('irm/erm', 'mean_acc', color='held_out_platform')) + \n",
    " geom_jitter() +\n",
    " ggtitle('Mean accuracies in IRM and ERM on tune set')\n",
    ")"
   ]
  },
  {
   "cell_type": "code",
   "execution_count": 26,
   "metadata": {},
   "outputs": [
    {
     "data": {
      "image/png": "[encoded data removed]",
      "text/plain": [
       "<Figure size 640x480 with 1 Axes>"
      ]
     },
     "metadata": {},
     "output_type": "display_data"
    },
    {
     "data": {
      "text/plain": [
       "<ggplot: (8736888759465)>"
      ]
     },
     "execution_count": 26,
     "metadata": {},
     "output_type": "execute_result"
    }
   ],
   "source": [
    "(ggplot(result_df, aes('irm/erm', 'mean_acc')) + \n",
    " geom_violin() +\n",
    " ggtitle('Mean accuracies in IRM and ERM on tune set')\n",
    ")"
   ]
  },
  {
   "cell_type": "code",
   "execution_count": 27,
   "metadata": {},
   "outputs": [
    {
     "data": {
      "image/png": "[encoded data removed]",
      "text/plain": [
       "<Figure size 640x480 with 1 Axes>"
      ]
     },
     "metadata": {},
     "output_type": "display_data"
    },
    {
     "data": {
      "text/plain": [
       "<ggplot: (8736888759341)>"
      ]
     },
     "execution_count": 27,
     "metadata": {},
     "output_type": "execute_result"
    }
   ],
   "source": [
    "(ggplot(result_df, aes('irm/erm', 'median_acc', color='held_out_platform')) + \n",
    "geom_jitter() +\n",
    "ggtitle('Median accuracies in ERM and IRM on tune set')\n",
    ")"
   ]
  },
  {
   "cell_type": "code",
   "execution_count": 28,
   "metadata": {},
   "outputs": [
    {
     "data": {
      "image/png": "[encoded data removed]",
      "text/plain": [
       "<Figure size 640x480 with 1 Axes>"
      ]
     },
     "metadata": {},
     "output_type": "display_data"
    },
    {
     "data": {
      "text/plain": [
       "<ggplot: (8736888759481)>"
      ]
     },
     "execution_count": 28,
     "metadata": {},
     "output_type": "execute_result"
    }
   ],
   "source": [
    "(ggplot(result_df, aes('irm/erm', 'median_acc')) + \n",
    "geom_violin() +\n",
    "ggtitle('Median accuracies in ERM and IRM on tune set')\n",
    ")"
   ]
  },
  {
   "cell_type": "code",
   "execution_count": null,
   "metadata": {},
   "outputs": [],
   "source": []
  }
 ],
 "metadata": {
  "kernelspec": {
   "display_name": "whistl",
   "language": "python",
   "name": "whistl"
  },
  "language_info": {
   "codemirror_mode": {
    "name": "ipython",
    "version": 3
   },
   "file_extension": ".py",
   "mimetype": "text/x-python",
   "name": "python",
   "nbconvert_exporter": "python",
   "pygments_lexer": "ipython3",
   "version": "3.7.4"
  }
 },
 "nbformat": 4,
 "nbformat_minor": 2
}
